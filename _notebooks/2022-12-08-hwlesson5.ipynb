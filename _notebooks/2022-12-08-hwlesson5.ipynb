{
 "cells": [
  {
   "cell_type": "markdown",
   "metadata": {},
   "source": [
    "# Lesson Five Homework\n",
    "\n",
    "> Lesson five hacks\n",
    "\n",
    "- title: Lesson Five Homework\n",
    "- toc: true\n",
    "- comments: true\n",
    "- permalink: /lessonfive/homework\n",
    "- image: /images/hw.jpg\n",
    "- categories: [week 15]"
   ]
  },
  {
   "cell_type": "markdown",
   "metadata": {},
   "source": [
    "# 3.9.1 Hacks:\n",
    "\n",
    "- why is it important to know that algorithms that look different can do the same thing and that algorithms that look the same might have different results?(0.15)\n",
    "- for the converted conditional to boolean conversion(0.10)\n",
    "- total: 0.25"
   ]
  },
  {
   "cell_type": "markdown",
   "metadata": {},
   "source": [
    "# Completion:\n",
    "\n",
    "1. It is important to know that algorithims that look different can do the same thing and that algorithims that look the same might have different results because users must look and examine algorithims carefully to predict the outcomes of algorithims. There is more than one way to create certain algorithims or algorithims may look the same and a person must be carefull not to make any assumptions.\n",
    "\n",
    "2. conditional to boolean below:"
   ]
  },
  {
   "cell_type": "code",
   "execution_count": 4,
   "metadata": {},
   "outputs": [
    {
     "name": "stdout",
     "output_type": "stream",
     "text": [
      "Take a shower!\n",
      "Take a shower!\n"
     ]
    }
   ],
   "source": [
    "sweaty = True\n",
    "dirty = False\n",
    "\n",
    "if sweaty == True:\n",
    "    print(\"Take a shower!\")\n",
    "\n",
    "else:\n",
    "    if dirty == True:\n",
    "        print(\"Take a shower!\")\n",
    "    \n",
    "    else: \n",
    "        print(\"No need to take a shower. You're clean!\")\n",
    "\n",
    "\n",
    "# second way!\n",
    "\n",
    "showering = dirty or sweaty \n",
    "if showering == True:\n",
    "    print(\"Take a shower!\")\n",
    "if showering == False:\n",
    "    print(\"No need to take a shower. You're clean!\")\n"
   ]
  },
  {
   "cell_type": "markdown",
   "metadata": {},
   "source": [
    "# 3.9.2 Hacks:\n",
    "\n",
    "Develop your own complex algorithm using a flowchart and natural language, then code it!\n",
    "\n",
    "Requirements:\n",
    "- Includes both a flowchart AND natural language\n",
    "- Working code of the same algorithm\n",
    "- Incorporates selection AND/OR iteration\n",
    "- Make it creative!\n",
    "\n",
    "Tips:\n",
    "- [This site](https://online.visual-paradigm.com/app/diagrams/#diagram:proj=0&type=Flowchart&width=11&height=8.5&unit=inch) is good for making flowcharts!\n",
    "- Natural language should just be a list\n",
    "- Think about the whole process, not just the end result\n"
   ]
  },
  {
   "cell_type": "markdown",
   "metadata": {},
   "source": [
    "# Completiom:\n",
    "\n",
    "### Flowchart\n",
    "<mark>Linked in review ticket</mark>\n",
    "\n",
    "### Natural Language:\n",
    "1. Start\n",
    "2. The number of miles left of gas is 30 miles.\n",
    "3. Ask if you would like to go to school.\n",
    "4. Do you have 5 or more miles of gas?\n",
    "5. Every trip to school is 5 miles. You go to school and lose 5 miles.\n",
    "6. How many miles of gas are left?\n",
    "8. Decide if you would like to go to school again.\n",
    "9. Repeat steps 3-6 until you are out of gas or you don't want to go to school again.\n",
    "10. State gas level.\n",
    "11. End"
   ]
  },
  {
   "cell_type": "code",
   "execution_count": 3,
   "metadata": {},
   "outputs": [
    {
     "name": "stdout",
     "output_type": "stream",
     "text": [
      "You have gone to school\n",
      "You now have  25  miles of gas left\n",
      "You have gone to school\n",
      "You now have  20  miles of gas left\n",
      "You have  20  miles of gas left\n"
     ]
    }
   ],
   "source": [
    "miles_of_gas = 30\n",
    "\n",
    "while miles_of_gas >= 5:\n",
    "    school = input(\"Would you like to go to school?\")\n",
    "    if school == \"yes\":\n",
    "        print(\"You have gone to school\")\n",
    "        miles_of_gas -= 5\n",
    "        print(\"You now have \", miles_of_gas, \" miles of gas left\")\n",
    "    else:\n",
    "        print(\"You have \", miles_of_gas, \" miles of gas left\")\n",
    "        miles_of_gas = 0\n",
    "\n",
    "\n"
   ]
  },
  {
   "cell_type": "markdown",
   "metadata": {},
   "source": [
    "# 3.9.3 Hacks:\n",
    "\n",
    "Fix the number guessing game\n",
    "1. Make a flow chart for the algorithm number guessing game\n",
    "2. Make a function that gets the user guess\n",
    "3. Modify the existing search function to give more encouraging feedback"
   ]
  },
  {
   "cell_type": "markdown",
   "metadata": {},
   "source": [
    "<mark>Flow chart linked in review ticket! </mark>"
   ]
  },
  {
   "cell_type": "code",
   "execution_count": 5,
   "metadata": {},
   "outputs": [
    {
     "name": "stdout",
     "output_type": "stream",
     "text": [
      "I'm thinking of a number between 0 and 100.\n",
      "You guessed 50.\n",
      "Your guess is too low\n",
      "Guess a number between 0 and 50.\n",
      "You guessed 50.\n",
      "Your guess is too low\n",
      "Guess a number between 0 and 50.\n",
      "You guessed 25.\n",
      "Your guess is too high\n",
      "Guess a number between 25 and 50.\n",
      "You guessed 35.\n",
      "Your guess is too low\n",
      "Guess a number between 25 and 35.\n",
      "You guessed 27.\n",
      "Your guess is too high\n",
      "Guess a number between 27 and 35.\n",
      "You guessed 30.\n",
      "Your guess is too high\n",
      "Guess a number between 30 and 35.\n",
      "You guessed 32.\n",
      "Your guess is too low\n",
      "Guess a number between 30 and 32.\n",
      "You guessed 31.\n",
      "You guessed the number in 8 guesses!\n"
     ]
    }
   ],
   "source": [
    "import random\n",
    "\n",
    "#sets variables for the game\n",
    "num_guesses = 0\n",
    "user_guess = -1\n",
    "upper_bound = 100\n",
    "lower_bound = 0\n",
    "\n",
    "#generates a random number\n",
    "number = random.randint(0,100)\n",
    "\n",
    "# print(number)     #for testing purposes\n",
    "\n",
    "print(f\"I'm thinking of a number between 0 and 100.\")\n",
    "\n",
    "#Write a function that gets a guess from the user using input()\n",
    "def guess():\n",
    "    userguess = input(\"Choose a number!\")\n",
    "    return userguess\n",
    "\n",
    "#Change the print statements to give feedback on whether the player guessed too high or too low\n",
    "def search(number, guess):\n",
    "    global lower_bound, upper_bound\n",
    "    if int(guess) < int(number):\n",
    "        print(\"Your guess is too high\") \n",
    "        lower_bound = guess\n",
    "        return lower_bound, upper_bound\n",
    "    elif int(guess) > int(number):\n",
    "        print(\"Your guess is too low\")\n",
    "        upper_bound = guess\n",
    "        return lower_bound, upper_bound\n",
    "    else:\n",
    "        upper_bound, lower_bound = guess, guess\n",
    "        return lower_bound, upper_bound \n",
    "\n",
    "while user_guess != number:\n",
    "    user_guess = guess()\n",
    "    num_guesses += 1\n",
    "    print(f\"You guessed {user_guess}.\")\n",
    "    lower_bound, upper_bound = search(number, user_guess)\n",
    "    if int(upper_bound) == int(number):\n",
    "        break\n",
    "    else:\n",
    "        print(f\"Guess a number between {lower_bound} and {upper_bound}.\")\n",
    "\n",
    "print(f\"You guessed the number in {num_guesses} guesses!\")"
   ]
  },
  {
   "cell_type": "markdown",
   "metadata": {},
   "source": [
    "# 3.11 Hacks:\n",
    "\n",
    "\n",
    "1. calculate the middle index and create a binary tree for each of these lists\n",
    "    - 12, 14, 43, 57, 79, 80, 99\n",
    "    - 92, 43, 74, 66, 30, 12, 1\n",
    "    - 7, 13, 96, 111, 33, 84, 60\n",
    "2. Using one of the sets of numbers from the question above, what would be the second number looked at in a binary search if the number is more than the middle number?\n",
    "3. Which of the following lists can NOT a binary search be used in order to find a targeted value?\n",
    "\n",
    "    a. [\"amy\", \"beverly\", \"christian\", \"devin\"]\n",
    "\n",
    "    b. [-1, 2, 6, 9, 19]\n",
    "\n",
    "    <mark>c. [3, 2, 8, 12, 99]</mark>\n",
    "    \n",
    "    d. [\"xylophone\", \"snowman\", \"snake\", \"doorbell\", \"author\"]"
   ]
  },
  {
   "cell_type": "markdown",
   "metadata": {},
   "source": [
    "# Hacks 3 Work:\n",
    "1. Below"
   ]
  },
  {
   "cell_type": "code",
   "execution_count": 7,
   "metadata": {},
   "outputs": [
    {
     "name": "stdout",
     "output_type": "stream",
     "text": [
      "The first middle index is:  57\n"
     ]
    }
   ],
   "source": [
    "listone = [12, 14, 43, 57, 79, 80, 99]\n",
    "\n",
    "middle = listone[int(len(listone)/2)]\n",
    "print(\"The first middle index is: \", middle)"
   ]
  },
  {
   "cell_type": "markdown",
   "metadata": {},
   "source": [
    "<mark>My binary tree is linked in my review ticket</mark>"
   ]
  },
  {
   "cell_type": "code",
   "execution_count": 9,
   "metadata": {},
   "outputs": [
    {
     "name": "stdout",
     "output_type": "stream",
     "text": [
      "[1, 12, 30, 43, 66, 74, 92]\n",
      "The second middle index is:  43\n"
     ]
    }
   ],
   "source": [
    "listtwo = [92,43,74,66,30,12,1]\n",
    "\n",
    "listtwo.sort() #puts list in order\n",
    "\n",
    "print(listtwo)\n",
    "\n",
    "middle = listtwo[int(len(listtwo)/2)]\n",
    "print(\"The second middle index is: \", middle)"
   ]
  },
  {
   "cell_type": "markdown",
   "metadata": {},
   "source": [
    "<mark>My binary tree is linked in my review ticket</mark>"
   ]
  },
  {
   "cell_type": "code",
   "execution_count": 11,
   "metadata": {},
   "outputs": [
    {
     "name": "stdout",
     "output_type": "stream",
     "text": [
      "[7, 13, 33, 60, 84, 96, 111]\n",
      "The third middle index is:  60\n"
     ]
    }
   ],
   "source": [
    "listthree = [7, 13, 96, 111, 33, 84, 60]\n",
    "\n",
    "listthree.sort() #puts list in order\n",
    "\n",
    "print(listthree)\n",
    "\n",
    "middle = listthree[int(len(listthree)/2)]\n",
    "print(\"The third middle index is: \", middle)"
   ]
  },
  {
   "cell_type": "markdown",
   "metadata": {},
   "source": [
    "2. \n",
    "    1. In the this list of numbers: 12, 14, 43, 57, 79, 80, 99:\n",
    "    The second number looked at in a binary search if the number is more than the middle number would be <mark>80</mark>.\n",
    "    2. Second list: 1, 12, 30, 43, 66, 74, 92:\n",
    "    The second number looked at would be <mark>74</mark>.\n",
    "    3. Third list: 7, 13, 33, 60, 84, 96, 111\n",
    "    The second number looked at would be <mark>96</mark>\n",
    "3. The answer is <mark>C</mark> because the list is unsorted. In order to use the binary search, a user would have to sort the list like I have with the lists above."
   ]
  }
 ],
 "metadata": {
  "kernelspec": {
   "display_name": "Python 3.8.10 64-bit",
   "language": "python",
   "name": "python3"
  },
  "language_info": {
   "codemirror_mode": {
    "name": "ipython",
    "version": 3
   },
   "file_extension": ".py",
   "mimetype": "text/x-python",
   "name": "python",
   "nbconvert_exporter": "python",
   "pygments_lexer": "ipython3",
   "version": "3.8.10"
  },
  "orig_nbformat": 4,
  "vscode": {
   "interpreter": {
    "hash": "916dbcbb3f70747c44a77c7bcd40155683ae19c65e1c03b4aa3499c5328201f1"
   }
  }
 },
 "nbformat": 4,
 "nbformat_minor": 2
}
