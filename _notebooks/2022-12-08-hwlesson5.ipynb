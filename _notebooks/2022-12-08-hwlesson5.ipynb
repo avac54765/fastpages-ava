{
 "cells": [
  {
   "cell_type": "markdown",
   "metadata": {},
   "source": [
    "# Lesson Five Homework\n",
    "\n",
    "> Lesson five hacks\n",
    "\n",
    "- title: Lesson Five Homework\n",
    "- toc: true\n",
    "- comments: true\n",
    "- permalink: /lessonfive/homework\n",
    "- image: /images/hw.jpg\n",
    "- categories: [week 15]"
   ]
  },
  {
   "cell_type": "markdown",
   "metadata": {},
   "source": [
    "# 3.9.1 Hacks:\n",
    "\n",
    "- why is it important to know that algorithms that look different can do the same thing and that algorithms that look the same might have different results?(0.15)\n",
    "- for the converted conditional to boolean conversion(0.10)\n",
    "- total: 0.25"
   ]
  },
  {
   "cell_type": "markdown",
   "metadata": {},
   "source": [
    "# Completion:\n",
    "\n",
    "1. It is important to know that algorithims that look different can do the same thing and that algorithims that look the same might have different results because users must look and examine algorithims carefully to predict the outcomes of algorithims. There is more than one way to create certain algorithims or algorithims may look the same and a person must be carefull not to make any assumptions.\n",
    "\n",
    "2. conditional to boolean below:"
   ]
  },
  {
   "cell_type": "code",
   "execution_count": 1,
   "metadata": {},
   "outputs": [
    {
     "name": "stdout",
     "output_type": "stream",
     "text": [
      "Take a shower!\n"
     ]
    }
   ],
   "source": [
    "sweaty = True\n",
    "dirty = False\n",
    "\n",
    "if sweaty == True:\n",
    "    print(\"Take a shower!\")\n",
    "\n",
    "else:\n",
    "    if dirty == True:\n",
    "        print(\"Take a shower!\")\n",
    "    \n",
    "    else: \n",
    "        print(\"No need to take a shower. You're clean!\")"
   ]
  },
  {
   "cell_type": "markdown",
   "metadata": {},
   "source": [
    "# 3.9.2 Hacks:\n",
    "\n",
    "Develop your own complex algorithm using a flowchart and natural language, then code it!\n",
    "\n",
    "Requirements:\n",
    "- Includes both a flowchart AND natural language\n",
    "- Working code of the same algorithm\n",
    "- Incorporates selection AND/OR iteration\n",
    "- Make it creative!\n",
    "\n",
    "Tips:\n",
    "- [This site](https://online.visual-paradigm.com/app/diagrams/#diagram:proj=0&type=Flowchart&width=11&height=8.5&unit=inch) is good for making flowcharts!\n",
    "- Natural language should just be a list\n",
    "- Think about the whole process, not just the end result\n"
   ]
  },
  {
   "cell_type": "markdown",
   "metadata": {},
   "source": [
    "# Completiom:\n",
    "\n",
    "### Natural Language:\n",
    "1. Start\n",
    "2. The number of miles left of gas is 30 miles.\n",
    "3. Ask if you would like to go to school.\n",
    "4. Every trip to school is 5 miles. You go to school and lose 5 miles.\n",
    "5. How many miles of gas are left?\n",
    "6. How many miles of gas are left?\n",
    "7. Decide if you would like to go to school again.\n",
    "8. Repeat steps 3-6 until you are out of gas or you don't want to go to school again.\n",
    "9. State gas level.\n",
    "10. End"
   ]
  },
  {
   "cell_type": "code",
   "execution_count": 3,
   "metadata": {},
   "outputs": [
    {
     "name": "stdout",
     "output_type": "stream",
     "text": [
      "You have gone to school\n",
      "You now have  25  miles of gas left\n",
      "You have gone to school\n",
      "You now have  20  miles of gas left\n",
      "You have  20  miles of gas left\n"
     ]
    }
   ],
   "source": [
    "miles_of_gas = 30\n",
    "\n",
    "while miles_of_gas >= 5:\n",
    "    school = input(\"Would you like to go to school?\")\n",
    "    if school == \"yes\":\n",
    "        print(\"You have gone to school\")\n",
    "        miles_of_gas -= 5\n",
    "        print(\"You now have \", miles_of_gas, \" miles of gas left\")\n",
    "    else:\n",
    "        print(\"You have \", miles_of_gas, \" miles of gas left\")\n",
    "        miles_of_gas = 0\n",
    "\n",
    "\n"
   ]
  },
  {
   "cell_type": "markdown",
   "metadata": {},
   "source": [
    "# 3.9.3 Hacks:\n",
    "\n",
    "Fix the number guessing game\n",
    "1. Make a flow chart for the algorithm number guessing game\n",
    "2. Make a function that gets the user guess\n",
    "3. Modify the existing search function to give more encouraging feedback"
   ]
  },
  {
   "cell_type": "markdown",
   "metadata": {},
   "source": [
    "# 3.11 Hacks:\n",
    "\n",
    "\n",
    "1. calculate the middle index and create a binary tree for each of these lists\n",
    "    - 12, 14, 43, 57, 79, 80, 99\n",
    "    - 92, 43, 74, 66, 30, 12, 1\n",
    "    - 7, 13, 96, 111, 33, 84, 60\n",
    "2. Using one of the sets of numbers from the question above, what would be the second number looked at in a binary search if the number is more than the middle number?\n",
    "3. Which of the following lists can NOT a binary search be used in order to find a targeted value?\n",
    "\n",
    "    a. [\"amy\", \"beverly\", \"christian\", \"devin\"]\n",
    "\n",
    "    b. [-1, 2, 6, 9, 19]\n",
    "\n",
    "    c. [3, 2, 8, 12, 99]\n",
    "    \n",
    "    d. [\"xylophone\", \"snowman\", \"snake\", \"doorbell\", \"author\"]"
   ]
  }
 ],
 "metadata": {
  "kernelspec": {
   "display_name": "Python 3.8.10 64-bit",
   "language": "python",
   "name": "python3"
  },
  "language_info": {
   "codemirror_mode": {
    "name": "ipython",
    "version": 3
   },
   "file_extension": ".py",
   "mimetype": "text/x-python",
   "name": "python",
   "nbconvert_exporter": "python",
   "pygments_lexer": "ipython3",
   "version": "3.8.10"
  },
  "orig_nbformat": 4,
  "vscode": {
   "interpreter": {
    "hash": "916dbcbb3f70747c44a77c7bcd40155683ae19c65e1c03b4aa3499c5328201f1"
   }
  }
 },
 "nbformat": 4,
 "nbformat_minor": 2
}
