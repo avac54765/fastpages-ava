{
 "cells": [
  {
   "cell_type": "markdown",
   "metadata": {},
   "source": [
    "# Key Tools Check\n",
    "\n",
    "> This is my tools check page to ensure that I have all of the necessary tools installed on my machine. These tools include Python, \n",
    "\n",
    "- toc: true\n",
    "- comments: true\n",
    "- permalink: /tools_check/bash\n",
    "- image: /images/computer tool check image.webp\n",
    "- categories: [week one]"
   ]
  },
  {
   "cell_type": "code",
   "execution_count": null,
   "metadata": {
    "vscode": {
     "languageId": "shellscript"
    }
   },
   "outputs": [],
   "source": []
  }
 ],
 "metadata": {
  "kernelspec": {
   "display_name": "Bash",
   "language": "bash",
   "name": "bash"
  },
  "language_info": {
   "name": "bash"
  },
  "orig_nbformat": 4
 },
 "nbformat": 4,
 "nbformat_minor": 2
}
