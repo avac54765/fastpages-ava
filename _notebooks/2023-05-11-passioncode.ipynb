{
 "cells": [
  {
   "attachments": {},
   "cell_type": "markdown",
   "metadata": {},
   "source": [
    "# Passion Project Code\n",
    "\n",
    "- toc: true\n",
    "- comments: true\n",
    "- permalink: /passion/code\n",
    "- categories: [week 33, project, planning]"
   ]
  },
  {
   "cell_type": "code",
   "execution_count": 1,
   "metadata": {},
   "outputs": [
    {
     "name": "stdout",
     "output_type": "stream",
     "text": [
      "{'status': 403, 'message': 'Client is required - visit \"https://seatgeek.com/account/develop\"', 'errors': [{'message': 'Client is required - visit \"https://seatgeek.com/account/develop\"', 'code': 40307}], 'meta': {'status': 403}}\n"
     ]
    }
   ],
   "source": [
    "import requests\n",
    "\n",
    "url = \"https://seatgeek-seatgeekcom.p.rapidapi.com/events\"\n",
    "\n",
    "headers = {\n",
    "\t\"X-RapidAPI-Key\": \"7b146afe20msh92e84c02ae27c6ap1185b5jsnb7a574f24cbe\",\n",
    "\t\"X-RapidAPI-Host\": \"seatgeek-seatgeekcom.p.rapidapi.com\"\n",
    "}\n",
    "\n",
    "response = requests.get(url, headers=headers)\n",
    "\n",
    "print(response.json())"
   ]
  }
 ],
 "metadata": {
  "kernelspec": {
   "display_name": "base",
   "language": "python",
   "name": "python3"
  },
  "language_info": {
   "codemirror_mode": {
    "name": "ipython",
    "version": 3
   },
   "file_extension": ".py",
   "mimetype": "text/x-python",
   "name": "python",
   "nbconvert_exporter": "python",
   "pygments_lexer": "ipython3",
   "version": "3.9.12"
  },
  "orig_nbformat": 4
 },
 "nbformat": 4,
 "nbformat_minor": 2
}
