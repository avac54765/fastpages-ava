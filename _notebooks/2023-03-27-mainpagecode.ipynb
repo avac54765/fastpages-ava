{
 "cells": [
  {
   "attachments": {},
   "cell_type": "markdown",
   "metadata": {},
   "source": [
    "# Main Page Code for Tri 3 Team Project\n",
    "> Code and ideas for main page Tri 3 Project\n",
    "\n",
    "- toc: true\n",
    "- comments: true\n",
    "- permalink: /mainpage/plan\n",
    "- categories: [project, planning, week 28]"
   ]
  },
  {
   "attachments": {},
   "cell_type": "markdown",
   "metadata": {},
   "source": [
    "# Outline\n",
    "\n",
    "![main_lesson_page_planning_720](https://user-images.githubusercontent.com/111486111/229611590-2dd4fe49-c11d-41de-9311-ccb6430596be.png)\n"
   ]
  },
  {
   "attachments": {},
   "cell_type": "markdown",
   "metadata": {},
   "source": [
    "Speaker Roles:\n",
    "\n",
    "Binary: Ananya\n",
    "Truth Tables: Theo\n",
    "Binary Conversions: Samarth\n",
    "Binary Search: Haseeb\n",
    "Hacks: Ava and Alexa (recording)\n"
   ]
  },
  {
   "attachments": {},
   "cell_type": "markdown",
   "metadata": {},
   "source": [
    "Grading Plan:\n",
    "\n",
    "Hacks: total 1/1\n",
    "\n",
    "notetaker: 0.1\n",
    "Quiz: 0.2\n",
    "conversions practice: 0.3\n",
    "binary search questions: 0.3\n",
    "\n",
    "for conversions and binary search: if incorrect but completed= 0.2 each\n",
    "if any section not complete= no points\n",
    "\n",
    "extra credit opportunity:\n",
    "translate to octal (show work and explain thought process so no translator) 0.1"
   ]
  },
  {
   "attachments": {},
   "cell_type": "markdown",
   "metadata": {},
   "source": [
    "# Binary \n",
    "\n",
    "### What is Binary?\n",
    " - According to [Computer Hope](https://www.computerhope.com/jargon/b/binary.htm): <mark>Binary is a base-2 number system</mark> invented by Gottfried Leibniz that's made up of <mark>only two numbers or digits: 0 and 1.</mark> This numbering system is the basis for all binary code, which writes digital data such as the computer processor instructions **used with your devices every day.**\n",
    "\n",
    " - 0 = represents OFF\n",
    " - 1 = represents ON\n",
    " \n",
    "\n",
    "### Fun Fact! Connections with Binary\n",
    "![power button](https://user-images.githubusercontent.com/111486111/229915329-cc5e5c3b-cfd7-4313-8c57-f2a02e36c3bb.png)\n",
    "\n",
    "Do you see how the iconic power button is comprised of a zero and a one? The zero represents the device being off, and the one represents the device being on.\n",
    " "
   ]
  },
  {
   "attachments": {},
   "cell_type": "markdown",
   "metadata": {},
   "source": [
    "### Counting with Binary\n",
    "\n"
   ]
  },
  {
   "attachments": {},
   "cell_type": "markdown",
   "metadata": {},
   "source": [
    "# Boolean Expressions\n",
    "> definition here"
   ]
  },
  {
   "attachments": {},
   "cell_type": "markdown",
   "metadata": {},
   "source": [
    "# How is Binary Related to Boolean Expressions?\n",
    "\n",
    "<mark>Binary and Boolean expressions</mark> are closely related because Boolean expressions are typically used to evaluate binary values, which can either be true or false (1 or 0).\n",
    "\n",
    "Binary values are used to represent information. Boolean expressions are used to express the logical operations performed on these binary values(AND, OR, and NOT). \n",
    "\n",
    "|Operator|\tLogical Operation|\n",
    "|---|---|\n",
    "|and\t|Conjunction|\n",
    "|or\t|Disjunction|\n",
    "|not\t|Negation|\n",
    "\n",
    "# Truth Tables\n",
    "\n",
    "<mark>Truth tables</mark> represent the possible inputs and outputs of the logical operations of AND, OR, and NOT.\n",
    "\n"
   ]
  },
  {
   "cell_type": "code",
   "execution_count": 1,
   "metadata": {},
   "outputs": [
    {
     "data": {
      "text/plain": [
       "True"
      ]
     },
     "execution_count": 1,
     "metadata": {},
     "output_type": "execute_result"
    }
   ],
   "source": [
    "# Boolean expression examples AND\n",
    "\n",
    "5 > 3 and 5 == 3 + 2"
   ]
  },
  {
   "cell_type": "code",
   "execution_count": 6,
   "metadata": {},
   "outputs": [
    {
     "data": {
      "text/plain": [
       "False"
      ]
     },
     "execution_count": 6,
     "metadata": {},
     "output_type": "execute_result"
    }
   ],
   "source": [
    "\n",
    "5 < 3 and 5 == 5"
   ]
  },
  {
   "cell_type": "code",
   "execution_count": 10,
   "metadata": {},
   "outputs": [
    {
     "data": {
      "text/plain": [
       "True"
      ]
     },
     "execution_count": 10,
     "metadata": {},
     "output_type": "execute_result"
    }
   ],
   "source": [
    "# Boolean expressions OR\n",
    "\n",
    "5 == 5 or 5 != 5"
   ]
  },
  {
   "cell_type": "code",
   "execution_count": 11,
   "metadata": {},
   "outputs": [
    {
     "data": {
      "text/plain": [
       "False"
      ]
     },
     "execution_count": 11,
     "metadata": {},
     "output_type": "execute_result"
    }
   ],
   "source": [
    "\n",
    "5 < 3 or 5 != 5"
   ]
  },
  {
   "cell_type": "code",
   "execution_count": 9,
   "metadata": {},
   "outputs": [
    {
     "name": "stdout",
     "output_type": "stream",
     "text": [
      "AND:\n",
      "0 AND 0 = 0\n",
      "0 AND 1 = 0\n",
      "1 AND 0 = 0\n",
      "1 AND 1 = 1\n",
      "OR:\n",
      "0 OR 0 = 0\n",
      "0 OR 1 = 1\n",
      "1 OR 0 = 1\n",
      "1 OR 1 = 1\n"
     ]
    }
   ],
   "source": [
    "# Further Examples \n",
    "\n",
    "inputs = [(0, 0), (0, 1), (1, 0), (1, 1)]\n",
    "\n",
    "# Define the functions\n",
    "def logical_and(a, b):\n",
    "    return a and b\n",
    "\n",
    "def logical_or(a, b):\n",
    "    return a or b\n",
    "\n",
    "def logical_not(a):\n",
    "    return not a\n",
    "\n",
    "print(\"AND:\")\n",
    "for a, b in inputs:\n",
    "    result = logical_and(a, b)\n",
    "    print(f\"{a} AND {b} = {result}\")\n",
    "print(\"OR:\")\n",
    "for a, b in inputs:\n",
    "    result = logical_or(a, b)\n",
    "    print(f\"{a} OR {b} = {result}\")"
   ]
  },
  {
   "attachments": {},
   "cell_type": "markdown",
   "metadata": {},
   "source": [
    "# Real life examples\n",
    "> The following examples use boolean expressions to decide whether someone is eligible to vote or not (true= old enough, false= not old enough)"
   ]
  },
  {
   "cell_type": "code",
   "execution_count": 3,
   "metadata": {},
   "outputs": [
    {
     "name": "stdout",
     "output_type": "stream",
     "text": [
      "You are eligible to vote.\n"
     ]
    }
   ],
   "source": [
    "age = 18\n",
    "citizen = True\n",
    "\n",
    "if age >= 18 and citizen:\n",
    "    print(\"You are eligible to vote.\")\n",
    "else:\n",
    "    print(\"You are not eligible to vote.\")"
   ]
  }
 ],
 "metadata": {
  "kernelspec": {
   "display_name": "base",
   "language": "python",
   "name": "python3"
  },
  "language_info": {
   "codemirror_mode": {
    "name": "ipython",
    "version": 3
   },
   "file_extension": ".py",
   "mimetype": "text/x-python",
   "name": "python",
   "nbconvert_exporter": "python",
   "pygments_lexer": "ipython3",
   "version": "3.9.12"
  },
  "orig_nbformat": 4,
  "vscode": {
   "interpreter": {
    "hash": "42f5b33b11979b14a25dfc2f7d362d646347e4d4086716ced9af4a87716b166a"
   }
  }
 },
 "nbformat": 4,
 "nbformat_minor": 2
}
