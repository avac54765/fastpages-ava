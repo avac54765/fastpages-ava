{
 "cells": [
  {
   "attachments": {},
   "cell_type": "markdown",
   "metadata": {},
   "source": [
    "# Main Page Code for Tri 3 Team Project\n",
    "> Code and ideas for main page Tri 3 Project\n",
    "\n",
    "- toc: true\n",
    "- comments: true\n",
    "- permalink: /mainpage/plan\n",
    "- categories: [project, planning, week 28]"
   ]
  },
  {
   "cell_type": "code",
   "execution_count": null,
   "metadata": {},
   "outputs": [],
   "source": [
    "# Truth table code"
   ]
  }
 ],
 "metadata": {
  "language_info": {
   "name": "python"
  },
  "orig_nbformat": 4
 },
 "nbformat": 4,
 "nbformat_minor": 2
}
