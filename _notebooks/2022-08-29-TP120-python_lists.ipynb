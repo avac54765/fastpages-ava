{
 "cells": [
  {
   "cell_type": "markdown",
   "metadata": {},
   "source": [
    "# Making Lists, Dictionaries, Iteration\n",
    "> Trying out Python Lists [] and Python Dictionaries {}.\n",
    "\n",
    "- title: Making Lists, Dictionaries, Iteration\n",
    "- toc: true\n",
    "- comments: true\n",
    "- permalink: /lists_and_dictionaries/python\n",
    "- image: /images/lists.jpeg\n",
    "- categories: [week 2]"
   ]
  },
  {
   "cell_type": "markdown",
   "metadata": {},
   "source": [
    "### Making a List with Dictionaries\n",
    "- This is my list of keys and values describing my sister and me. I define these keys and values for future use in my loops."
   ]
  },
  {
   "cell_type": "code",
   "execution_count": 4,
   "metadata": {},
   "outputs": [
    {
     "name": "stdout",
     "output_type": "stream",
     "text": [
      "[{'FirstName': 'Ava', 'LastName': 'Carlson', 'DOB': 'May 16', 'Residence': 'San Diego', 'Email': 'avabrynncheer@gmail.com', 'FavFoods': ['mac and cheese', 'strawberries', 'chocolate'], 'FamilyNames': ['Neil', 'Leslie', 'Dylan', 'Grant', 'Alexa', 'Ava']}, {'FirstName': 'Alexa', 'LastName': 'Carlson', 'DOB': 'May 16', 'Residence': 'San Diego', 'Email': 'alexarosecarlson@icould.com', 'FavFoods': ['pineapple', 'pasta', 'ice cream'], 'FamilyNames': ['Neil', 'Leslie', 'Dylan', 'Grant', 'Alexa', 'Ava']}]\n"
     ]
    }
   ],
   "source": [
    "# Defining avalist as a list\n",
    "avalist = []\n",
    "\n",
    "# Append to list a dictionary of keys and values about Ava\n",
    "avalist.append({\n",
    "    \"FirstName\": \"Ava\",\n",
    "    \"LastName\": \"Carlson\",\n",
    "    \"DOB\": \"May 16\",\n",
    "    \"Residence\": \"San Diego\",\n",
    "    \"Email\": \"avabrynncheer@gmail.com\",\n",
    "    \"FavFoods\": [\"mac and cheese\", \"strawberries\", \"chocolate\"],\n",
    "    \"FamilyNames\": [\"Neil\", \"Leslie\", \"Dylan\", \"Grant\", \"Alexa\", \"Ava\"]\n",
    "})\n",
    "\n",
    "# Append to list a 2nd Dictionary of key/values about Alexa\n",
    "avalist.append({\n",
    "    \"FirstName\": \"Alexa\",\n",
    "    \"LastName\": \"Carlson\",\n",
    "    \"DOB\": \"May 16\",\n",
    "    \"Residence\": \"San Diego\",\n",
    "    \"Email\": \"alexarosecarlson@icould.com\",\n",
    "    \"FavFoods\": [\"pineapple\", \"pasta\", \"ice cream\"],\n",
    "    \"FamilyNames\": [\"Neil\", \"Leslie\", \"Dylan\", \"Grant\", \"Alexa\", \"Ava\"]\n",
    "})\n",
    "\n",
    "# Print avalist\n",
    "print(avalist)"
   ]
  },
  {
   "cell_type": "markdown",
   "metadata": {},
   "source": [
    "### Making a Loop\n",
    "- In this loop, I am having the function print line by line each key and value."
   ]
  },
  {
   "cell_type": "code",
   "execution_count": 26,
   "metadata": {},
   "outputs": [
    {
     "name": "stdout",
     "output_type": "stream",
     "text": [
      "For loop output\n",
      "\n",
      "Ava Carlson\n",
      "\t Birth Day: May 16\n",
      "\t Residence: San Diego\n",
      "\t Email: avabrynncheer@gmail.com\n",
      "\t Favorite Foods: mac and cheese, strawberries, chocolate\n",
      "\t Family Names: Neil, Leslie, Dylan, Grant, Alexa, Ava\n",
      "\n",
      "Alexa Carlson\n",
      "\t Birth Day: May 16\n",
      "\t Residence: San Diego\n",
      "\t Email: alexarosecarlson@icould.com\n",
      "\t Favorite Foods: pineapple, pasta, ice cream\n",
      "\t Family Names: Neil, Leslie, Dylan, Grant, Alexa, Ava\n",
      "\n"
     ]
    }
   ],
   "source": [
    "# print function: given dictionary of avalist content\n",
    "def print_data(d_rec):\n",
    "    print(d_rec[\"FirstName\"], d_rec[\"LastName\"])  \n",
    "    print(\"\\t\", \"Birth Day:\", d_rec[\"DOB\"]) # adding an indent\n",
    "    print(\"\\t\", \"Residence:\", d_rec[\"Residence\"]) \n",
    "    print(\"\\t\", \"Email:\", d_rec[\"Email\"])\n",
    "    print(\"\\t\", \"Favorite Foods: \", end=\"\") \n",
    "    print(\", \".join(d_rec[\"FavFoods\"]))  # join prints values together\n",
    "    print(\"\\t\", \"Family Names: \", end=\"\" )\n",
    "    print(\", \".join(d_rec[\"FamilyNames\"]))\n",
    "    print()\n",
    "\n",
    "\n",
    "\n",
    "def for_loop():\n",
    "    print(\"For loop output\\n\")\n",
    "    for record in(avalist):\n",
    "        print_data(record)\n",
    "\n",
    "for_loop()"
   ]
  },
  {
   "cell_type": "markdown",
   "metadata": {},
   "source": [
    "### Reversing my Loop\n",
    "- I reveresed my loop here by adding \"reversed\" in front of my list when prompted to print."
   ]
  },
  {
   "cell_type": "code",
   "execution_count": 29,
   "metadata": {},
   "outputs": [
    {
     "name": "stdout",
     "output_type": "stream",
     "text": [
      "For loop output reversed\n",
      "\n",
      "Alexa Carlson\n",
      "\t Birth Day: May 16\n",
      "\t Residence: San Diego\n",
      "\t Email: alexarosecarlson@icould.com\n",
      "\t Favorite Foods: pineapple, pasta, ice cream\n",
      "\t Family Names: Neil, Leslie, Dylan, Grant, Alexa, Ava\n",
      "\n",
      "Ava Carlson\n",
      "\t Birth Day: May 16\n",
      "\t Residence: San Diego\n",
      "\t Email: avabrynncheer@gmail.com\n",
      "\t Favorite Foods: mac and cheese, strawberries, chocolate\n",
      "\t Family Names: Neil, Leslie, Dylan, Grant, Alexa, Ava\n",
      "\n"
     ]
    }
   ],
   "source": [
    "# print function: given dictionary of avalist content\n",
    "def print_data(d_rec):\n",
    "    print(d_rec[\"FirstName\"], d_rec[\"LastName\"])  \n",
    "    print(\"\\t\", \"Birth Day:\", d_rec[\"DOB\"]) # adding an indent\n",
    "    print(\"\\t\", \"Residence:\", d_rec[\"Residence\"]) \n",
    "    print(\"\\t\", \"Email:\", d_rec[\"Email\"])\n",
    "    print(\"\\t\", \"Favorite Foods: \", end=\"\") \n",
    "    print(\", \".join(d_rec[\"FavFoods\"]))  # join prints values together\n",
    "    print(\"\\t\", \"Family Names: \", end=\"\" )\n",
    "    print(\", \".join(d_rec[\"FamilyNames\"]))\n",
    "    print()\n",
    "\n",
    "\n",
    "def for_loop():\n",
    "    print(\"For loop output reversed\\n\")\n",
    "    for record in reversed(avalist): #adding reversed reverses the records listed\n",
    "        print_data(record)\n",
    "\n",
    "for_loop()"
   ]
  },
  {
   "cell_type": "markdown",
   "metadata": {},
   "source": [
    "### Making a While Loop\n",
    "- In this loop, I am defining a variable and while the variable is less than the length of my list, the funtion will continue to run."
   ]
  },
  {
   "cell_type": "code",
   "execution_count": 30,
   "metadata": {},
   "outputs": [
    {
     "name": "stdout",
     "output_type": "stream",
     "text": [
      "While loop output\n",
      "\n",
      "Ava Carlson\n",
      "\t Birth Day: May 16\n",
      "\t Residence: San Diego\n",
      "\t Email: avabrynncheer@gmail.com\n",
      "\t Favorite Foods: mac and cheese, strawberries, chocolate\n",
      "\t Family Names: Neil, Leslie, Dylan, Grant, Alexa, Ava\n",
      "\n",
      "Alexa Carlson\n",
      "\t Birth Day: May 16\n",
      "\t Residence: San Diego\n",
      "\t Email: alexarosecarlson@icould.com\n",
      "\t Favorite Foods: pineapple, pasta, ice cream\n",
      "\t Family Names: Neil, Leslie, Dylan, Grant, Alexa, Ava\n",
      "\n"
     ]
    }
   ],
   "source": [
    "def while_loop():\n",
    "    print(\"While loop output\\n\")\n",
    "    i = 0\n",
    "    while i < len(avalist): #len= the length of my list\n",
    "        record = avalist[i]\n",
    "        print_data(record)\n",
    "        i += 1\n",
    "    return\n",
    "\n",
    "while_loop()"
   ]
  },
  {
   "cell_type": "markdown",
   "metadata": {},
   "source": [
    "### Reversing my While Loop\n",
    "- I reversed this loop by switching my variable for i, and making the function subtract one from i every loop to condown instead of up."
   ]
  },
  {
   "cell_type": "code",
   "execution_count": 31,
   "metadata": {},
   "outputs": [
    {
     "name": "stdout",
     "output_type": "stream",
     "text": [
      "While loop output\n",
      "\n",
      "Alexa Carlson\n",
      "\t Birth Day: May 16\n",
      "\t Residence: San Diego\n",
      "\t Email: alexarosecarlson@icould.com\n",
      "\t Favorite Foods: pineapple, pasta, ice cream\n",
      "\t Family Names: Neil, Leslie, Dylan, Grant, Alexa, Ava\n",
      "\n",
      "Ava Carlson\n",
      "\t Birth Day: May 16\n",
      "\t Residence: San Diego\n",
      "\t Email: avabrynncheer@gmail.com\n",
      "\t Favorite Foods: mac and cheese, strawberries, chocolate\n",
      "\t Family Names: Neil, Leslie, Dylan, Grant, Alexa, Ava\n",
      "\n"
     ]
    }
   ],
   "source": [
    "def while_loop():\n",
    "    print(\"While loop output\\n\")\n",
    "    i = len(avalist) #the function starts at the length of my list\n",
    "    while i > 0:\n",
    "        record = avalist[i-1]\n",
    "        print_data(record)\n",
    "        i -= 1 #here the loop is counting down\n",
    "    return\n",
    "\n",
    "while_loop()\n"
   ]
  },
  {
   "cell_type": "markdown",
   "metadata": {},
   "source": [
    "### Making a Recursion loop\n",
    "- In this loop, I am plugging in a term (the number record) into my function so the function can print its data. The term plugged in will increase every time the function loops."
   ]
  },
  {
   "cell_type": "code",
   "execution_count": 32,
   "metadata": {},
   "outputs": [
    {
     "name": "stdout",
     "output_type": "stream",
     "text": [
      "Recursive loop output\n",
      "\n",
      "Ava Carlson\n",
      "\t Birth Day: May 16\n",
      "\t Residence: San Diego\n",
      "\t Email: avabrynncheer@gmail.com\n",
      "\t Favorite Foods: mac and cheese, strawberries, chocolate\n",
      "\t Family Names: Neil, Leslie, Dylan, Grant, Alexa, Ava\n",
      "\n",
      "Alexa Carlson\n",
      "\t Birth Day: May 16\n",
      "\t Residence: San Diego\n",
      "\t Email: alexarosecarlson@icould.com\n",
      "\t Favorite Foods: pineapple, pasta, ice cream\n",
      "\t Family Names: Neil, Leslie, Dylan, Grant, Alexa, Ava\n",
      "\n"
     ]
    }
   ],
   "source": [
    "\n",
    "def recursive_loop(i):\n",
    "    if i < len(avalist):\n",
    "        record = avalist[i]\n",
    "        print_data(record)\n",
    "        recursive_loop(i + 1) #the function is adding one to i every time it loops\n",
    "    return\n",
    "    \n",
    "print(\"Recursive loop output\\n\")\n",
    "recursive_loop(0)"
   ]
  },
  {
   "cell_type": "markdown",
   "metadata": {},
   "source": [
    "### Reversing my Recursive Loop\n",
    "- Here I reversed my loop by starting at the length of my list and subtracting one from i until it is at zero."
   ]
  },
  {
   "cell_type": "code",
   "execution_count": 33,
   "metadata": {},
   "outputs": [
    {
     "name": "stdout",
     "output_type": "stream",
     "text": [
      "Recursive loop output reversed\n",
      "\n",
      "Alexa Carlson\n",
      "\t Birth Day: May 16\n",
      "\t Residence: San Diego\n",
      "\t Email: alexarosecarlson@icould.com\n",
      "\t Favorite Foods: pineapple, pasta, ice cream\n",
      "\t Family Names: Neil, Leslie, Dylan, Grant, Alexa, Ava\n",
      "\n",
      "Ava Carlson\n",
      "\t Birth Day: May 16\n",
      "\t Residence: San Diego\n",
      "\t Email: avabrynncheer@gmail.com\n",
      "\t Favorite Foods: mac and cheese, strawberries, chocolate\n",
      "\t Family Names: Neil, Leslie, Dylan, Grant, Alexa, Ava\n",
      "\n"
     ]
    }
   ],
   "source": [
    "\n",
    "def recursive_loop(i):\n",
    "    if i >= 0:\n",
    "        record = avalist[i]\n",
    "        print_data(record)\n",
    "        recursive_loop(i - 1) #here is my function subracting one everytime\n",
    "    return\n",
    "    \n",
    "print(\"Recursive loop output reversed\\n\")\n",
    "recursive_loop(len(avalist)-1) #here is my starting point"
   ]
  }
 ],
 "metadata": {
  "kernelspec": {
   "display_name": "Python 3.8.10 64-bit",
   "language": "python",
   "name": "python3"
  },
  "language_info": {
   "codemirror_mode": {
    "name": "ipython",
    "version": 3
   },
   "file_extension": ".py",
   "mimetype": "text/x-python",
   "name": "python",
   "nbconvert_exporter": "python",
   "pygments_lexer": "ipython3",
   "version": "3.8.10"
  },
  "orig_nbformat": 4,
  "vscode": {
   "interpreter": {
    "hash": "916dbcbb3f70747c44a77c7bcd40155683ae19c65e1c03b4aa3499c5328201f1"
   }
  }
 },
 "nbformat": 4,
 "nbformat_minor": 2
}
