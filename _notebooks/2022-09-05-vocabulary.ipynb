{
 "cells": [
  {
   "cell_type": "markdown",
   "metadata": {},
   "source": [
    "# Trimester One Vocabulary\n",
    "> Below is a dictionary full of terms from trimester one. :)\n",
    "\n",
    "\n",
    "- title: Trimester One Vocabulary\n",
    "- toc: true\n",
    "- comments: true\n",
    "- permalink: /tri1vocab/python\n",
    "- image: /images/racoon.jpg\n",
    "- categories: [Trimester 1 vocab]"
   ]
  },
  {
   "cell_type": "code",
   "execution_count": 23,
   "metadata": {},
   "outputs": [
    {
     "name": "stdout",
     "output_type": "stream",
     "text": [
      "key:value :  value defines the key\n",
      "variable :  Stores information (ex. i=0) for a computer program. Types: string, integer, float\n",
      "concatenation :  the linking or joining of two characters or character strings together to create a phrase or compound word.\n",
      "procederal abstraction :  taking little pieces of information/code and putting them into a different place to become a bigger system\n",
      "representation data :  Data Representation refers to the form in which data is stored, processed, and transmitted.\n",
      "html fragments :  Writing allows you to define a block of HTML that you can then embed in your document at key locations.\n"
     ]
    }
   ],
   "source": [
    "vocablist={\"key:value\" : \"value defines the key\",\n",
    "    \"variable\" : \"Stores information (ex. i=0) for a computer program. Types: string, integer, float\",\n",
    "    \"concatenation\" : \"the linking or joining of two characters or character strings together to create a phrase or compound word.\",\n",
    "    \"procederal abstraction\" : \"taking little pieces of information/code and putting them into a different place to become a bigger system\",\n",
    "    \"representation data\" : \"Data Representation refers to the form in which data is stored, processed, and transmitted.\",\n",
    "    \"html fragments\" : \"Writing allows you to define a block of HTML that you can then embed in your document at key locations.\"}\n",
    "\n",
    "for word in vocablist:\n",
    "    print(word,\": \", vocablist[word])"
   ]
  }
 ],
 "metadata": {
  "kernelspec": {
   "display_name": "Python 3.8.10 64-bit",
   "language": "python",
   "name": "python3"
  },
  "language_info": {
   "codemirror_mode": {
    "name": "ipython",
    "version": 3
   },
   "file_extension": ".py",
   "mimetype": "text/x-python",
   "name": "python",
   "nbconvert_exporter": "python",
   "pygments_lexer": "ipython3",
   "version": "3.8.10"
  },
  "orig_nbformat": 4,
  "vscode": {
   "interpreter": {
    "hash": "916dbcbb3f70747c44a77c7bcd40155683ae19c65e1c03b4aa3499c5328201f1"
   }
  }
 },
 "nbformat": 4,
 "nbformat_minor": 2
}
