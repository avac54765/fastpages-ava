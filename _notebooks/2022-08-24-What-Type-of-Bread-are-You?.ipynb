{
 "cells": [
  {
   "cell_type": "markdown",
   "metadata": {},
   "source": [
    "# What Type of Bread are You?\n",
    "> This is a quiz where you can learn what type of bread you are. Learning your bread \"genetics\" is life changing and will influence how you think of yourself.\n",
    "\n",
    "\n",
    "- title: Bread Quiz\n",
    "- toc: true\n",
    "- comments: true\n",
    "- image: /images/bread line.jpg\n",
    "\n"
   ]
  },
  {
   "cell_type": "markdown",
   "metadata": {},
   "source": [
    "##Welcome to the quiz, What Type of Bread are You? Answer the questions below."
   ]
  },
  {
   "cell_type": "code",
   "execution_count": 9,
   "metadata": {},
   "outputs": [
    {
     "name": "stdout",
     "output_type": "stream",
     "text": [
      "Question: What type of friend are you? The mom, rebellious, or quiet friend? Answer with one word.\n",
      "Question: What kind of car would you drive? A minivan, Tesla, or Prius? Make sure to type a capital letter if applicable.\n",
      "Question: What activity would you do in your freetime? Would you run errands, party, or read?\n",
      "Question: What kind of phone do you use? A flip phone, an iphone, or an android?\n",
      "Question: What pet would you like to own? A cat, a dog, or a fish?\n",
      "Here are your results:2/5 whitebread2/5 sourdough1/5 flatbread\n",
      "Thanks for playing! Now you can live your life knowing you bread genetics! :)\n"
     ]
    }
   ],
   "source": [
    "\n",
    "\n",
    "white_bread = 0\n",
    "flat_bread = 0\n",
    "sourdough_bread = 0\n",
    "\n",
    "#defines variables for types of breads\n",
    "\n",
    "\n",
    "def question_and_3_answers(prompt, ans1, ans2, ans3):\n",
    "    answer_correct = 0\n",
    "    while answer_correct == 0:\n",
    "        print(\"Question: \" + prompt)\n",
    "        rsp = input()\n",
    "        if rsp == ans1:\n",
    "            global white_bread\n",
    "            white_bread += 1\n",
    "            answer_correct = 1\n",
    "        elif rsp == ans2:\n",
    "            global sourdough_bread\n",
    "            sourdough_bread += 1\n",
    "            answer_correct = 1\n",
    "        elif rsp == ans3:\n",
    "            global flat_bread\n",
    "            flat_bread += 1\n",
    "            answer_correct = 1\n",
    "        else:\n",
    "            print(rsp + \" is not an answer please try again\")\n",
    "    \n",
    "#this is defining my function. I have a prompt and three correct answers\n",
    "#if the user types a non-answer, it will loop until they choose a defined answer. Certain answers will add a point to the bread total\n",
    "\n",
    "question_and_3_answers(\"What type of friend are you? The mom, rebellious, or quiet friend? Answer with one word.\", \"mom\", \"rebellious\", \"quiet\")\n",
    "question_and_3_answers(\"What kind of car would you drive? A minivan, Tesla, or Prius? Make sure to type a capital letter if applicable.\", \"minivan\", \"Tesla\", \"Prius\")\n",
    "question_and_3_answers(\"What activity would you do in your freetime? Would you run errands, party, or read?\", \"run errands\", \"party\", \"read\")\n",
    "question_and_3_answers(\"What kind of phone do you use? A flip phone, an iphone, or an android?\", \"flip phone\", \"iphone\", \"android\")\n",
    "question_and_3_answers(\"What pet would you like to own? A cat, a dog, or a fish?\",\"cat\",\"dog\",\"fish\")\n",
    "\n",
    "print(\"Here are your results:   \" + str(white_bread) + \"/5 whitebread   \" + str(sourdough_bread) + \"/5 sourdough   \" + str(flat_bread) + \"/5 flatbread\")\n",
    "print(\"Thanks for playing! Now you can live your life knowing your bread genetics! :)\")\n",
    "\n"
   ]
  }
 ],
 "metadata": {
  "kernelspec": {
   "display_name": "Python 3.8.10 64-bit",
   "language": "python",
   "name": "python3"
  },
  "language_info": {
   "codemirror_mode": {
    "name": "ipython",
    "version": 3
   },
   "file_extension": ".py",
   "mimetype": "text/x-python",
   "name": "python",
   "nbconvert_exporter": "python",
   "pygments_lexer": "ipython3",
   "version": "3.8.10"
  },
  "orig_nbformat": 4,
  "vscode": {
   "interpreter": {
    "hash": "916dbcbb3f70747c44a77c7bcd40155683ae19c65e1c03b4aa3499c5328201f1"
   }
  }
 },
 "nbformat": 4,
 "nbformat_minor": 2
}
