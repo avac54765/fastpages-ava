{
 "cells": [
  {
   "cell_type": "markdown",
   "metadata": {},
   "source": [
    "# Fibonacci's Sequence with a Recursive Loop\n",
    "> Fibonacci's sequence is a famous sequence in which the \"n\"th term is the previous two terms added together. Here I am programing this sequence using a recursive loop.\n",
    "\n",
    "\n",
    "- title: Fibonacci's Sequence with a Recursive Loop\n",
    "- toc: true\n",
    "- comments: true\n",
    "- permalink: /fibonacci/python\n",
    "- image: /images/newfibonacci.png\n",
    "- categories: [week 2]"
   ]
  },
  {
   "cell_type": "code",
   "execution_count": 7,
   "metadata": {},
   "outputs": [
    {
     "name": "stdout",
     "output_type": "stream",
     "text": [
      "0\n",
      "1\n",
      "1\n",
      "2\n",
      "3\n",
      "5\n",
      "8\n",
      "13\n",
      "21\n",
      "34\n"
     ]
    }
   ],
   "source": [
    "def fibonacci_loop(n):\n",
    "    if n <= 1:\n",
    "        return n #you must return n if n<=1 otherwise term will be negative\n",
    "    else:\n",
    "        return(fibonacci_loop(n-1) + fibonacci_loop(n-2))\n",
    "\n",
    "\n",
    "nterms= 10 #the user can put a term number in here and this loop will list the terms in the fibonacci sequence until that term\n",
    "\n",
    "if nterms <= 0: #term cannot be negative\n",
    "    print(\"Please enter a positive integer. Negatives are not accepted.\")\n",
    "else:\n",
    "    for i in range(nterms): #if the integer is positive, the function will be able to list until \"n\"th term\n",
    "        print(fibonacci_loop(i))\n",
    "\n",
    "\n"
   ]
  }
 ],
 "metadata": {
  "kernelspec": {
   "display_name": "Python 3.8.10 64-bit",
   "language": "python",
   "name": "python3"
  },
  "language_info": {
   "codemirror_mode": {
    "name": "ipython",
    "version": 3
   },
   "file_extension": ".py",
   "mimetype": "text/x-python",
   "name": "python",
   "nbconvert_exporter": "python",
   "pygments_lexer": "ipython3",
   "version": "3.8.10"
  },
  "orig_nbformat": 4,
  "vscode": {
   "interpreter": {
    "hash": "916dbcbb3f70747c44a77c7bcd40155683ae19c65e1c03b4aa3499c5328201f1"
   }
  }
 },
 "nbformat": 4,
 "nbformat_minor": 2
}
