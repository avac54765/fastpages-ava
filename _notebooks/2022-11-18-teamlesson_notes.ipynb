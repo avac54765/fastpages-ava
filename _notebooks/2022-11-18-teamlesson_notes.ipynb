{
 "cells": [
  {
   "cell_type": "markdown",
   "metadata": {},
   "source": [
    "# Team Lesson Notes \n",
    "\n",
    "> Here are my notes and homework from the team lessons\n",
    "\n",
    "- title: Team Lesson Notes\n",
    "- toc: true\n",
    "- comments: true\n",
    "- permalink: /teamlesson/notes\n",
    "- image: /images/notes.png\n",
    "- categories: [week 14]"
   ]
  },
  {
   "cell_type": "markdown",
   "metadata": {},
   "source": [
    "# Team Lessons\n",
    "\n",
    "|Week | Lesson | Topic | Presentation (notes) | Homework |\n",
    "|---|---|---|---|---|\n",
    "| 1 | 1 (11.28) | Data Types, Variables, Lists, Strings, Data Abstraction, Managing Complexity | [Link to presentation](https://liavb2.github.io/ominicient-lavebear/markdown/2022/11/26/GroupLesson.html) | [Link to homework markdown](https://avac54765.github.io/fastpages-ava/lesson_one/hw) |\n",
    "| 1 | 2 (11/29) | Algorithims, sequence, selection, iteration, mathmatical expressions, MOD, string concatination |[Link to presentation](https://hsinaditam.github.io/Tea_Lounge/wk2/2022/11/20/Lesson-presentation.html) | [Link to homework markdown](https://avac54765.github.io/fastpages-ava/lesson_two/hw) |"
   ]
  }
 ],
 "metadata": {
  "kernelspec": {
   "display_name": "Python 3.8.10 64-bit",
   "language": "python",
   "name": "python3"
  },
  "language_info": {
   "name": "python",
   "version": "3.8.10"
  },
  "orig_nbformat": 4,
  "vscode": {
   "interpreter": {
    "hash": "916dbcbb3f70747c44a77c7bcd40155683ae19c65e1c03b4aa3499c5328201f1"
   }
  }
 },
 "nbformat": 4,
 "nbformat_minor": 2
}
