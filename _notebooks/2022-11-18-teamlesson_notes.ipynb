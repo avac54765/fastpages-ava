{
 "cells": [
  {
   "cell_type": "markdown",
   "metadata": {},
   "source": [
    "# Team Lesson Notes \n",
    "\n",
    "> Here are my notes and homework from the team lessons\n",
    "\n",
    "- title: Team Lesson Notes\n",
    "- toc: true\n",
    "- comments: true\n",
    "- permalink: /teamlesson/notes\n",
    "- image: /images/notes.png\n",
    "- categories: [week 14]"
   ]
  },
  {
   "cell_type": "markdown",
   "metadata": {},
   "source": [
    "# Team Lessons\n",
    "\n",
    "|Week | Lesson | Topic | Presentation (notes) | Homework |\n",
    "|---|---|---|---|---|\n",
    "| 1 | 1 (11.28) | Data Types, Variables, Lists, Strings, Data Abstraction, Managing Complexity | [Link to presentation](https://liavb2.github.io/ominicient-lavebear/markdown/2022/11/26/GroupLesson.html) | [Link to homework markdown]() |\n",
    "| 1 | 2 (11/29) | |[Link to presentation]() | [Link to homework markdown]() |"
   ]
  }
 ],
 "metadata": {
  "language_info": {
   "name": "python"
  },
  "orig_nbformat": 4
 },
 "nbformat": 4,
 "nbformat_minor": 2
}
