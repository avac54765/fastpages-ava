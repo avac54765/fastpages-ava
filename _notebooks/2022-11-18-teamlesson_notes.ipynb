{
 "cells": [
  {
   "cell_type": "markdown",
   "metadata": {},
   "source": [
    "# Team Lesson Notes \n",
    "\n",
    "> Here are my notes and homework from the team lessons\n",
    "\n",
    "- title: Team Lesson Notes\n",
    "- toc: true\n",
    "- comments: true\n",
    "- permalink: /teamlesson/notes\n",
    "- image: /images/notes.png\n",
    "- categories: [week 14]"
   ]
  },
  {
   "cell_type": "markdown",
   "metadata": {},
   "source": [
    "# Team Lessons\n",
    "\n",
    "|Week | Lesson | Topic | Presentation (notes) | Homework | \n",
    "|---|---|---|---|---|\n",
    "| 1 | 1 (11.28) | Data Types, Variables, Lists, Strings, Data Abstraction, Managing Complexity | [Link to presentation](https://liavb2.github.io/ominicient-lavebear/markdown/2022/11/26/GroupLesson.html) | [Link to homework markdown](https://avac54765.github.io/fastpages-ava/lesson_one/hw) |\n",
    "| 1 | 2 (11/29) | Algorithims, sequence, selection, iteration, mathmatical expressions, MOD, string concatination |[Link to presentation](https://hsinaditam.github.io/Tea_Lounge/wk2/2022/11/20/Lesson-presentation.html) | [Link to homework markdown](https://avac54765.github.io/fastpages-ava/lesson_two/hw) |\n",
    "| 1 | 3 (12/1) | Booleans, relational operators, logical operators, conditionals, truth tables, nested conditionals | [Link to presentation](https://f1nnc.github.io/dolphins/lesson) | [Link to homework markdown](https://avac54765.github.io/fastpages-ava/lessonthree/homework) | \n",
    "| 2 | 4 (12/5) | Lists, appending lists, iteration| [Link to presentation](https://teamorborb.github.io/TeamOrbOrb/lesson%20plans/2022/11/28/Unit_3.8_3.10.html) | [Link to homework markdown](https://avac54765.github.io/fastpages-ava/lessonfour/homework) |\n",
    "| 2 | 5 (12/6) | Algorithims, booleans, binary trees, flowcharts|[Link to presentation](https://gwang1224.github.io/repository_1/trimester%202%20student%20teaching/2022/12/02/unit3-9-11.html) | [Link to homework markdown](https://avac54765.github.io/fastpages-ava/lessonfive/homework) |\n",
    "| 3 | 6 (12/8) | Procedures, parameters, managing complexity, modularity, abstraction, function structure |[Link to presentation](https://davidvasilev1.github.io/group-tri2/2022/12/04/lesson3.12_3.13.html) | [Link to homework markdown](https://avac54765.github.io/fastpages-ava/lessonsix/homework) |\n",
    "| 3 | 7 (12/12) | Libraries, import random, pip.install | [Link to presentation](https://saavangade.github.io/Saavan/ap%20csp/unit%203/section%2014/section%2015/lesson/2022/12/11/Lesson-Unit-3-Section-14-15.html) | [Link to homework markdown](https://avac54765.github.io/fastpages-ava/lessonseven/homework) |\n",
    "| 3 | 8 (12/13) | Simulations, experiments | [Link to Presentation](https://srihitakott1213.github.io/TeamBaddies/studentlesson/simulations) | Our lesson, no homework |\n",
    "| 3 | 9 (12/14) | | [Link to Presentation](https://yashakhoshini.github.io/yasha-fastpages/2022/11/28/Quinn&Group.html) | [Link to Homework Markdown](https://avac54765.github.io/fastpages-ava/lessonnine/homework) |"
   ]
  }
 ],
 "metadata": {
  "kernelspec": {
   "display_name": "Python 3.8.10 64-bit",
   "language": "python",
   "name": "python3"
  },
  "language_info": {
   "name": "python",
   "version": "3.8.10"
  },
  "orig_nbformat": 4,
  "vscode": {
   "interpreter": {
    "hash": "916dbcbb3f70747c44a77c7bcd40155683ae19c65e1c03b4aa3499c5328201f1"
   }
  }
 },
 "nbformat": 4,
 "nbformat_minor": 2
}
