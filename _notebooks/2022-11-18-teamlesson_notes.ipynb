{
 "cells": [
  {
   "cell_type": "markdown",
   "metadata": {},
   "source": [
    "# Team Lesson Notes \n",
    "\n",
    "> Here are my notes and homework from the team lessons\n",
    "\n",
    "- title: Team Lesson Notes\n",
    "- toc: true\n",
    "- comments: true\n",
    "- permalink: /teamlesson/notes\n",
    "- image: /images/notes.png\n",
    "- categories: [week 14]"
   ]
  },
  {
   "cell_type": "markdown",
   "metadata": {},
   "source": [
    "# Team One (11/28)- Data Types, Variables, Lists, Strings, Data Abstraction, Managing Complexity\n",
    "\n",
    "[Link to presentation](https://liavb2.github.io/ominicient-lavebear/markdown/2022/11/26/GroupLesson.html)\n",
    "\n",
    "[Link to homework markdown]()"
   ]
  },
  {
   "cell_type": "markdown",
   "metadata": {},
   "source": [
    "# Team Two (11/29)- \n",
    "\n",
    "[Link to presentation]()\n",
    "\n",
    "[Link to homework markdown]()\n"
   ]
  }
 ],
 "metadata": {
  "language_info": {
   "name": "python"
  },
  "orig_nbformat": 4
 },
 "nbformat": 4,
 "nbformat_minor": 2
}
