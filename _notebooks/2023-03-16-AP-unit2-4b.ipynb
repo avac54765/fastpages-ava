{
 "cells": [
  {
   "attachments": {},
   "cell_type": "markdown",
   "metadata": {},
   "source": [
    "#  Unit 2.4b Using Programs with Data, SQL\n",
    "> Using Programs with Data is focused on SQL and database actions.  Part B focuses on learning SQL commands, connections, and curses using an Imperative programming style,\n",
    "- toc: true\n",
    "- categories: [week 26]"
   ]
  },
  {
   "attachments": {},
   "cell_type": "markdown",
   "metadata": {},
   "source": [
    "# Database Programming is Program with Data\n",
    "> Each Tri 2 Final Project should be an example of a Program with Data. \n",
    "\n",
    ">  Prepare to use SQLite in common Imperative Technique\n",
    "- Explore [SQLite Connect object](https://www.tutorialspoint.com/python_data_access/python_sqlite_establishing_connection.htm) to establish database connection\n",
    "- Explore [SQLite Cursor Object](https://www.tutorialspoint.com/python_data_access/python_sqlite_cursor_object.htm) to fetch data from a table within a database\n"
   ]
  },
  {
   "attachments": {},
   "cell_type": "markdown",
   "metadata": {},
   "source": [
    "## Schema of Users table in Sqlite.db\n",
    "> Uses PRAGMA statement to read schema.\n",
    "\n",
    "Describe Schema, here is resource [Resource](https://www.sqlite.org/index.html)\n",
    "\n",
    "- What is a database schema?\n",
    "    - A database schema is a template for the database information to be stored. For example, the schema involves the rows and columns of a database table.\n",
    "\n",
    "- What is the purpose of identity Column in SQL database?\n",
    "    - The identity column in the SQL database is so the objects are different and easily identifiable when trying to iterate through them. If there were no identity column, it would be much harder to successfully complete the CRUD operations.\n",
    "\n",
    "- What is the purpose of a primary key in SQL database?\n",
    "    - The primary key in an SQL database is to uniquely identify the different objects in the rows and columns. If there were no primary key, it would be much harder to identify specific objects in the table.\n",
    "\n",
    "- What are the Data Types in SQL table?\n",
    "    - In an SQL table, there are strings, integers, and date/time."
   ]
  },
  {
   "cell_type": "code",
   "execution_count": 1,
   "metadata": {},
   "outputs": [
    {
     "name": "stdout",
     "output_type": "stream",
     "text": [
      "(0, 'id', 'INTEGER', 1, None, 1)\n",
      "(1, '_name', 'VARCHAR(255)', 1, None, 0)\n",
      "(2, '_uid', 'VARCHAR(255)', 1, None, 0)\n",
      "(3, '_password', 'VARCHAR(255)', 1, None, 0)\n",
      "(4, '_dob', 'DATE', 0, None, 0)\n"
     ]
    }
   ],
   "source": [
    "import sqlite3\n",
    "\n",
    "database = 'instance/sqlite.db' # this is location of database\n",
    "\n",
    "def schema():\n",
    "    \n",
    "    # Connect to the database file\n",
    "    conn = sqlite3.connect(database)\n",
    "\n",
    "    # Create a cursor object to execute SQL queries\n",
    "    cursor = conn.cursor()\n",
    "    \n",
    "    # Fetch results of Schema\n",
    "    results = cursor.execute(\"PRAGMA table_info('users')\").fetchall()\n",
    "\n",
    "    # Print the results\n",
    "    for row in results:\n",
    "        print(row)\n",
    "\n",
    "    # Close the database connection\n",
    "    conn.close()\n",
    "    \n",
    "schema()\n",
    "\n",
    "# THE SCHEMA IS THE METADATA FOR THE DATABSE\n",
    "# A database schema:\n",
    "# column in database = part of schema\n",
    "# rows = each record in database\n"
   ]
  },
  {
   "attachments": {},
   "cell_type": "markdown",
   "metadata": {},
   "source": [
    "## Reading Users table in Sqlite.db\n",
    "> Uses SQL SELECT statement to read data\n",
    "\n",
    "- What is a connection object?  After you google it, what do you think it does?\n",
    "   -  A connection object is a unique session with a data source. I think that this means that when you run code with SQL, that code's information will show up in the database. This is what creates a conn that connects to the database.\n",
    "\n",
    "- Same for cursor object?\n",
    "    - An SQL cursor object \"allows you to retrieve and manipulate rows from a result set one at a time\". I think these objects allow for a programer to iterate through the database rows and data and change individual objects and their attributes.\n",
    "\n",
    "- Look at conn object and cursor object in VSCode debugger.  What attributes are in the object?\n",
    "   -  The database schema are the attributes in the object (ex: id, name, uid, password, dob, etc.).\n",
    "\n",
    "- Is \"results\" an object?  How do you know?\n",
    "    - Yes, \"results\" is an object. \"results\" has variables and functions, and all objects have variables and functions.\n",
    "\n"
   ]
  },
  {
   "cell_type": "code",
   "execution_count": 8,
   "metadata": {},
   "outputs": [
    {
     "name": "stdout",
     "output_type": "stream",
     "text": [
      "(1, 'Thomas Edison', 'toby', 'sha256$hOt456L9G3UrEU19$b29c4532606f53f06933e4be063953a3fadb80093097a7504d6bf3224b53cee3', '1847-02-11')\n",
      "(2, 'Nikola Tesla', 'niko', 'sha256$ZMP6epXrzK7TjZWQ$be41e1d7d84d396b043f40aefba9082d08eca28bd177a0781aec6edb7b3a53e9', '2023-03-16')\n",
      "(3, 'Alexander Graham Bell', 'lex', 'sha256$wnz6ZUWmPUDT7zb7$2a52dd189ef9e60fb7042119c00e1f9ff87531c4303260aec30a8073a7774a52', '2023-03-16')\n",
      "(4, 'Eli Whitney', 'whit', 'sha256$OCBizDZXnQ7aKhuP$cf478db6994adb329da10609a08957d25e060bebbb26e0b38582bb07eb7a79da', '2023-03-16')\n",
      "(5, 'Indiana Jones', 'indi', 'sha256$cuRadFJDSJX6R5D3$885dfc93c2b0badb6180ba15a17d94704346553d841dc22213674f72ab9379dd', '1920-10-21')\n",
      "(6, 'Marion Ravenwood', 'raven', 'sha256$g29fK88JL6CdNFJa$ec7008d02be004d9f1dabbbcf85aaabc9895743b20c8cb04082e156a291fefa3', '1921-10-21')\n"
     ]
    }
   ],
   "source": [
    "import sqlite3\n",
    "\n",
    "def read():\n",
    "    # Connect to the database file\n",
    "    conn = sqlite3.connect(database)\n",
    "\n",
    "    # Create a cursor object to execute SQL queries\n",
    "    cursor = conn.cursor()\n",
    "    \n",
    "    # Execute a SELECT statement to retrieve data from a table\n",
    "    results = cursor.execute('SELECT * FROM users').fetchall()\n",
    "\n",
    "    # Print the results\n",
    "    if len(results) == 0: # database schema = properties and columns in database (NOT keys and values)\n",
    "        print(\"Table is empty\")\n",
    "    else:\n",
    "        for row in results:\n",
    "            print(row)\n",
    "\n",
    "    # Close the cursor and connection objects\n",
    "    cursor.close()\n",
    "    conn.close()\n",
    "    \n",
    "read()\n"
   ]
  },
  {
   "attachments": {},
   "cell_type": "markdown",
   "metadata": {},
   "source": [
    "## Create a new User in table in Sqlite.db\n",
    "> Uses SQL INSERT to add row\n",
    "-  Compore create() in both SQL lessons.  What is better or worse in the two implementations?\n",
    "    - I prefer OOP better for the CRUD operations. To me, the OOP seems more easy to follow and memorize. Although, this method seems to have less code and is more efficient due to avoiding defining a class with setter and getter functions.\n",
    "\n",
    "-  Explain purpose of SQL INSERT.   Is this the same as User __init__?\n",
    "    -  SQL INSERT is a command that will add data into the database. This function is is written within the code of each line that is being changed/added but the _init_ is called once."
   ]
  },
  {
   "cell_type": "code",
   "execution_count": 3,
   "metadata": {},
   "outputs": [],
   "source": [
    "import sqlite3\n",
    "\n",
    "def create():\n",
    "    name = input(\"Enter your name:\")\n",
    "    uid = input(\"Enter your user id:\")\n",
    "    password = input(\"Enter your password\")\n",
    "    dob = input(\"Enter your date of birth 'YYYY-MM-DD'\")\n",
    "    \n",
    "    # Connect to the database file\n",
    "    conn = sqlite3.connect(database)\n",
    "\n",
    "    # Create a cursor object to execute SQL commands\n",
    "    cursor = conn.cursor()\n",
    "\n",
    "    try:\n",
    "        # Execute an SQL command to insert data into a table\n",
    "        cursor.execute(\"INSERT INTO users (_name, _uid, _password, _dob) VALUES (?, ?, ?, ?)\", (name, uid, password, dob))\n",
    "        \n",
    "        # Commit the changes to the database\n",
    "        conn.commit()\n",
    "        print(f\"A new user record {uid} has been created\")\n",
    "                \n",
    "    except sqlite3.Error as error:\n",
    "        print(\"Error while executing the INSERT:\", error)\n",
    "\n",
    "\n",
    "    # Close the cursor and connection objects\n",
    "    cursor.close()\n",
    "    conn.close()\n",
    "    \n",
    "#create()"
   ]
  },
  {
   "attachments": {},
   "cell_type": "markdown",
   "metadata": {},
   "source": [
    "## Updating a User in table in Sqlite.db\n",
    "> Uses SQL UPDATE to modify password\n",
    "- What does the hacked part do?\n",
    "    - The hacked code helps with garbage data when someone is updating their password. If they type a password that is less than two characters, the user will get a message that says the have been hacked and will set their password to \"gothackednewpassword123\".\n",
    "\n",
    "- Explain try/except, when would except occur?\n",
    "    - In this example, when a user is updating their password, the try/except looks for certain conditions. If the user tries to update an unknown user, it will send an unknown uid error. If the password is successfully changed, then the user will be notified. If neither of those are met, then the user will be notified with an alternative error.\n",
    "\n",
    "- What code seems to be repeated in each of these examples to point, why is it repeated?\n",
    "    -  Conn and cursor are redefined in every function before every try and except. Cursor.clos() and the conn.close are also redefined. This is likely due to connection objects and the need for the connection to the database to be unique every time."
   ]
  },
  {
   "cell_type": "code",
   "execution_count": 4,
   "metadata": {},
   "outputs": [],
   "source": [
    "import sqlite3\n",
    "\n",
    "def update():\n",
    "    uid = input(\"Enter user id to update\")\n",
    "    password = input(\"Enter updated password\")\n",
    "    if len(password) < 2:\n",
    "        message = \"hacked\"\n",
    "        password = 'gothackednewpassword123'\n",
    "    else:\n",
    "        message = \"successfully updated\"\n",
    "\n",
    "    # Connect to the database file\n",
    "    conn = sqlite3.connect(database)\n",
    "\n",
    "    # Create a cursor object to execute SQL commands\n",
    "    cursor = conn.cursor()\n",
    "\n",
    "    try:\n",
    "        # Execute an SQL command to update data in a table\n",
    "        cursor.execute(\"UPDATE users SET _password = ? WHERE _uid = ?\", (password, uid))\n",
    "        if cursor.rowcount == 0:\n",
    "            # The uid was not found in the table\n",
    "            print(f\"No uid {uid} was not found in the table\")\n",
    "        else:\n",
    "            print(f\"The row with user id {uid} the password has been {message}\")\n",
    "            conn.commit()\n",
    "    except sqlite3.Error as error:\n",
    "        print(\"Error while executing the UPDATE:\", error)\n",
    "        \n",
    "    \n",
    "    # Close the cursor and connection objects\n",
    "    cursor.close()\n",
    "    conn.close()\n",
    "    \n",
    "#update()\n"
   ]
  },
  {
   "attachments": {},
   "cell_type": "markdown",
   "metadata": {},
   "source": [
    "## Delete a User in table in Sqlite.db\n",
    "> Uses a delete function to remove a user based on a user input of the id.\n",
    "- Is DELETE a dangerous operation?  Why?\n",
    "    - Yes, delete is a dangerous operation because once an item is deleted, it cannot be found again. This operation is permanent. \n",
    "\n",
    "- In the print statemements, what is the \"f\" and what does {uid} do?\n",
    "    - The \"f\" and {} form formatted string literals. They allow the uid to be replaced with specific data to the situation.\n",
    "\n"
   ]
  },
  {
   "cell_type": "code",
   "execution_count": 5,
   "metadata": {},
   "outputs": [],
   "source": [
    "import sqlite3\n",
    "\n",
    "def delete():\n",
    "    uid = input(\"Enter user id to delete\")\n",
    "\n",
    "    # Connect to the database file\n",
    "    conn = sqlite3.connect(database)\n",
    "\n",
    "    # Create a cursor object to execute SQL commands\n",
    "    cursor = conn.cursor()\n",
    "    \n",
    "    try:\n",
    "        cursor.execute(\"DELETE FROM users WHERE _uid = ?\", (uid,))\n",
    "        if cursor.rowcount == 0:\n",
    "            # The uid was not found in the table\n",
    "            print(f\"No uid {uid} was not found in the table\")\n",
    "        else:\n",
    "            # The uid was found in the table and the row was deleted\n",
    "            print(f\"The row with uid {uid} was successfully deleted\")\n",
    "        conn.commit()\n",
    "    except sqlite3.Error as error:\n",
    "        print(\"Error while executing the DELETE:\", error)\n",
    "        \n",
    "    # Close the cursor and connection objects\n",
    "    cursor.close()\n",
    "    conn.close()\n",
    "    \n",
    "#delete()"
   ]
  },
  {
   "attachments": {},
   "cell_type": "markdown",
   "metadata": {},
   "source": [
    "# Menu Interface to CRUD operations\n",
    "> CRUD and Schema interactions from one location by running menu. Observe input at the top of VSCode, observe output underneath code cell.\n",
    "- Why does the menu repeat?\n",
    "    - The menu repeats so a user can perform multiple CRUD operations without having to run the code every time. This also allows a user to perform all of their desired edits in one place.\n",
    "\n",
    "\n",
    "- Could you refactor this menu?  Make it work with a List?\n",
    "    - To make this menu work with a list, I may be able to define a list that has all of the functions, and use their indices to call them. I am not sure if this would work but it is worth a shot."
   ]
  },
  {
   "cell_type": "code",
   "execution_count": 10,
   "metadata": {},
   "outputs": [
    {
     "name": "stdout",
     "output_type": "stream",
     "text": [
      "(1, 'Thomas Edison', 'toby', 'sha256$hOt456L9G3UrEU19$b29c4532606f53f06933e4be063953a3fadb80093097a7504d6bf3224b53cee3', '1847-02-11')\n",
      "(2, 'Nikola Tesla', 'niko', 'sha256$ZMP6epXrzK7TjZWQ$be41e1d7d84d396b043f40aefba9082d08eca28bd177a0781aec6edb7b3a53e9', '2023-03-16')\n",
      "(3, 'Alexander Graham Bell', 'lex', 'sha256$wnz6ZUWmPUDT7zb7$2a52dd189ef9e60fb7042119c00e1f9ff87531c4303260aec30a8073a7774a52', '2023-03-16')\n",
      "(4, 'Eli Whitney', 'whit', 'sha256$OCBizDZXnQ7aKhuP$cf478db6994adb329da10609a08957d25e060bebbb26e0b38582bb07eb7a79da', '2023-03-16')\n",
      "(5, 'Indiana Jones', 'indi', 'sha256$cuRadFJDSJX6R5D3$885dfc93c2b0badb6180ba15a17d94704346553d841dc22213674f72ab9379dd', '1920-10-21')\n",
      "(6, 'Marion Ravenwood', 'raven', 'sha256$g29fK88JL6CdNFJa$ec7008d02be004d9f1dabbbcf85aaabc9895743b20c8cb04082e156a291fefa3', '1921-10-21')\n",
      "(1, 'Thomas Edison', 'toby', 'sha256$hOt456L9G3UrEU19$b29c4532606f53f06933e4be063953a3fadb80093097a7504d6bf3224b53cee3', '1847-02-11')\n",
      "(2, 'Nikola Tesla', 'niko', 'sha256$ZMP6epXrzK7TjZWQ$be41e1d7d84d396b043f40aefba9082d08eca28bd177a0781aec6edb7b3a53e9', '2023-03-16')\n",
      "(3, 'Alexander Graham Bell', 'lex', 'sha256$wnz6ZUWmPUDT7zb7$2a52dd189ef9e60fb7042119c00e1f9ff87531c4303260aec30a8073a7774a52', '2023-03-16')\n",
      "(4, 'Eli Whitney', 'whit', 'sha256$OCBizDZXnQ7aKhuP$cf478db6994adb329da10609a08957d25e060bebbb26e0b38582bb07eb7a79da', '2023-03-16')\n",
      "(5, 'Indiana Jones', 'indi', 'sha256$cuRadFJDSJX6R5D3$885dfc93c2b0badb6180ba15a17d94704346553d841dc22213674f72ab9379dd', '1920-10-21')\n",
      "(6, 'Marion Ravenwood', 'raven', 'sha256$g29fK88JL6CdNFJa$ec7008d02be004d9f1dabbbcf85aaabc9895743b20c8cb04082e156a291fefa3', '1921-10-21')\n"
     ]
    }
   ],
   "source": [
    "# Menu, to run other cells from one control point\n",
    "def menu():\n",
    "    operation = input(\"Enter: (C)reate (R)ead (U)pdate or (D)elete or (S)chema\")\n",
    "    if operation.lower() == 'c':\n",
    "        create()\n",
    "    elif operation.lower() == 'r':\n",
    "        read()\n",
    "    elif operation.lower() == 'u':\n",
    "        update()\n",
    "    elif operation.lower() == 'd':\n",
    "        delete()\n",
    "    elif operation.lower() == 's':\n",
    "        schema()\n",
    "    elif len(operation)==0: # Escape Key\n",
    "        return\n",
    "    else:\n",
    "        print(\"Please enter c, r, u, or d\") \n",
    "    menu() # recursion, repeat menu\n",
    "        \n",
    "try:\n",
    "    menu() # start menu\n",
    "except:\n",
    "    print(\"Perform Jupyter 'Run All' prior to starting menu\")\n",
    "\n",
    "# recursion= this will keep running until the escape key is hit and program returns"
   ]
  },
  {
   "attachments": {},
   "cell_type": "markdown",
   "metadata": {},
   "source": [
    "# Hacks\n",
    "- Add this Blog to you own Blogging site.  In the Blog add notes and observations on each code cell.\n",
    "- In this implementation, do you see procedural abstraction?\n",
    "\n",
    "    -  This imperative style does have procedural abstraction. This code uses recursion. A \"recursive query is one that refers to itself\", and acts like a while loop. \n",
    "\n",
    "- In 2.4a or 2.4b lecture\n",
    "    - Do you see data abstraction?  Complement this with Debugging example.\n",
    "    - Use Imperative or OOP style to Create a new Table or do something that applies to your CPT project.\n",
    "    \n",
    "\n",
    "Reference... [sqlite documentation](https://www.sqlitetutorial.net/sqlite-python/creating-tables/)\n"
   ]
  },
  {
   "attachments": {},
   "cell_type": "markdown",
   "metadata": {},
   "source": [
    "MAKE A MENU TO SHOW ALL CRUD (create read empty delete) EXAMPLE OF MENU ABOVE"
   ]
  }
 ],
 "metadata": {
  "kernelspec": {
   "display_name": "base",
   "language": "python",
   "name": "python3"
  },
  "language_info": {
   "codemirror_mode": {
    "name": "ipython",
    "version": 3
   },
   "file_extension": ".py",
   "mimetype": "text/x-python",
   "name": "python",
   "nbconvert_exporter": "python",
   "pygments_lexer": "ipython3",
   "version": "3.9.12"
  },
  "orig_nbformat": 4,
  "vscode": {
   "interpreter": {
    "hash": "8b82d5009c68ba5675978267e2b13a671f2a7143d61273c5a3813c97e0b2493d"
   }
  }
 },
 "nbformat": 4,
 "nbformat_minor": 2
}
