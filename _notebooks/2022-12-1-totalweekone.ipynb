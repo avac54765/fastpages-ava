{
 "cells": [
  {
   "cell_type": "markdown",
   "metadata": {},
   "source": [
    "# Lessons Week One\n",
    "> A notebook of all the hacks and activities for week one of lessons.\n",
    "\n",
    "\n",
    "- title: Lessons Week One\n",
    "- toc: true\n",
    "- comments: true\n",
    "- permalink: /lessons/weekone\n",
    "- image: /images/lesson.jpg\n",
    "- categories: [week 14]"
   ]
  },
  {
   "cell_type": "markdown",
   "metadata": {},
   "source": [
    "# Team One Lesson\n",
    "### 3.1-3.2 Data Types, Variables, Lists, Strings, Data Abstraction, Managing Complexity"
   ]
  },
  {
   "cell_type": "code",
   "execution_count": 1,
   "metadata": {},
   "outputs": [
    {
     "name": "stdout",
     "output_type": "stream",
     "text": [
      "This person is 15 and their favorite color is pink\n",
      "This person is alive\n"
     ]
    }
   ],
   "source": [
    "# below are variables that describe a person\n",
    "\n",
    "age = 15  #integer\n",
    "favorite_color = \"pink\" #string\n",
    "alive = True #boolean\n",
    "\n",
    "print(\"This person is \" + str(age) + \" and their favorite color is \" + favorite_color) \n",
    "#having the variables named like this make the variables usable and easily identifiable\n",
    "\n",
    "if alive == True:\n",
    "    print (\"This person is alive\")\n",
    "else:\n",
    "    print (\"This person has passed away\")"
   ]
  },
  {
   "cell_type": "markdown",
   "metadata": {},
   "source": [
    "# My Answer to Hacks 2:\n",
    "\n",
    "1. An assignment operator, like the \"=\" in python, assigns a value to a variable. Assignment operators can assign strings, integers, and booleans to variables. This allows for a user to use the variables in various functions.\n",
    "\n",
    "2. In Colledgeboard pseudocode, the symbol \"<--\" is the assignment operator (assigns values to variables).\n",
    "\n",
    "3. The print command will print the latest value of a variable. Due to the value of x being changed to 22, the command will display 22, not 15.\n",
    "\n",
    "\n",
    "# Hacks 3 My Answers\n",
    "\n",
    "1. A list is a finite series of ordered values.\n",
    "2. An element is a value within a list.\n",
    "3. An easy way to reference the elements in a list or string is by indexing. You can use the print function to print a specific element in a list.\n",
    "4. An example of a string is \"apple\"."
   ]
  },
  {
   "cell_type": "markdown",
   "metadata": {},
   "source": [
    "# Hacks 4 Answers"
   ]
  },
  {
   "cell_type": "code",
   "execution_count": 2,
   "metadata": {},
   "outputs": [
    {
     "name": "stdout",
     "output_type": "stream",
     "text": [
      "Goldfish\n",
      "Goldfish\n",
      "['bowtie', 'penne', 'macaroni']\n",
      "milkshake\n",
      "Coke\n"
     ]
    }
   ],
   "source": [
    "favfoods = [\"mac and cheese\", \"pizza\", \"pasta\", \"Goldfish\"] #normal list\n",
    "print(favfoods[3]) #this prints the fourth element (index 3) because in python the index starts at 0\n",
    "print(favfoods[-1]) #This prints the fourth element as well\n",
    "\n",
    "\n",
    "#below is a dictionary of lists to show my understanding\n",
    "\n",
    "awesomefoods = {\n",
    "    \"Pastas\" : [\"bowtie\", \"penne\", \"macaroni\"],\n",
    "    \"Deserts\" : [\"ice cream\", \"cake\", \"cupcakes\", \"milkshake\", \"brownies\", \"pie\"],\n",
    "    \"Drinks\" : [\"Fanta\", \"Shirley Temple\", \"Sprite\", \"Coke\", \"Pepsi\"]\n",
    "}\n",
    "\n",
    "#indexing the elements within the lists within the dictionary\n",
    "print(awesomefoods[\"Pastas\"]) #This will print all the pastas in the pasta list\n",
    "print(awesomefoods[\"Deserts\"][3]) #This will print out the fourth element in the deserts list\n",
    "print(awesomefoods[\"Drinks\"][-2]) #This will print the fourth element in the drinks list\n"
   ]
  },
  {
   "cell_type": "markdown",
   "metadata": {},
   "source": [
    "# Hacks 5 Answers"
   ]
  },
  {
   "cell_type": "code",
   "execution_count": 3,
   "metadata": {},
   "outputs": [
    {
     "name": "stdout",
     "output_type": "stream",
     "text": [
      "[5, 6, 7]\n"
     ]
    }
   ],
   "source": [
    "num1=input(\"Input a number. \")\n",
    "num2=input(\"Input a number. \")\n",
    "num3=input(\"Input a number. \")\n",
    "add=input(\"How much would you like to add? \")\n",
    "\n",
    "# Add code in the space below\n",
    "\n",
    "numlist = [int(num1), int(num2), int(num3)]\n",
    "\n",
    "# The following is the code that adds the inputted addend to the other numbers. It is hidden from the user.\n",
    "\n",
    "for i in numlist:\n",
    "    numlist[i -1] += int(add)\n",
    "\n",
    "print(numlist)"
   ]
  },
  {
   "cell_type": "code",
   "execution_count": 4,
   "metadata": {},
   "outputs": [
    {
     "name": "stdout",
     "output_type": "stream",
     "text": [
      "Hello, avac54765 running /bin/python3\n",
      "You will be asked 4 questions.\n",
      "Question: Are you ready to take a test?\n",
      "Question: The purpose of lists and dictionaries are to manage the ____ of a program\n",
      "complexity is correct!\n",
      "Question: Lists are a form of data ______\n",
      "abstraction is correct!\n",
      "Question: Which brackets are used to assign values to a variable to make a list?\n",
      "[] is correct!\n",
      "avac54765 you scored 3/4\n"
     ]
    }
   ],
   "source": [
    "import getpass, sys\n",
    "\n",
    "def question_with_response(prompt):\n",
    "    print(\"Question: \" + prompt)\n",
    "    msg = input()\n",
    "    return msg\n",
    "\n",
    "questions = 4\n",
    "correct = 0\n",
    "\n",
    "print('Hello, ' + getpass.getuser() + \" running \" + sys.executable)\n",
    "print(\"You will be asked \" + str(questions) + \" questions.\")\n",
    "question_with_response(\"Are you ready to take a test?\")\n",
    "\n",
    "rsp = question_with_response(\"The purpose of lists and dictionaries are to manage the ____ of a program\")\n",
    "if rsp == \"complexity\":\n",
    "    print(rsp + \" is correct!\")\n",
    "    correct += 1\n",
    "else:\n",
    "    print(rsp + \" is incorrect!\")\n",
    "\n",
    "rsp = question_with_response(\"Lists are a form of data ______\")\n",
    "if rsp == \"abstraction\":\n",
    "    print(rsp + \" is correct!\")\n",
    "    correct += 1\n",
    "else:\n",
    "    print(rsp + \" is incorrect!\")\n",
    "\n",
    "rsp = question_with_response(\"Which brackets are used to assign values to a variable to make a list?\")\n",
    "if rsp == \"[]\":\n",
    "    print(rsp + \" is correct!\")\n",
    "    correct += 1\n",
    "else:\n",
    "    print(rsp + \" is incorrect!\") \n",
    "\n",
    "print(getpass.getuser() + \" you scored \" + str(correct) +\"/\" + str(questions))"
   ]
  },
  {
   "cell_type": "code",
   "execution_count": 5,
   "metadata": {},
   "outputs": [
    {
     "name": "stdout",
     "output_type": "stream",
     "text": [
      "['pizza', 'hot dog', 'sushi', 'strawberry', 'sandwich']\n"
     ]
    }
   ],
   "source": [
    "foods = [\"pizza\", \"hot dog\", \"sushi\", \"strawberry\", \"sandwich\"]\n",
    "print(foods)"
   ]
  },
  {
   "cell_type": "code",
   "execution_count": 6,
   "metadata": {},
   "outputs": [
    {
     "name": "stdout",
     "output_type": "stream",
     "text": [
      "Alexa Lydia Jessica Nicole\n",
      "['Alexa', 'Lydia', 'Jessica', 'Nicole']\n"
     ]
    }
   ],
   "source": [
    "# below is a list of my friends the slow and long way\n",
    "friend1 = \"Alexa\"\n",
    "friend2 = \"Lydia\"\n",
    "friend3 = \"Jessica\"\n",
    "friend4 = \"Nicole\"\n",
    "print(friend1, friend2, friend3, friend4)\n",
    "\n",
    "# below is a list of my friends with managed complexity\n",
    "\n",
    "friends = [\"Alexa\", \"Lydia\", \"Jessica\", \"Nicole\"]\n",
    "print(friends)"
   ]
  },
  {
   "cell_type": "markdown",
   "metadata": {},
   "source": [
    "# Team Two Lesson\n",
    "### "
   ]
  }
 ],
 "metadata": {
  "kernelspec": {
   "display_name": "Python 3.8.10 64-bit",
   "language": "python",
   "name": "python3"
  },
  "language_info": {
   "codemirror_mode": {
    "name": "ipython",
    "version": 3
   },
   "file_extension": ".py",
   "mimetype": "text/x-python",
   "name": "python",
   "nbconvert_exporter": "python",
   "pygments_lexer": "ipython3",
   "version": "3.8.10"
  },
  "orig_nbformat": 4,
  "vscode": {
   "interpreter": {
    "hash": "916dbcbb3f70747c44a77c7bcd40155683ae19c65e1c03b4aa3499c5328201f1"
   }
  }
 },
 "nbformat": 4,
 "nbformat_minor": 2
}
