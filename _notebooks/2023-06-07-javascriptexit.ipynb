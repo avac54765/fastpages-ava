{
 "cells": [
  {
   "attachments": {},
   "cell_type": "markdown",
   "metadata": {},
   "source": [
    "# Javascript Exit Ticket\n",
    "> Showing my understanding of javascript as we leave CSP.\n",
    "- toc: true\n",
    "- permalink: /java/exit\n",
    "- comments: true\n",
    "- categories: [week 36, javascript]"
   ]
  },
  {
   "attachments": {},
   "cell_type": "markdown",
   "metadata": {},
   "source": [
    "<html>\n",
    "  <head>\n",
    "    <style>\n",
    "      input {\n",
    "        margin-bottom: 10px;\n",
    "      }\n",
    "    </style>\n",
    "  </head>\n",
    "  <body>\n",
    "    <h2>Length Unit Converter</h2>\n",
    "    <label for=\"metersInput\">Meters:</label>\n",
    "    <input type=\"number\" id=\"metersInput\" step=\"0.01\" />\n",
    "    <br />\n",
    "    <label for=\"feetInput\">Feet:</label>\n",
    "    <input type=\"number\" id=\"feetInput\" step=\"0.01\" />\n",
    "    <br />\n",
    "    <button onclick=\"convertMetersToFeet()\">Convert Meters to Feet</button>\n",
    "    <button onclick=\"convertFeetToMeters()\">Convert Feet to Meters</button>\n",
    "    <script>\n",
    "      // Conversion constants\n",
    "      const METERS_TO_FEET = 3.28084;\n",
    "      const FEET_TO_METERS = 0.3048;\n",
    "      // Conversion functions\n",
    "      function convertMetersToFeet() {\n",
    "        const metersInput = document.getElementById(\"metersInput\");\n",
    "        const feetInput = document.getElementById(\"feetInput\");\n",
    "        const meters = parseFloat(metersInput.value);\n",
    "        const feet = meters * METERS_TO_FEET;\n",
    "        feetInput.value = feet.toFixed(2);\n",
    "      }\n",
    "      function convertFeetToMeters() {\n",
    "        const feetInput = document.getElementById(\"feetInput\");\n",
    "        const metersInput = document.getElementById(\"metersInput\");\n",
    "        const feet = parseFloat(feetInput.value);\n",
    "        const meters = feet * FEET_TO_METERS;\n",
    "        metersInput.value = meters.toFixed(2);\n",
    "      }\n",
    "    </script>\n",
    "  </body>\n",
    "</html>\n",
    "\n"
   ]
  }
 ],
 "metadata": {
  "kernelspec": {
   "display_name": "base",
   "language": "python",
   "name": "python3"
  },
  "language_info": {
   "codemirror_mode": {
    "name": "ipython",
    "version": 3
   },
   "file_extension": ".py",
   "mimetype": "text/x-python",
   "name": "python",
   "nbconvert_exporter": "python",
   "pygments_lexer": "ipython3",
   "version": "3.9.12"
  },
  "orig_nbformat": 4
 },
 "nbformat": 4,
 "nbformat_minor": 2
}
