{
 "cells": [
  {
   "attachments": {},
   "cell_type": "markdown",
   "metadata": {},
   "source": [
    "# Javascript Exit Ticket\n",
    "> Showing my understanding of javascript as we leave CSP.\n",
    "- toc: true\n",
    "- permalink: /java/exit\n",
    "- comments: true\n",
    "- categories: [week 36, javascript]"
   ]
  },
  {
   "attachments": {},
   "cell_type": "markdown",
   "metadata": {},
   "source": [
    "# A Length Unit Converter for Meters and Feet\n",
    "> Using the magic command in jupyter notebook, I am able to write in HTML and javascript and interact with my conversions calculator. "
   ]
  },
  {
   "cell_type": "code",
   "execution_count": 12,
   "metadata": {},
   "outputs": [
    {
     "data": {
      "text/html": [
       "<style>\n",
       "  input {\n",
       "    margin-bottom: 20px;\n",
       "  }\n",
       "</style>\n",
       "<h2>Length Unit Converter</h2>\n",
       "<label for=\"metersInput\">Meters:</label>\n",
       "<input type=\"number\" id=\"metersInput\" step=\"0.01\" /><br />\n",
       "<label for=\"feetInput\">Feet:</label>\n",
       "<input type=\"number\" id=\"feetInput\" step=\"0.01\" /><br />\n",
       "<button onclick=\"convertMetersToFeet()\">Convert Meters to Feet</button>\n",
       "<button onclick=\"convertFeetToMeters()\">Convert Feet to Meters</button>\n",
       "<script>\n",
       "  // Conversion constants\n",
       "  const METERS_TO_FEET = 3.28084;\n",
       "  const FEET_TO_METERS = 0.3048;\n",
       "\n",
       "  // defining the functions above\n",
       "  function convertMetersToFeet() {\n",
       "    const metersInput = document.getElementById(\"metersInput\");\n",
       "    const feetInput = document.getElementById(\"feetInput\");\n",
       "\n",
       "    const meters = parseFloat(metersInput.value);\n",
       "    const feet = meters * METERS_TO_FEET;\n",
       "    feetInput.value = feet.toFixed(2);\n",
       "  }\n",
       "\n",
       "  function convertFeetToMeters() {\n",
       "    const feetInput = document.getElementById(\"feetInput\");\n",
       "    const metersInput = document.getElementById(\"metersInput\");\n",
       "\n",
       "    const feet = parseFloat(feetInput.value);\n",
       "    const meters = feet * FEET_TO_METERS;\n",
       "    metersInput.value = meters.toFixed(2);\n",
       "  }\n",
       "</script>\n",
       "\n"
      ],
      "text/plain": [
       "<IPython.core.display.HTML object>"
      ]
     },
     "metadata": {},
     "output_type": "display_data"
    }
   ],
   "source": [
    "%%html\n",
    "<style>\n",
    "  input {\n",
    "    margin-bottom: 20px;\n",
    "  }\n",
    "</style>\n",
    "<h2>Length Unit Converter</h2>\n",
    "<label for=\"metersInput\">Meters:</label>\n",
    "<input type=\"number\" id=\"metersInput\" step=\"0.01\" /><br />\n",
    "<label for=\"feetInput\">Feet:</label>\n",
    "<input type=\"number\" id=\"feetInput\" step=\"0.01\" /><br />\n",
    "<button onclick=\"convertMetersToFeet()\">Convert Meters to Feet</button>\n",
    "<button onclick=\"convertFeetToMeters()\">Convert Feet to Meters</button>\n",
    "<script>\n",
    "  // Conversion constants\n",
    "  const METERS_TO_FEET = 3.28084;\n",
    "  const FEET_TO_METERS = 0.3048;\n",
    "\n",
    "  // defining the functions above\n",
    "  function convertMetersToFeet() {\n",
    "    const metersInput = document.getElementById(\"metersInput\");\n",
    "    const feetInput = document.getElementById(\"feetInput\");\n",
    "\n",
    "    const meters = parseFloat(metersInput.value);\n",
    "    const feet = meters * METERS_TO_FEET;\n",
    "    feetInput.value = feet.toFixed(2);\n",
    "  }\n",
    "\n",
    "  function convertFeetToMeters() {\n",
    "    const feetInput = document.getElementById(\"feetInput\");\n",
    "    const metersInput = document.getElementById(\"metersInput\");\n",
    "\n",
    "    const feet = parseFloat(feetInput.value);\n",
    "    const meters = feet * FEET_TO_METERS;\n",
    "    metersInput.value = meters.toFixed(2);\n",
    "  }\n",
    "</script>\n",
    "\n"
   ]
  },
  {
   "attachments": {},
   "cell_type": "markdown",
   "metadata": {},
   "source": [
    "# Explanation:\n",
    "\n",
    "Using html, I am able to style the buttons to have space between them. I am also able to create two inputs and corresponding buttons.\n",
    "\n",
    "Javascript allows me to actually create the functions for the conversions. I use const to define the conversion constants (1 meter = 3.28084 feet, and 1 foot= 0.3048 meter) which I can use in my functions. \n",
    "\n",
    "The javascript gets the input values by getElementById with the ids for the forms. ParseFloat makes sure the inputs are floating point numbers (can be used for calculations). The input values are now ready to be multiplied by their conversion constant to get meters/feet that are equivalent. The toFixed(2) allows the number to be rounded to two decimal places.\n",
    "\n",
    "The metersInput.value and the feetInput.value with the toFixed updates the input field to have the new conversion value."
   ]
  }
 ],
 "metadata": {
  "kernelspec": {
   "display_name": "base",
   "language": "python",
   "name": "python3"
  },
  "language_info": {
   "codemirror_mode": {
    "name": "ipython",
    "version": 3
   },
   "file_extension": ".py",
   "mimetype": "text/x-python",
   "name": "python",
   "nbconvert_exporter": "python",
   "pygments_lexer": "ipython3",
   "version": "3.9.12"
  },
  "orig_nbformat": 4
 },
 "nbformat": 4,
 "nbformat_minor": 2
}
