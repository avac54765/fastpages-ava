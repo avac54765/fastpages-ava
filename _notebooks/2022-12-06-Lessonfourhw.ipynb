{
 "cells": [
  {
   "cell_type": "markdown",
   "metadata": {},
   "source": [
    "# Lesson Four Homework\n",
    "\n",
    "> Lesson Four hacks\n",
    "\n",
    "- title: Lesson Four Homework\n",
    "- toc: true\n",
    "- comments: true\n",
    "- permalink: /lessonfour/homework\n",
    "- image: /images/hw.jpg\n",
    "- categories: [week 15]"
   ]
  },
  {
   "cell_type": "markdown",
   "metadata": {},
   "source": [
    "# Hacks 3.8.1\n",
    "\n",
    "1. Iteration is a term used in computer science to simplify code by repetition. The code will use loops to repeat until a condition is met.\n",
    "2. Iteration logic example: packing boxes\n",
    "    1. grab a box\n",
    "    2. add two blankets\n",
    "    3. add one sleep mask\n",
    "    5. repeat steps one, two, and three until you have 10 packed boxes\n",
    "    6. pack the boxes into the truck\n",
    "3. below:\n",
    "\n"
   ]
  },
  {
   "cell_type": "code",
   "execution_count": 1,
   "metadata": {},
   "outputs": [
    {
     "name": "stdout",
     "output_type": "stream",
     "text": [
      "A student recieves a donut\n",
      "A student recieves a donut\n",
      "A student recieves a donut\n",
      "A student recieves a donut\n",
      "A student recieves a donut\n",
      "You have no donuts left\n"
     ]
    }
   ],
   "source": [
    "donuts = int(input(\"How many donuts do you have?\"))\n",
    "\n",
    "while donuts > 0:\n",
    "    print(\"A student recieves a donut\")\n",
    "    donuts -= 1\n",
    "\n",
    "print (\"You have no donuts left\")\n"
   ]
  },
  {
   "cell_type": "markdown",
   "metadata": {},
   "source": [
    "# Hacks 3.8.2\n",
    "\n",
    "1. An iteration statement is a statement that executes a segment of code zero or more times in order until a condition is met or there is a break in the code."
   ]
  },
  {
   "cell_type": "code",
   "execution_count": null,
   "metadata": {},
   "outputs": [],
   "source": [
    "# decending list\n",
    "decending_list = [int(input(\"What number would you like to countdown from?\"))]  \n",
    "\n",
    "for i in decending_list:\n",
    "    i -= 1\n",
    "    decending_list.append(i)\n",
    "    if i == 0:\n",
    "        break\n",
    "print(decending_list)"
   ]
  },
  {
   "cell_type": "code",
   "execution_count": 2,
   "metadata": {},
   "outputs": [
    {
     "name": "stdout",
     "output_type": "stream",
     "text": [
      "3\n",
      "16\n",
      "29\n",
      "42\n",
      "55\n",
      "68\n",
      "81\n"
     ]
    }
   ],
   "source": [
    "# this is my list that shows 3,16,29,42,55,68, and 81\n",
    "i = 3\n",
    "\n",
    "while i <= 81:\n",
    "    print(i)\n",
    "    i += 13 "
   ]
  },
  {
   "cell_type": "markdown",
   "metadata": {},
   "source": [
    "# Hacks Unit 3 Section 10\n",
    "\n",
    "### Quiz:\n",
    "![Quiz score](/images/lessonfourquiz.png)\n",
    "\n",
    "### Minimum list:\n",
    "\n",
    "- Use the list made bellow\n",
    "- Make a variable to hold the minimum and set it to potential minimum value\n",
    "- Loop\n",
    "- Check each element to see if it is less than the minimum variable\n",
    "- If the element is less than the minimum variable, update the minimum\n",
    "- After all the elements of the list have been checked, display the minimum value"
   ]
  },
  {
   "cell_type": "code",
   "execution_count": 3,
   "metadata": {},
   "outputs": [
    {
     "name": "stdout",
     "output_type": "stream",
     "text": [
      "10\n"
     ]
    }
   ],
   "source": [
    "nums = [\"10\", \"15\", \"20\", \"25\", \"30\", \"35\"]\n",
    "\n",
    "minimum = 50\n",
    "\n",
    "for i in nums:\n",
    "    if int(i) < minimum:\n",
    "        minimum = int(i)\n",
    "\n",
    "print (minimum)"
   ]
  },
  {
   "cell_type": "markdown",
   "metadata": {},
   "source": [
    "# Extra Work\n",
    "\n",
    "I decided to go further to understand all of the list functions. Below I have coded an algorithim that incorporates sorted, append, length, and max to track monthly earnings from work."
   ]
  },
  {
   "cell_type": "code",
   "execution_count": 11,
   "metadata": {},
   "outputs": [
    {
     "name": "stdout",
     "output_type": "stream",
     "text": [
      "sorted:\n",
      "[1, 2, 10, 500, 10000]\n",
      "Your highest monthly earning is $10000\n",
      "You have been working for 5 months\n"
     ]
    }
   ],
   "source": [
    "monthly_earnings = []\n",
    "\n",
    "a = 0\n",
    "while a == 0: # this will continue asking for each month's earnings to add to the list until the user enters nothing (clicks enter)\n",
    "    money = input(\"How much money did you make this month?\")\n",
    "    if money == \"\":\n",
    "        break \n",
    "    monthly_earnings.append(int(money)) # this adds all of the input into the list\n",
    "   \n",
    "    \n",
    "\n",
    "sort = input(\"Do you want to sort your earnings?\") \n",
    "\n",
    "if sort == \"yes\": # if they want to sort earnings\n",
    "    print(\"sorted:\")\n",
    "    print(sorted(monthly_earnings))\n",
    "else: # if they don't want to sort earnings, it will print unsorted\n",
    "    print(\"unsorted:\")\n",
    "    print(monthly_earnings)\n",
    "\n",
    "print(\"Your highest monthly earning is $\" + str(max(monthly_earnings)))\n",
    "print(\"You have been working for \" + str(len(monthly_earnings)) + \" months\")"
   ]
  }
 ],
 "metadata": {
  "kernelspec": {
   "display_name": "Python 3.8.10 64-bit",
   "language": "python",
   "name": "python3"
  },
  "language_info": {
   "codemirror_mode": {
    "name": "ipython",
    "version": 3
   },
   "file_extension": ".py",
   "mimetype": "text/x-python",
   "name": "python",
   "nbconvert_exporter": "python",
   "pygments_lexer": "ipython3",
   "version": "3.8.10"
  },
  "orig_nbformat": 4,
  "vscode": {
   "interpreter": {
    "hash": "916dbcbb3f70747c44a77c7bcd40155683ae19c65e1c03b4aa3499c5328201f1"
   }
  }
 },
 "nbformat": 4,
 "nbformat_minor": 2
}
