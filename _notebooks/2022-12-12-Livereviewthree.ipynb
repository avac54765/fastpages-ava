{
 "cells": [
  {
   "cell_type": "markdown",
   "metadata": {},
   "source": [
    "# Lessons Live Review Three\n",
    "> Notes and hacks for the third review of lessons (12/8-12/12). Lessons 6 and 7 (Unit 3 Sections 12-15).\n",
    "\n",
    "\n",
    "- title: Lessons Live Review Three\n",
    "- toc: true\n",
    "- comments: true\n",
    "- permalink: /lessonsreview/three\n",
    "- image: /images/lesson.jpg\n",
    "- categories: [week 16, functions, parameters, procedrues, python, javascript, libraries, import]"
   ]
  },
  {
   "cell_type": "markdown",
   "metadata": {},
   "source": [
    "# Hack Grades\n",
    "\n",
    "lesson 9-11: 0.97/1\n",
    "lesson 12-13: 0.9/1\n",
    "lesson 14-15: 0.9/1\n",
    "\n",
    "total: 0.97 + 0.9 + 0.9 = 2.77/3"
   ]
  },
  {
   "cell_type": "markdown",
   "metadata": {},
   "source": [
    "# Lesson Vocabulary Linked below:\n",
    "\n",
    "[click here](https://avac54765.github.io/fastpages-ava/voacab/livereviewthree)"
   ]
  },
  {
   "cell_type": "markdown",
   "metadata": {},
   "source": [
    "# Unit 3 Sections 12-13 Notes\n",
    "\n",
    "## Procedures\n",
    "- <mark>A procedure </mark>is a named set of instructions that can take in parameters and return values.\n",
    "    - May be called \"method\" or \"function\" in different programming languages.\n",
    "- <mark>Parameters</mark> are independent variables used in the procedure to produce a result.\n",
    "    - allows a procedure to execute without initially knowing specific input values.\n",
    "    - calling a procedure = write the name of the procedure followed by the parentheses with the parameters of the procedure\n",
    "\n",
    "Example:"
   ]
  },
  {
   "cell_type": "code",
   "execution_count": null,
   "metadata": {},
   "outputs": [],
   "source": [
    "# Below is a procedure\n",
    "x = 5\n",
    "y = 3\n",
    "\n",
    "def multiply(x, y):  # (x,y) is a parameter\n",
    "    product = x * y\n",
    "    return product\n",
    "\n",
    "answer = multiply(x, y) # this is the procedure being called\n",
    "print(\"The product of\", x, \"times\", y, \"is\", answer)"
   ]
  },
  {
   "cell_type": "markdown",
   "metadata": {},
   "source": [
    "# Determining Procedure Results\n",
    "\n",
    "- To determine the result = follow the code line by line and see what each one does\n",
    "    - look at: function parameters, return values, and statements\n",
    "    - return values = write the syntax return followed by the expression you would like to return\n",
    "    - A return statement exits a function and instructs python to continue executing the program and to return a certain value\n",
    "\n",
    "Example:"
   ]
  },
  {
   "cell_type": "code",
   "execution_count": null,
   "metadata": {},
   "outputs": [],
   "source": [
    "def divide(num1,num2):\n",
    "      x = num1/num2\n",
    "      return x # return value returns value of variable x"
   ]
  },
  {
   "cell_type": "markdown",
   "metadata": {},
   "source": [
    "## Managing Complexity\n",
    "\n",
    "Vocab:\n",
    "- <mark> Modularity </mark> - the practice of breaking a complex program into smaller, independent parts or modules that can be used and reused in different parts of the program\n",
    "- <mark> Abstraction </mark> - the practice of hiding the details of how a particular code or system works and exposing only the essential features or functions that are necessary for other parts of the program to use\n",
    "- <mark> Duplication </mark>- having multiple duplicate code blocks, often decreasing readability and efficiency\n",
    "- <mark> Logic </mark> - the sequence of steps and operations that a computer follows to execute a program, including the specific instructions and decision-making processes built into the code\n",
    "\n",
    "### Modularity and Abstraction example form hack (avoids duplication):"
   ]
  },
  {
   "cell_type": "code",
   "execution_count": null,
   "metadata": {},
   "outputs": [],
   "source": [
    "# Hack 3.B #2\n",
    "questionnumber = 3\n",
    "meals = []\n",
    "questions = [\n",
    "    \"What did you eat for breakfast? Bacon, eggs, or cereal?\",\n",
    "    \"What did you eat for lunch? A sandwich, mac and cheese, or a lunchable?\",\n",
    "    \"What did you eat for dinner? Pizza, pasta, or a salad?\"\n",
    "]\n",
    "\n",
    "def mealask(question):\n",
    "    print(\"Question: \", question)\n",
    "    response = input()\n",
    "    print(\"Your response: \", response)\n",
    "    meals.append(response)\n",
    "\n",
    "for number in range(questionnumber):\n",
    "    mealask(questions[number])\n",
    "\n",
    "for i in meals:\n",
    "    if i == \"cereal\" or i == \"lunchable\" or i == \"pizza\":\n",
    "        print(i, \" was not a healthy choice\")\n",
    "    elif i == \"bacon\" or i == \"mac and cheese\" or i == \"pasta\":\n",
    "        print(i, \" was not a bad choice\")\n",
    "    else:\n",
    "        print(i, \" was a healthy choice\")"
   ]
  },
  {
   "cell_type": "markdown",
   "metadata": {},
   "source": [
    "## Developing Procedures\n",
    "\n",
    "- <mark>Procedure </mark>- a module of code that is created to complete a certain task, this is basically a function\n",
    "- <mark>Procedure Name</mark> - the name that is given to a function/procedure\n",
    "-<mark>Parameters</mark> - a variable that is used in a function to allow for data to be imported into a function\n",
    "-<mark>Arguments</mark> - a way to provide information to a function, usually defined outside a function and then imported into a function with parameters\n",
    "\n",
    "below is the basic formatting for procedures in python:"
   ]
  },
  {
   "cell_type": "code",
   "execution_count": null,
   "metadata": {},
   "outputs": [],
   "source": [
    "def function(a,b): # function is defined\n",
    "  print(a+b) # prints output of variables\n",
    "\n",
    "function(1,2) # one instance that it can be used\n",
    "function(2,3) # another instance"
   ]
  },
  {
   "cell_type": "markdown",
   "metadata": {},
   "source": [
    "below is the basic formatting for procedures in javascript:"
   ]
  },
  {
   "cell_type": "code",
   "execution_count": null,
   "metadata": {
    "vscode": {
     "languageId": "javascript"
    }
   },
   "outputs": [],
   "source": [
    "function Newfunction(a,b) {\n",
    "  return a + b;\n",
    "}\n",
    "\n",
    "Function(1,2)\n",
    "Function(2,3)"
   ]
  },
  {
   "cell_type": "markdown",
   "metadata": {},
   "source": [
    "## Calling Functions in HTML\n",
    "\n",
    "- Use javascript\n",
    "- define your funtion\n",
    "- call your function with a button and onclick\n",
    "\n",
    "Example:"
   ]
  },
  {
   "cell_type": "code",
   "execution_count": null,
   "metadata": {
    "vscode": {
     "languageId": "html"
    }
   },
   "outputs": [],
   "source": [
    "<!-- function is called here -->\n",
    "<button id=\"enter\" onclick=\"print(a,b)\">HI</button> \n",
    "<p id=\"result\"></p>\n",
    "<!-- javascript -->\n",
    "<script>\n",
    "    function print(a,b) {\n",
    "        document.getElementById(\"result\").innerHTML = a + b // math\n",
    "    }\n",
    "    // variables are defined\n",
    "    var a = 1\n",
    "    var b = 2\n",
    "</script>"
   ]
  },
  {
   "cell_type": "markdown",
   "metadata": {},
   "source": [
    "# Unit 3 Sections 14-15 Notes\n",
    "\n",
    "## College Board Essential Knowledge\n",
    "\n",
    "- A <mark>software library </mark>contains procedures that can be used in the creation of new programs = a collection of code from an external source that can be used to add functionality to a program.\n",
    "- Existing segments of code can come from internal or external sources, ie. libraries or previously written code (ex. the random.randint from random)\n",
    "- libraries simplify the task of creating complex programs (code already written)\n",
    "- Application program interfaces (APIs) are specifications for how the procedures in a library behave and can be used.\n",
    "\n",
    "- <mark> Randomization </mark> generates a value between two numbers\n",
    "\n",
    "Example of libraries and randomization:"
   ]
  },
  {
   "cell_type": "code",
   "execution_count": null,
   "metadata": {},
   "outputs": [],
   "source": [
    "import random #random library\n",
    "\n",
    "#This is a magic globe that will predict how many toys you will get this winter\n",
    "\n",
    "print(\"How many toys will you get this Christmas?\")\n",
    "randomnumber = random.randint(0,100)\n",
    "\n",
    "print(\"You will get \", randomnumber, \" toys this Christmas\")"
   ]
  },
  {
   "cell_type": "markdown",
   "metadata": {},
   "source": [
    "## The Different Methods of the Random Function (in random library)\n",
    "\n",
    "< mark> Method | Description </mark>\n",
    "\n",
    "seed() | Initialize the random number generator\n",
    "\n",
    "getstate() | Returns the current internal state of the random number generator\n",
    "\n",
    "setstate() | Restores the internal state of the random number generator\n",
    "\n",
    "getrandbits() | Returns a number representing the random bits\n",
    "\n",
    "randrange() | Returns a random number between the given range\n",
    "\n",
    "randint() | Returns a random number between the given range\n",
    "\n",
    "choice() | Returns a random element from the given sequence\n",
    "\n",
    "choices() | Returns a list with a random selection from the given sequence\n",
    "\n",
    "shuffle() | Takes a sequence and returns the sequence in a random order\n",
    "\n",
    "sample() | Returns a given sample of a sequence\n",
    "\n",
    "random() | Returns a random float number between 0 and 1\n",
    "\n",
    "uniform() | Returns a random float number between two given parameters\n",
    "\n",
    "betavariate() | Returns a random float number between 0 and 1 based on the Beta distribution (used in statistics)\n",
    "\n",
    "expovariate() | Returns a random float number based on the Exponential distribution (used in statistics)\n",
    "\n",
    "gammavariate() | Returns a random float number based on the Gamma distribution (used in statistics)\n",
    "\n",
    "gauss() | Returns a random float number based on the Gaussian distribution (used in probability theories)\n",
    "\n",
    "lognormvariate() | Returns a random float number based on a log-normal distribution (used in probability theories)\n",
    "\n",
    "normalvariate() | Returns a random float number based on the normal distribution (used in probability theories)\n",
    "\n",
    "vonmisesvariate() | Returns a random float number based on the von Mises distribution (used in directional statistics)\n",
    "\n",
    "paretovariate() | Returns a random float number based on the Pareto distribution (used in probability theories)\n",
    "\n",
    "weibullvariate() | Returns a random float number based on the Weibull distribution (used in statistics)"
   ]
  },
  {
   "cell_type": "markdown",
   "metadata": {},
   "source": [
    "### Below is an example of a situation you would need the random function (a colored spinner):"
   ]
  },
  {
   "cell_type": "code",
   "execution_count": null,
   "metadata": {},
   "outputs": [],
   "source": [
    "import random\n",
    "\n",
    "colorspinner =  random.randint(1,8)\n",
    "\n",
    "if colorspinner <= 3:\n",
    "    print(\"green\")\n",
    "elif colorspinner <= 5:\n",
    "    print(\"blue\")\n",
    "elif colorspinner <= 6:\n",
    "    print(\"purple\")\n",
    "elif colorspinner <= 7:\n",
    "    print(\"red\")\n",
    "else:\n",
    "    print(\"orange\")"
   ]
  },
  {
   "cell_type": "markdown",
   "metadata": {},
   "source": [
    "# Lesson Unit 3 Section 16 Notes:\n",
    "\n",
    "This is our lesson: refer to this [presentation for notes and guidance](https://srihitakott1213.github.io/TeamBaddies/studentlesson/simulations)"
   ]
  },
  {
   "cell_type": "markdown",
   "metadata": {},
   "source": [
    "# Unit 3 Sections 17-18 Notes\n",
    "\n",
    "- <mark>Collatz</mark>= conjecture that is one of the most famous unsolved problems in mathematics. The conjecture asks whether repeating two simple arithmetic operations will eventually transform every positive integer into 1.\n",
    "\n",
    "- <mark>Hailstone numbers</mark>= The sequence of integers generated by Collatz conjecture are called Hailstone Numbers. Examples:Input : N = 7 Output : Hailstone Numbers: 7, 22, 11, 34, 17, 52, 26, 13, 40, 20, 10, 5, 16, 8, 4, 2, 1 No.> ### Iteration The action or a process of iterating or repeating:such as. : a procedure in which repetition of a sequence of operations yields results successively closer to a desired result.\n",
    "\n",
    "- <mark>Undecidable problems</mark>= An undecidable problem is one that should give a \"yes\" or \"no\" answer, but yet no algorithm exists that can answer correctly on all inputs.\n",
    "\n",
    "- <mark>Unsolvable problems</mark>= An unsolvable problem is one for which no algorithm can ever be written to find the solution."
   ]
  },
  {
   "cell_type": "code",
   "execution_count": 3,
   "metadata": {},
   "outputs": [
    {
     "name": "stdout",
     "output_type": "stream",
     "text": [
      "Hailstone numbers:  [12, 6, 3, 10, 5, 16, 8, 4, 2, 1] \n",
      "Number of iterations:  9\n"
     ]
    }
   ],
   "source": [
    "sequence = []\n",
    "\n",
    "def combinedcollatz(i):\n",
    "    while i > 1:\n",
    "        if (i % 2):    # i is odd\n",
    "            sequence.append(i)\n",
    "            i = 3*i + 1\n",
    "        else:   # i is even\n",
    "            sequence.append(i)\n",
    "            i = i//2\n",
    "    if i == 1:\n",
    "        sequence.append(1)\n",
    "    else:\n",
    "        print(i, \"is invalid, please try again\") #this will print if the number is invalid\n",
    "\n",
    " \n",
    " \n",
    "i = int(input('Enter i: '))\n",
    "combinedcollatz(i)\n",
    "print(\"Hailstone numbers: \", sequence, \"\\nNumber of iterations: \", len(sequence)-1)"
   ]
  },
  {
   "cell_type": "markdown",
   "metadata": {},
   "source": [
    "### Efficient vs. Inefficient Algorithims Examples"
   ]
  },
  {
   "cell_type": "markdown",
   "metadata": {},
   "source": [
    "\n",
    "- <mark>Algorithmic efficiency</mark> is an aspect of algorithmic programming that measures the number of steps needed to solve a problem"
   ]
  },
  {
   "cell_type": "code",
   "execution_count": null,
   "metadata": {},
   "outputs": [],
   "source": [
    "# efficient way that allows you to have unlimited tasks\n",
    "class_to_do = []\n",
    "i = 0\n",
    "while i == 0:\n",
    "    task = input(\"What assignment do you have to do today?\")\n",
    "    if task == \"nothing\":\n",
    "        i = i + 1\n",
    "    else:\n",
    "        class_to_do.append(task)\n",
    "\n",
    "print(\"Tasks you have to do today: \", class_to_do)"
   ]
  },
  {
   "cell_type": "code",
   "execution_count": null,
   "metadata": {},
   "outputs": [],
   "source": [
    "# inefficient way (plus you have to individual add a variable and input for every task)\n",
    "\n",
    "taskone = input(\"What assignment do you have to do today?\")\n",
    "print(\"You have to do\", taskone)\n",
    "\n",
    "tasktwo = input(\"What's another assignment you have to do today?\")\n",
    "print(\"You have to do\", tasktwo)\n",
    "\n",
    "taskthree = input(\"What's another assignment you have to do today?\")\n",
    "print(\"You have to do\", taskthree)\n",
    "\n",
    "taskfour = input(\"What's another assignment you have to do today?\")\n",
    "print(\"You have to do\", taskfour)"
   ]
  }
 ],
 "metadata": {
  "kernelspec": {
   "display_name": "Python 3.9.12 ('base')",
   "language": "python",
   "name": "python3"
  },
  "language_info": {
   "codemirror_mode": {
    "name": "ipython",
    "version": 3
   },
   "file_extension": ".py",
   "mimetype": "text/x-python",
   "name": "python",
   "nbconvert_exporter": "python",
   "pygments_lexer": "ipython3",
   "version": "3.9.12"
  },
  "orig_nbformat": 4,
  "vscode": {
   "interpreter": {
    "hash": "42f5b33b11979b14a25dfc2f7d362d646347e4d4086716ced9af4a87716b166a"
   }
  }
 },
 "nbformat": 4,
 "nbformat_minor": 2
}
