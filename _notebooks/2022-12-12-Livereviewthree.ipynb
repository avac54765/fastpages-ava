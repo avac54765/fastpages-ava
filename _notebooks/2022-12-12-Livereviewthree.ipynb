{
 "cells": [
  {
   "cell_type": "markdown",
   "metadata": {},
   "source": [
    "# Lessons Live Review Three\n",
    "> Notes and hacks for the third review of lessons (12/8-12/12). Lessons 6 and 7 (Unit 3 Sections 12-15).\n",
    "\n",
    "\n",
    "- title: Lessons Live Review Three\n",
    "- toc: true\n",
    "- comments: true\n",
    "- permalink: /lessonsreview/three\n",
    "- image: /images/lesson.jpg\n",
    "- categories: [week 16]"
   ]
  },
  {
   "cell_type": "markdown",
   "metadata": {},
   "source": [
    "# Unit 3 Sections 12-13 Notes\n",
    "\n",
    "## Procedures\n",
    "- <mark>A procedure </mark>is a named set of instructions that can take in parameters and return values.\n",
    "    - May be called \"method\" or \"function\" in different programming languages.\n",
    "- <mark>Parameters</mark> are independent variables used in the procedure to produce a result.\n",
    "    - allows a procedure to execute without initially knowing specific input values.\n",
    "    - calling a procedure = write the name of the procedure followed by the parentheses with the parameters of the procedure\n",
    "\n",
    "Example:"
   ]
  },
  {
   "cell_type": "code",
   "execution_count": null,
   "metadata": {},
   "outputs": [],
   "source": [
    "# Below is a procedure\n",
    "x = 5\n",
    "y = 3\n",
    "\n",
    "def multiply(x, y):  # (x,y) is a parameter\n",
    "    product = x * y\n",
    "    return product\n",
    "\n",
    "answer = multiply(x, y) # this is the procedure being called\n",
    "print(\"The product of\", x, \"times\", y, \"is\", answer)"
   ]
  },
  {
   "cell_type": "markdown",
   "metadata": {},
   "source": [
    "# Determining Procedure Results\n",
    "\n",
    "- To determine the result = follow the code line by line and see what each one does\n",
    "    - look at: function parameters, return values, and statements\n",
    "    - return values = write the syntax return followed by the expression you would like to return\n",
    "    - A return statement exits a function and instructs python to continue executing the program and to return a certain value\n",
    "\n",
    "Example:"
   ]
  },
  {
   "cell_type": "code",
   "execution_count": null,
   "metadata": {},
   "outputs": [],
   "source": [
    "def divide(num1,num2):\n",
    "      x = num1/num2\n",
    "      return x # return value returns value of variable x"
   ]
  },
  {
   "cell_type": "markdown",
   "metadata": {},
   "source": [
    "## Managing Complexity\n",
    "\n",
    "Vocab:\n",
    "- <mark> Modularity </mark> - the practice of breaking a complex program into smaller, independent parts or modules that can be used and reused in different parts of the program\n",
    "- <mark> Abstraction </mark> - the practice of hiding the details of how a particular code or system works and exposing only the essential features or functions that are necessary for other parts of the program to use\n",
    "- <mark> Duplication </mark>- having multiple duplicate code blocks, often decreasing readability and efficiency\n",
    "- <mark> Logic </mark> - the sequence of steps and operations that a computer follows to execute a program, including the specific instructions and decision-making processes built into the code\n",
    "\n",
    "### Modularity and Abstraction example form hack (avoids duplication):"
   ]
  },
  {
   "cell_type": "code",
   "execution_count": null,
   "metadata": {},
   "outputs": [],
   "source": [
    "# Hack 3.B #2\n",
    "questionnumber = 3\n",
    "meals = []\n",
    "questions = [\n",
    "    \"What did you eat for breakfast? Bacon, eggs, or cereal?\",\n",
    "    \"What did you eat for lunch? A sandwich, mac and cheese, or a lunchable?\",\n",
    "    \"What did you eat for dinner? Pizza, pasta, or a salad?\"\n",
    "]\n",
    "\n",
    "def mealask(question):\n",
    "    print(\"Question: \", question)\n",
    "    response = input()\n",
    "    print(\"Your response: \", response)\n",
    "    meals.append(response)\n",
    "\n",
    "for number in range(questionnumber):\n",
    "    mealask(questions[number])\n",
    "\n",
    "for i in meals:\n",
    "    if i == \"cereal\" or i == \"lunchable\" or i == \"pizza\":\n",
    "        print(i, \" was not a healthy choice\")\n",
    "    elif i == \"bacon\" or i == \"mac and cheese\" or i == \"pasta\":\n",
    "        print(i, \" was not a bad choice\")\n",
    "    else:\n",
    "        print(i, \" was a healthy choice\")"
   ]
  },
  {
   "cell_type": "markdown",
   "metadata": {},
   "source": [
    "## Developing Procedures\n",
    "\n",
    "- <mark>Procedure </mark>- a module of code that is created to complete a certain task, this is basically a function\n",
    "- <mark>Procedure Name</mark> - the name that is given to a function/procedure\n",
    "-<mark>Parameters</mark> - a variable that is used in a function to allow for data to be imported into a function\n",
    "-<mark>Arguments</mark> - a way to provide information to a function, usually defined outside a function and then imported into a function with parameters\n",
    "\n",
    "below is the basic formatting for procedures in python:"
   ]
  },
  {
   "cell_type": "code",
   "execution_count": null,
   "metadata": {},
   "outputs": [],
   "source": [
    "def function(a,b): # function is defined\n",
    "  print(a+b) # prints output of variables\n",
    "\n",
    "function(1,2) # one instance that it can be used\n",
    "function(2,3) # another instance"
   ]
  },
  {
   "cell_type": "markdown",
   "metadata": {},
   "source": [
    "below is the basic formatting for procedures in javascript:"
   ]
  },
  {
   "cell_type": "code",
   "execution_count": null,
   "metadata": {
    "vscode": {
     "languageId": "javascript"
    }
   },
   "outputs": [],
   "source": [
    "function Newfunction(a,b) {\n",
    "  return a + b;\n",
    "}\n",
    "\n",
    "Function(1,2)\n",
    "Function(2,3)"
   ]
  },
  {
   "cell_type": "markdown",
   "metadata": {},
   "source": [
    "## Calling Functions in HTML\n",
    "\n",
    "- Use javascript\n",
    "- define your funtion\n",
    "- call your function with a button and onclick\n",
    "\n",
    "Example:"
   ]
  },
  {
   "cell_type": "code",
   "execution_count": null,
   "metadata": {
    "vscode": {
     "languageId": "html"
    }
   },
   "outputs": [],
   "source": [
    "<!-- function is called here -->\n",
    "<button id=\"enter\" onclick=\"print(a,b)\">HI</button> \n",
    "<p id=\"result\"></p>\n",
    "<!-- javascript -->\n",
    "<script>\n",
    "    function print(a,b) {\n",
    "        document.getElementById(\"result\").innerHTML = a + b // math\n",
    "    }\n",
    "    // variables are defined\n",
    "    var a = 1\n",
    "    var b = 2\n",
    "</script>"
   ]
  },
  {
   "cell_type": "markdown",
   "metadata": {},
   "source": [
    "# Unit 3 Sections 14-15 Notes\n",
    "\n"
   ]
  }
 ],
 "metadata": {
  "kernelspec": {
   "display_name": "Python 3.9.12 ('base')",
   "language": "python",
   "name": "python3"
  },
  "language_info": {
   "codemirror_mode": {
    "name": "ipython",
    "version": 3
   },
   "file_extension": ".py",
   "mimetype": "text/x-python",
   "name": "python",
   "nbconvert_exporter": "python",
   "pygments_lexer": "ipython3",
   "version": "3.9.12"
  },
  "orig_nbformat": 4,
  "vscode": {
   "interpreter": {
    "hash": "42f5b33b11979b14a25dfc2f7d362d646347e4d4086716ced9af4a87716b166a"
   }
  }
 },
 "nbformat": 4,
 "nbformat_minor": 2
}
