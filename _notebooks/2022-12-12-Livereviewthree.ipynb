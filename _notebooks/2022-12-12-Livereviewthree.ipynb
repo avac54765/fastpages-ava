{
 "cells": [
  {
   "cell_type": "markdown",
   "metadata": {},
   "source": [
    "# Lessons Live Review Three\n",
    "> Notes and hacks for the third review of lessons (12/8-12/12). Lessons 6 and 7 (Unit 3 Sections 12-15).\n",
    "\n",
    "\n",
    "- title: Lessons Live Review Three\n",
    "- toc: true\n",
    "- comments: true\n",
    "- permalink: /lessonsreview/three\n",
    "- image: /images/lesson.jpg\n",
    "- categories: [week 16]"
   ]
  },
  {
   "cell_type": "markdown",
   "metadata": {},
   "source": []
  }
 ],
 "metadata": {
  "kernelspec": {
   "display_name": "Python 3.8.10 64-bit",
   "language": "python",
   "name": "python3"
  },
  "language_info": {
   "name": "python",
   "version": "3.8.10"
  },
  "orig_nbformat": 4,
  "vscode": {
   "interpreter": {
    "hash": "916dbcbb3f70747c44a77c7bcd40155683ae19c65e1c03b4aa3499c5328201f1"
   }
  }
 },
 "nbformat": 4,
 "nbformat_minor": 2
}
