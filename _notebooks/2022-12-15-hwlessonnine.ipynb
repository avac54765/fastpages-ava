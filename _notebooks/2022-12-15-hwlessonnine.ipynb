{
 "cells": [
  {
   "cell_type": "markdown",
   "metadata": {},
   "source": [
    "# Lesson Nine 3.17-18 Homework\n",
    "\n",
    "> Lesson nine hacks\n",
    "\n",
    "- title: Lesson Nine Homework\n",
    "- toc: true\n",
    "- comments: true\n",
    "- permalink: /lessonnine/homework\n",
    "- image: /images/hw.jpg\n",
    "- categories: [week 16, hacks]"
   ]
  },
  {
   "cell_type": "markdown",
   "metadata": {},
   "source": [
    "# Hacks # 1\n",
    "Take the two codes above and combine them so one imput gives the output that contains both the hailstone numbers and the number of iterations it takes i = 1. The more efficient the code, the higher your grade will be. (Algorithm Efficency) (.25)"
   ]
  },
  {
   "cell_type": "code",
   "execution_count": 1,
   "metadata": {},
   "outputs": [
    {
     "name": "stdout",
     "output_type": "stream",
     "text": [
      "Hailstone numbers:  [12, 6, 3, 10, 5, 16, 8, 4, 2, 1] \n",
      "Number of iterations:  9\n"
     ]
    }
   ],
   "source": [
    "sequence = []\n",
    "\n",
    "def combinedcollatz(i):\n",
    "    while i > 1:\n",
    "        if (i % 2):    # i is odd\n",
    "            sequence.append(i)\n",
    "            i = 3*i + 1\n",
    "        else:   # i is even\n",
    "            sequence.append(i)\n",
    "            i = i//2\n",
    "    if i == 1:\n",
    "        sequence.append(1)\n",
    "    else:\n",
    "        print(i, \"is invalid, please try again\") #this will print if the number is invalid\n",
    "\n",
    " \n",
    " \n",
    "i = int(input('Enter i: '))\n",
    "combinedcollatz(i)\n",
    "print(\"Hailstone numbers: \", sequence, \"\\nNumber of iterations: \", len(sequence)-1)"
   ]
  },
  {
   "cell_type": "markdown",
   "metadata": {},
   "source": [
    "# Hacks #2\n",
    "\n",
    "- Code 2 algorithms: (.25)\n",
    "\n",
    "- The first Algorithm should be efficient while the second should be innefficient. Then explain what distinguishes the efficient from the non-efficient one. (In your own words)\n",
    "\n",
    "- Explain algorithm efficiency in your own words (.25)\n",
    "\n",
    "- Code an efficient program that shows your daily tasks or schedule. (We have an example shown in our lesson) (.25)"
   ]
  },
  {
   "cell_type": "code",
   "execution_count": 2,
   "metadata": {},
   "outputs": [
    {
     "name": "stdout",
     "output_type": "stream",
     "text": [
      "Tasks you have to do today:  ['math hw', 'finish my essay', 'clean my room', 'study for physics']\n"
     ]
    }
   ],
   "source": [
    "# efficient way that allows you to have unlimited tasks\n",
    "class_to_do = []\n",
    "i = 0\n",
    "while i == 0:\n",
    "    task = input(\"What assignment do you have to do today?\")\n",
    "    if task == \"nothing\":\n",
    "        i = i + 1\n",
    "    else:\n",
    "        class_to_do.append(task)\n",
    "\n",
    "print(\"Tasks you have to do today: \", class_to_do)"
   ]
  },
  {
   "cell_type": "code",
   "execution_count": 4,
   "metadata": {},
   "outputs": [
    {
     "name": "stdout",
     "output_type": "stream",
     "text": [
      "You have to do math hw\n",
      "You have to do finish my essay\n",
      "You have to do clean my room\n",
      "You have to do study for physics\n"
     ]
    }
   ],
   "source": [
    "# inefficient way (plus you have to individual add a variable and input for every task)\n",
    "\n",
    "taskone = input(\"What assignment do you have to do today?\")\n",
    "print(\"You have to do\", taskone)\n",
    "\n",
    "tasktwo = input(\"What's another assignment you have to do today?\")\n",
    "print(\"You have to do\", tasktwo)\n",
    "\n",
    "taskthree = input(\"What's another assignment you have to do today?\")\n",
    "print(\"You have to do\", taskthree)\n",
    "\n",
    "taskfour = input(\"What's another assignment you have to do today?\")\n",
    "print(\"You have to do\", taskfour)\n"
   ]
  },
  {
   "cell_type": "markdown",
   "metadata": {},
   "source": [
    "<mark>efficiency expained</mark>: The first algorithim is much more efficient than my second algorithim. My second algorithim has repetition and duplication of inputs and printing. My first algoritim fixes this issue with way <mark>fewer steps</mark> by having a loop that will allow a user to keep inputing tasks. This avoids duplication and is easier for a programmer to understand if they're are hundreds of tasks. In my second algorithim, a programer would have to keep adding individual task variables, inputs, and print them for every single task. This is very tedious if there are many tasks. My first algorithim only has nine lines of code with two or three steps, and can print unlimited number of tasks. My second algorithim requires two lines of code for every task, or two steps for every task. This means that the code would get very long if there are many tasks.\n",
    "\n",
    "2. Algorithim efficiency is the ability of an algorithim to be concise, avoiding repetition and duplication. Efficient algorithims are short in length and require <mark>less steps</mark> to solve a problem. \n",
    "\n",
    "3. Daily tasks program below: <mark>MAYBE EXTRA CREDIT pwetty pwease</mark> for making a COMPLEX efficient alforithim for all the months in the year. This algorithim below is efficient because it only requires two/three steps instead of writing out three steps for every single month with appending each list for that month. "
   ]
  },
  {
   "cell_type": "code",
   "execution_count": 16,
   "metadata": {},
   "outputs": [
    {
     "name": "stdout",
     "output_type": "stream",
     "text": [
      "{'January': ['Funeral'], 'February': [], 'March': ['play date w Lydia'], 'April': [], 'May': [], 'June': [], 'July': [], 'August': ['Go to Disneyland'], 'September': [], 'October': [], 'November': [], 'December': ['cheer practice', 'cry to Conan Grey']}\n"
     ]
    }
   ],
   "source": [
    "yearly_schedule = {\n",
    "    'January' : [],\n",
    "    'February' : [],\n",
    "    'March' : [],\n",
    "    'April' : [],\n",
    "    'May' : [],\n",
    "    'June' : [],\n",
    "    'July' : [],\n",
    "    'August' : [],\n",
    "    'September' : [],\n",
    "    'October' : [],\n",
    "    'November' : [],\n",
    "    'December' : []\n",
    "     }\n",
    "\n",
    "i = 0\n",
    "while i == 0:\n",
    "    month = input(\"What month would you like to add to?\")\n",
    "    if month in yearly_schedule:\n",
    "        event = input(\"What event would you like to add?\")\n",
    "        yearly_schedule[month].append(event)\n",
    "    elif month == \"None\":\n",
    "        i = 1\n",
    "    else:\n",
    "        print(\"That is not a month in the year or you did not capitilize your month.\")\n",
    "\n",
    "print(yearly_schedule)"
   ]
  }
 ],
 "metadata": {
  "kernelspec": {
   "display_name": "Python 3.8.10 64-bit",
   "language": "python",
   "name": "python3"
  },
  "language_info": {
   "codemirror_mode": {
    "name": "ipython",
    "version": 3
   },
   "file_extension": ".py",
   "mimetype": "text/x-python",
   "name": "python",
   "nbconvert_exporter": "python",
   "pygments_lexer": "ipython3",
   "version": "3.8.10"
  },
  "orig_nbformat": 4,
  "vscode": {
   "interpreter": {
    "hash": "916dbcbb3f70747c44a77c7bcd40155683ae19c65e1c03b4aa3499c5328201f1"
   }
  }
 },
 "nbformat": 4,
 "nbformat_minor": 2
}
