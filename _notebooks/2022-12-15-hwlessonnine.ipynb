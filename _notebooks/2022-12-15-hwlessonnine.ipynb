{
 "cells": [
  {
   "cell_type": "markdown",
   "metadata": {},
   "source": [
    "# Lesson Nine 3.17-18 Homework\n",
    "\n",
    "> Lesson nine hacks\n",
    "\n",
    "- title: Lesson Nine Homework\n",
    "- toc: true\n",
    "- comments: true\n",
    "- permalink: /lessonnine/homework\n",
    "- image: /images/hw.jpg\n",
    "- categories: [week 16, hacks]"
   ]
  }
 ],
 "metadata": {
  "kernelspec": {
   "display_name": "Python 3.8.10 64-bit",
   "language": "python",
   "name": "python3"
  },
  "language_info": {
   "name": "python",
   "version": "3.8.10"
  },
  "orig_nbformat": 4,
  "vscode": {
   "interpreter": {
    "hash": "916dbcbb3f70747c44a77c7bcd40155683ae19c65e1c03b4aa3499c5328201f1"
   }
  }
 },
 "nbformat": 4,
 "nbformat_minor": 2
}
