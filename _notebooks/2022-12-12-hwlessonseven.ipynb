{
 "cells": [
  {
   "cell_type": "markdown",
   "metadata": {},
   "source": [
    "# Lesson Seven 3.14-15 Homework\n",
    "\n",
    "> Lesson seven hacks\n",
    "\n",
    "- title: Lesson Seven Homework\n",
    "- toc: true\n",
    "- comments: true\n",
    "- permalink: /lessonseven/homework\n",
    "- image: /images/hw.jpg\n",
    "- categories: [week 16]"
   ]
  },
  {
   "cell_type": "markdown",
   "metadata": {},
   "source": [
    "# 3.14.1 Hacks \n",
    "- Write a program that uses a library/libraries in any sort of manner.\n",
    "- Explain your work/code"
   ]
  },
  {
   "cell_type": "code",
   "execution_count": null,
   "metadata": {},
   "outputs": [],
   "source": [
    "import random #random library\n",
    "\n",
    "#This is a magic globe that will predict how many toys you will get this winter\n",
    "\n",
    "print(\"How many toys will you get this Christmas?\")\n",
    "randomnumber = random.randint(0,100)\n",
    "\n",
    "print(\"You will get \", randomnumber, \" toys this Christmas\")"
   ]
  },
  {
   "cell_type": "markdown",
   "metadata": {},
   "source": [
    "This algorithim uses the randint function from the random library to generate a random number in the range of 0-100. The number is then printed for the user to know how many presents they will recieve."
   ]
  },
  {
   "cell_type": "markdown",
   "metadata": {},
   "source": [
    "# 3.15.1 Hack\n",
    "\n",
    "* Write a few lines of code that implements the import function\n",
    "\n",
    "* Define what an import random function do\n",
    "\n",
    "* List a few other things that we can import other than random"
   ]
  },
  {
   "cell_type": "code",
   "execution_count": 1,
   "metadata": {},
   "outputs": [
    {
     "name": "stdout",
     "output_type": "stream",
     "text": [
      "2  times  3  is  6\n"
     ]
    }
   ],
   "source": [
    "import random #random library\n",
    "\n",
    "numberone = random.randint(0,2)\n",
    "numbertwo = random.randint(3,4)\n",
    "multiplication = numberone * numbertwo\n",
    "\n",
    "print(numberone, \" times \", numbertwo, \" is \", multiplication)"
   ]
  },
  {
   "cell_type": "markdown",
   "metadata": {},
   "source": [
    "- An import random function uses the random library to access pre-written segments of code that randomizes numbers. In this case, a number between 0 and 2 is randomized, and a number between 3 and 4 is randomized. We can use these functions to simulate situations such as rolling dice.\n",
    "\n",
    "- A few other things that we can import other than random are libraries such as flask, NumPy, and pandas."
   ]
  },
  {
   "cell_type": "markdown",
   "metadata": {},
   "source": [
    "\n",
    "# 3.15.2 Hacks \n",
    "- For your hacks you need to create a random number generator that will simulate this situation:\n",
    "- There is a spinner divided into eight equal parts. 3 parts of the spinner are green, two parts are blue, one part is purple, one part is red, and one part is orange. How can you simulate this situation using a random number generator.\n",
    " \n",
    "- Also answer this question: What numbers can be outputted from RANDOM(12,20) and what numbers are excluded?"
   ]
  },
  {
   "cell_type": "code",
   "execution_count": 8,
   "metadata": {},
   "outputs": [
    {
     "name": "stdout",
     "output_type": "stream",
     "text": [
      "green\n"
     ]
    }
   ],
   "source": [
    "import random\n",
    "\n",
    "colorspinner =  random.randint(1,8)\n",
    "\n",
    "if colorspinner <= 3:\n",
    "    print(\"green\")\n",
    "elif colorspinner <= 5:\n",
    "    print(\"blue\")\n",
    "elif colorspinner <= 6:\n",
    "    print(\"purple\")\n",
    "elif colorspinner <= 7:\n",
    "    print(\"red\")\n",
    "else:\n",
    "    print(\"orange\")"
   ]
  },
  {
   "cell_type": "markdown",
   "metadata": {},
   "source": [
    "### Question Answered:\n",
    "\n",
    "RANDOM(12,20) can output numbers 12, 13, 14, 15, 16, 17, 18, 19, and 20. Any number less than 12 or greater than 20 are excluded."
   ]
  }
 ],
 "metadata": {
  "kernelspec": {
   "display_name": "Python 3.8.10 64-bit",
   "language": "python",
   "name": "python3"
  },
  "language_info": {
   "codemirror_mode": {
    "name": "ipython",
    "version": 3
   },
   "file_extension": ".py",
   "mimetype": "text/x-python",
   "name": "python",
   "nbconvert_exporter": "python",
   "pygments_lexer": "ipython3",
   "version": "3.8.10"
  },
  "orig_nbformat": 4,
  "vscode": {
   "interpreter": {
    "hash": "916dbcbb3f70747c44a77c7bcd40155683ae19c65e1c03b4aa3499c5328201f1"
   }
  }
 },
 "nbformat": 4,
 "nbformat_minor": 2
}
