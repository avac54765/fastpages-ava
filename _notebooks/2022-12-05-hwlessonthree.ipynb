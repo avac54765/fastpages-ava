{
 "cells": [
  {
   "cell_type": "markdown",
   "metadata": {},
   "source": [
    "# Lesson Three Homework\n",
    "\n",
    "> Lesson Three hacks\n",
    "\n",
    "- title: Lesson Three Homework\n",
    "- toc: true\n",
    "- comments: true\n",
    "- permalink: /lessonthree/homework\n",
    "- image: /images/hw.jpg\n",
    "- categories: [week 14]"
   ]
  }
 ],
 "metadata": {
  "language_info": {
   "name": "python"
  },
  "orig_nbformat": 4
 },
 "nbformat": 4,
 "nbformat_minor": 2
}
