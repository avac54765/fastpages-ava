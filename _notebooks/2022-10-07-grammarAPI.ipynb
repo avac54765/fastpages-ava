{
 "cells": [
  {
   "cell_type": "markdown",
   "metadata": {},
   "source": [
    "# Grammar API\n",
    "\n",
    "> This API provides data about spelling and grammar checks.\n",
    "\n",
    "- title: Grammar API\n",
    "- toc: true\n",
    "- comments: true\n",
    "- permalink: /grammarAPI/python\n",
    "- image: /images/\n",
    "- categories: [week 7]\n",
    "\n",
    "{% include nav_data.html %}"
   ]
  },
  {
   "cell_type": "code",
   "execution_count": 4,
   "metadata": {},
   "outputs": [
    {
     "name": "stdout",
     "output_type": "stream",
     "text": [
      "{\"elements\":[{\"id\":0,\"errors\":[{\"word\":\"thiss\",\"position\":0,\"suggestions\":[\"this\",\"thighs\",\"theist\",\"thesis\",\"theists\",\"theism\",\"twits\",\"ethics\",\"that's\",\"thigh\"]},{\"word\":\"intresting\",\"position\":9,\"suggestions\":[\"interesting\",\"entreating\",\"entrusting\",\"uninteresting\",\"intersecting\",\"untrusting\",\"interstice\",\"entireties\",\"interning\",\"interpreting\"]}]}],\"spellingErrorCount\":2}\n"
     ]
    }
   ],
   "source": [
    "\n",
    "import requests\n",
    "\n",
    "url = \"https://jspell-checker.p.rapidapi.com/check\"\n",
    "\n",
    "payload = {\n",
    "\t\"language\": \"enUS\",\n",
    "\t\"fieldvalues\": \"thiss is intresting\",\n",
    "\t\"config\": {\n",
    "\t\t\"forceUpperCase\": False,\n",
    "\t\t\"ignoreIrregularCaps\": False,\n",
    "\t\t\"ignoreFirstCaps\": True,\n",
    "\t\t\"ignoreNumbers\": True,\n",
    "\t\t\"ignoreUpper\": False,\n",
    "\t\t\"ignoreDouble\": False,\n",
    "\t\t\"ignoreWordsWithNumbers\": True\n",
    "\t}\n",
    "}\n",
    "headers = {\n",
    "\t\"content-type\": \"application/json\",\n",
    "\t\"X-RapidAPI-Key\": \"7b146afe20msh92e84c02ae27c6ap1185b5jsnb7a574f24cbe\",\n",
    "\t\"X-RapidAPI-Host\": \"jspell-checker.p.rapidapi.com\"\n",
    "}\n",
    "\n",
    "response = requests.request(\"POST\", url, json=payload, headers=headers)\n",
    "\n",
    "print(response.text)\n",
    "\n"
   ]
  }
 ],
 "metadata": {
  "kernelspec": {
   "display_name": "Python 3.8.10 64-bit",
   "language": "python",
   "name": "python3"
  },
  "language_info": {
   "codemirror_mode": {
    "name": "ipython",
    "version": 3
   },
   "file_extension": ".py",
   "mimetype": "text/x-python",
   "name": "python",
   "nbconvert_exporter": "python",
   "pygments_lexer": "ipython3",
   "version": "3.8.10"
  },
  "orig_nbformat": 4,
  "vscode": {
   "interpreter": {
    "hash": "916dbcbb3f70747c44a77c7bcd40155683ae19c65e1c03b4aa3499c5328201f1"
   }
  }
 },
 "nbformat": 4,
 "nbformat_minor": 2
}
