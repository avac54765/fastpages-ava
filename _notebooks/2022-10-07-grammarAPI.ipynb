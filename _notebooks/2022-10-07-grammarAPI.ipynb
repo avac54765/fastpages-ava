{
 "cells": [
  {
   "cell_type": "markdown",
   "metadata": {},
   "source": [
    "# Grammar API\n",
    "\n",
    "> This API provides data about spelling and grammar checks.\n",
    "\n",
    "- title: Grammar API\n",
    "- toc: true\n",
    "- comments: true\n",
    "- permalink: /grammarAPI/python\n",
    "- image: /images/API.png\n",
    "- categories: [week 7]\n",
    "\n",
    "{% include nav_data.html %}"
   ]
  },
  {
   "cell_type": "code",
   "execution_count": 8,
   "metadata": {},
   "outputs": [
    {
     "name": "stdout",
     "output_type": "stream",
     "text": [
      "[{\"name\":\"Arabic\",\"code\":\"ar\",\"longCode\":\"ar\"},{\"name\":\"Asturian\",\"code\":\"ast\",\"longCode\":\"ast-ES\"},{\"name\":\"Belarusian\",\"code\":\"be\",\"longCode\":\"be-BY\"},{\"name\":\"Breton\",\"code\":\"br\",\"longCode\":\"br-FR\"},{\"name\":\"Catalan\",\"code\":\"ca\",\"longCode\":\"ca-ES\"},{\"name\":\"Catalan (Valencian)\",\"code\":\"ca\",\"longCode\":\"ca-ES-valencia\"},{\"name\":\"Chinese\",\"code\":\"zh\",\"longCode\":\"zh-CN\"},{\"name\":\"Danish\",\"code\":\"da\",\"longCode\":\"da-DK\"},{\"name\":\"Dutch\",\"code\":\"nl\",\"longCode\":\"nl\"},{\"name\":\"Dutch\",\"code\":\"nl\",\"longCode\":\"nl\"},{\"name\":\"Dutch (Belgium)\",\"code\":\"nl\",\"longCode\":\"nl-BE\"},{\"name\":\"English\",\"code\":\"en\",\"longCode\":\"en\"},{\"name\":\"English\",\"code\":\"en\",\"longCode\":\"en\"},{\"name\":\"English (Australian)\",\"code\":\"en\",\"longCode\":\"en-AU\"},{\"name\":\"English (Australian)\",\"code\":\"en\",\"longCode\":\"en-AU\"},{\"name\":\"English (Canadian)\",\"code\":\"en\",\"longCode\":\"en-CA\"},{\"name\":\"English (Canadian)\",\"code\":\"en\",\"longCode\":\"en-CA\"},{\"name\":\"English (GB)\",\"code\":\"en\",\"longCode\":\"en-GB\"},{\"name\":\"English (GB)\",\"code\":\"en\",\"longCode\":\"en-GB\"},{\"name\":\"English (New Zealand)\",\"code\":\"en\",\"longCode\":\"en-NZ\"},{\"name\":\"English (New Zealand)\",\"code\":\"en\",\"longCode\":\"en-NZ\"},{\"name\":\"English (South African)\",\"code\":\"en\",\"longCode\":\"en-ZA\"},{\"name\":\"English (South African)\",\"code\":\"en\",\"longCode\":\"en-ZA\"},{\"name\":\"English (US)\",\"code\":\"en\",\"longCode\":\"en-US\"},{\"name\":\"English (US)\",\"code\":\"en\",\"longCode\":\"en-US\"},{\"name\":\"Esperanto\",\"code\":\"eo\",\"longCode\":\"eo\"},{\"name\":\"French\",\"code\":\"fr\",\"longCode\":\"fr\"},{\"name\":\"French\",\"code\":\"fr\",\"longCode\":\"fr\"},{\"name\":\"Galician\",\"code\":\"gl\",\"longCode\":\"gl-ES\"},{\"name\":\"German\",\"code\":\"de\",\"longCode\":\"de\"},{\"name\":\"German\",\"code\":\"de\",\"longCode\":\"de\"},{\"name\":\"German (Austria)\",\"code\":\"de\",\"longCode\":\"de-AT\"},{\"name\":\"German (Austria)\",\"code\":\"de\",\"longCode\":\"de-AT\"},{\"name\":\"German (Germany)\",\"code\":\"de\",\"longCode\":\"de-DE\"},{\"name\":\"German (Germany)\",\"code\":\"de\",\"longCode\":\"de-DE\"},{\"name\":\"German (Swiss)\",\"code\":\"de\",\"longCode\":\"de-CH\"},{\"name\":\"German (Swiss)\",\"code\":\"de\",\"longCode\":\"de-CH\"},{\"name\":\"Greek\",\"code\":\"el\",\"longCode\":\"el-GR\"},{\"name\":\"Irish\",\"code\":\"ga\",\"longCode\":\"ga-IE\"},{\"name\":\"Italian\",\"code\":\"it\",\"longCode\":\"it\"},{\"name\":\"Japanese\",\"code\":\"ja\",\"longCode\":\"ja-JP\"},{\"name\":\"Khmer\",\"code\":\"km\",\"longCode\":\"km-KH\"},{\"name\":\"Norwegian (Bokmål)\",\"code\":\"nb\",\"longCode\":\"nb\"},{\"name\":\"Norwegian (Bokmål)\",\"code\":\"no\",\"longCode\":\"no\"},{\"name\":\"Persian\",\"code\":\"fa\",\"longCode\":\"fa\"},{\"name\":\"Polish\",\"code\":\"pl\",\"longCode\":\"pl-PL\"},{\"name\":\"Portuguese\",\"code\":\"pt\",\"longCode\":\"pt\"},{\"name\":\"Portuguese (Angola preAO)\",\"code\":\"pt\",\"longCode\":\"pt-AO\"},{\"name\":\"Portuguese (Angola preAO)\",\"code\":\"pt\",\"longCode\":\"pt-AO\"},{\"name\":\"Portuguese (Brazil)\",\"code\":\"pt\",\"longCode\":\"pt-BR\"},{\"name\":\"Portuguese (Brazil)\",\"code\":\"pt\",\"longCode\":\"pt-BR\"},{\"name\":\"Portuguese (Moçambique preAO)\",\"code\":\"pt\",\"longCode\":\"pt-MZ\"},{\"name\":\"Portuguese (Moçambique preAO)\",\"code\":\"pt\",\"longCode\":\"pt-MZ\"},{\"name\":\"Portuguese (Portugal)\",\"code\":\"pt\",\"longCode\":\"pt-PT\"},{\"name\":\"Portuguese (Portugal)\",\"code\":\"pt\",\"longCode\":\"pt-PT\"},{\"name\":\"Romanian\",\"code\":\"ro\",\"longCode\":\"ro-RO\"},{\"name\":\"Russian\",\"code\":\"ru\",\"longCode\":\"ru-RU\"},{\"name\":\"Simple German\",\"code\":\"de-DE-x-simple-language\",\"longCode\":\"de-DE-x-simple-language\"},{\"name\":\"Slovak\",\"code\":\"sk\",\"longCode\":\"sk-SK\"},{\"name\":\"Slovenian\",\"code\":\"sl\",\"longCode\":\"sl-SI\"},{\"name\":\"Spanish\",\"code\":\"es\",\"longCode\":\"es\"},{\"name\":\"Spanish\",\"code\":\"es\",\"longCode\":\"es\"},{\"name\":\"Spanish (voseo)\",\"code\":\"es\",\"longCode\":\"es-AR\"},{\"name\":\"Swedish\",\"code\":\"sv\",\"longCode\":\"sv\"},{\"name\":\"Tagalog\",\"code\":\"tl\",\"longCode\":\"tl-PH\"},{\"name\":\"Tamil\",\"code\":\"ta\",\"longCode\":\"ta-IN\"},{\"name\":\"Ukrainian\",\"code\":\"uk\",\"longCode\":\"uk-UA\"}]\n",
      "Name\n"
     ]
    },
    {
     "ename": "AttributeError",
     "evalue": "'list' object has no attribute 'items'",
     "output_type": "error",
     "traceback": [
      "\u001b[0;31m---------------------------------------------------------------------------\u001b[0m",
      "\u001b[0;31mAttributeError\u001b[0m                            Traceback (most recent call last)",
      "\u001b[1;32m/home/avac54765/vscode/fastpages-ava/_notebooks/2022-10-07-grammarAPI.ipynb Cell 2\u001b[0m in \u001b[0;36m<cell line: 16>\u001b[0;34m()\u001b[0m\n\u001b[1;32m     <a href='vscode-notebook-cell://wsl%2Bubuntu/home/avac54765/vscode/fastpages-ava/_notebooks/2022-10-07-grammarAPI.ipynb#W3sdnNjb2RlLXJlbW90ZQ%3D%3D?line=13'>14</a>\u001b[0m \u001b[39mprint\u001b[39m(\u001b[39m\"\u001b[39m\u001b[39mName\u001b[39m\u001b[39m\"\u001b[39m)\n\u001b[1;32m     <a href='vscode-notebook-cell://wsl%2Bubuntu/home/avac54765/vscode/fastpages-ava/_notebooks/2022-10-07-grammarAPI.ipynb#W3sdnNjb2RlLXJlbW90ZQ%3D%3D?line=14'>15</a>\u001b[0m name \u001b[39m=\u001b[39m response\u001b[39m.\u001b[39mjson() \n\u001b[0;32m---> <a href='vscode-notebook-cell://wsl%2Bubuntu/home/avac54765/vscode/fastpages-ava/_notebooks/2022-10-07-grammarAPI.ipynb#W3sdnNjb2RlLXJlbW90ZQ%3D%3D?line=15'>16</a>\u001b[0m \u001b[39mfor\u001b[39;00m key, value \u001b[39min\u001b[39;00m name\u001b[39m.\u001b[39;49mitems(): \n\u001b[1;32m     <a href='vscode-notebook-cell://wsl%2Bubuntu/home/avac54765/vscode/fastpages-ava/_notebooks/2022-10-07-grammarAPI.ipynb#W3sdnNjb2RlLXJlbW90ZQ%3D%3D?line=16'>17</a>\u001b[0m     \u001b[39mprint\u001b[39m(key, value)\n\u001b[1;32m     <a href='vscode-notebook-cell://wsl%2Bubuntu/home/avac54765/vscode/fastpages-ava/_notebooks/2022-10-07-grammarAPI.ipynb#W3sdnNjb2RlLXJlbW90ZQ%3D%3D?line=18'>19</a>\u001b[0m \u001b[39mprint\u001b[39m()\n",
      "\u001b[0;31mAttributeError\u001b[0m: 'list' object has no attribute 'items'"
     ]
    }
   ],
   "source": [
    "import requests\n",
    "\n",
    "url = \"https://dnaber-languagetool.p.rapidapi.com/v2/languages\"\n",
    "\n",
    "headers = {\n",
    "\t\"X-RapidAPI-Key\": \"7b146afe20msh92e84c02ae27c6ap1185b5jsnb7a574f24cbe\",\n",
    "\t\"X-RapidAPI-Host\": \"dnaber-languagetool.p.rapidapi.com\"\n",
    "}\n",
    "\n",
    "response = requests.request(\"GET\", url, headers=headers)\n",
    "\n",
    "print(response.text)\n",
    "\n",
    "print(\"Name\")\n",
    "name = response.json() \n",
    "for key, value in name.items().get: \n",
    "    print(key, value)\n",
    "\n",
    "print()\n",
    "\n"
   ]
  }
 ],
 "metadata": {
  "kernelspec": {
   "display_name": "Python 3.8.10 64-bit",
   "language": "python",
   "name": "python3"
  },
  "language_info": {
   "codemirror_mode": {
    "name": "ipython",
    "version": 3
   },
   "file_extension": ".py",
   "mimetype": "text/x-python",
   "name": "python",
   "nbconvert_exporter": "python",
   "pygments_lexer": "ipython3",
   "version": "3.8.10"
  },
  "orig_nbformat": 4,
  "vscode": {
   "interpreter": {
    "hash": "916dbcbb3f70747c44a77c7bcd40155683ae19c65e1c03b4aa3499c5328201f1"
   }
  }
 },
 "nbformat": 4,
 "nbformat_minor": 2
}
