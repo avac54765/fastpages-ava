{
 "cells": [
  {
   "attachments": {},
   "cell_type": "markdown",
   "metadata": {},
   "source": [
    "# Group Four Lesson- DevOps\n",
    "\n",
    "- toc: true\n",
    "- comments: true\n",
    "- categories: [week 31, devops]"
   ]
  },
  {
   "cell_type": "code",
   "execution_count": 5,
   "metadata": {},
   "outputs": [
    {
     "name": "stdout",
     "output_type": "stream",
     "text": [
      "75.2.70.75\n"
     ]
    }
   ],
   "source": [
    "import socket\n",
    "\n",
    "# Change the following host and see what IP it prints!\n",
    "host = \"safari.com\"\n",
    "ip = socket.gethostbyname(host)\n",
    "\n",
    "print(ip)"
   ]
  },
  {
   "cell_type": "code",
   "execution_count": 6,
   "metadata": {},
   "outputs": [
    {
     "name": "stdout",
     "output_type": "stream",
     "text": [
      "Successfully connected!\n"
     ]
    }
   ],
   "source": [
    "# Initiate a TCP connection to port 80\n",
    "with socket.socket(socket.AF_INET, socket.SOCK_STREAM) as s:\n",
    "    s.connect((ip, 80))\n",
    "    print(\"Successfully connected!\")"
   ]
  },
  {
   "attachments": {},
   "cell_type": "markdown",
   "metadata": {},
   "source": [
    "## Check-In\n",
    "\n",
    "1. What is an IP address?\n",
    "\n",
    "An IP address is an address that is assigned to a device or network that is used for locating and sending data across the internet.\n",
    "\n",
    "2. What is a TCP port?\n",
    "\n",
    "A TCP port is Transmission control protocol in which uses ports to identify and transfer information between programs over a network."
   ]
  },
  {
   "cell_type": "code",
   "execution_count": 7,
   "metadata": {},
   "outputs": [
    {
     "name": "stdout",
     "output_type": "stream",
     "text": [
      "HTTP/1.1 400 Bad Request\n",
      "Date: Thu, 27 Apr 2023 18:55:56 GMT\n",
      "Content-Type: text/html\n",
      "Content-Length: 154\n",
      "Connection: close\n",
      "\n",
      "<html>\n",
      "<head><title>400 Bad Request</title></head>\n",
      "<body>\n",
      "<center><h1>400 Bad Request</h1></center>\n",
      "<hr><center>openresty</center>\n",
      "</body>\n",
      "</html>\n",
      "\n"
     ]
    }
   ],
   "source": [
    "with socket.socket(socket.AF_INET, socket.SOCK_STREAM) as s:\n",
    "    s.connect((ip, 80))\n",
    "\n",
    "    # Send a GET request to \"/\"\n",
    "    s.sendall(b\"GET / HTTP/1.1\\r\\n\\r\\n\")\n",
    "\n",
    "    # Recieve & print 2048 bytes of data\n",
    "    data = s.recv(2048)\n",
    "    print(data.decode())"
   ]
  },
  {
   "cell_type": "code",
   "execution_count": 15,
   "metadata": {},
   "outputs": [
    {
     "name": "stdout",
     "output_type": "stream",
     "text": [
      "Status code: 200\n",
      "Headers: {'Date': 'Thu, 27 Apr 2023 19:56:25 GMT', 'Pragma': 'no-cache', 'Expires': 'Fri, 01 Jan 1990 00:00:00 GMT', 'Cache-Control': 'no-cache, must-revalidate', 'Content-Type': 'text/html; charset=ISO-8859-1', 'Content-Security-Policy': \"object-src 'none';base-uri 'self';script-src 'nonce-ipdkIqdKNz2pEDAR3TWVVQ' 'strict-dynamic' 'report-sample' 'unsafe-eval' 'unsafe-inline' https: http:;report-uri https://csp.withgoogle.com/csp/gws/other\", 'P3P': 'CP=\"This is not a P3P policy! See g.co/p3phelp for more info.\"', 'Content-Encoding': 'gzip', 'Server': 'gws', 'X-XSS-Protection': '0', 'Set-Cookie': 'NID=511=aAicFG3GwuMAUjj_XgtI6IbHw1C8hvqX6z_IIxxURhT13htN1bDipRET2LT2FEmpDj4dA1tc-jHfPfpdo6VAvQ7ENgMcty8vXI45RUC3b_TA1jG3XB3laFz3nXuG4LhLUjL4inrnZ18lyOzMjiYUJLwNmnmushIIddCC8kcVfsQ; expires=Fri, 27-Oct-2023 19:56:25 GMT; path=/; domain=.google.com; HttpOnly', 'Alt-Svc': 'h3=\":443\"; ma=2592000,h3-29=\":443\"; ma=2592000', 'Transfer-Encoding': 'chunked'}\n",
      "Response text: <html lang=\"en\"><head><meta http-equiv=\"Content-Type\" content=\"text/html; charset=ISO-8859-1\"><title\n",
      "Content-Type header: text/html; charset=ISO-8859-1\n"
     ]
    }
   ],
   "source": [
    "import requests\n",
    "\n",
    "# Change the URL to whatever you'd like\n",
    "response = requests.get(\"https://www.google.com/url?sa=i&url=https%3A%2F%2Fstock.adobe.com%2Fsearch%3Fk%3D%2522smiley%2Bface%2522&psig=AOvVaw3JtGcsd7f8VfaHeSnF_LJD&ust=1682711751215000&source=images&cd=vfe&ved=0CBAQjRxqFwoTCPDZpv7ryv4CFQAAAAAdAAAAABAE\")\n",
    "\n",
    "print(\"Status code:\", response.status_code)\n",
    "print(\"Headers:\", response.headers)\n",
    "print(\"Response text:\", response.text[:100])\n",
    "print(\"Content-Type header:\", response.headers.get(\"Content-Type\"))\n",
    "\n",
    "# Add a line to print the \"Content-Type\" header of the response\n",
    "# Try an image URL! I did a smiley face image."
   ]
  },
  {
   "attachments": {},
   "cell_type": "markdown",
   "metadata": {},
   "source": [
    "# NGINX"
   ]
  },
  {
   "cell_type": "code",
   "execution_count": 9,
   "metadata": {},
   "outputs": [
    {
     "name": "stdout",
     "output_type": "stream",
     "text": [
      "<!doctype html>\n",
      "<html>\n",
      "<head>\n",
      "<title>Cool site</title>\n",
      "<meta name=\"description\" content=\"cool site for apcsp\">\n",
      "</head>\n",
      "<body>\n",
      "Hello, this is my cool site. Check out my products:\n",
      "<a href=\"/products\">Products!!</a>\n",
      "</body>\n",
      "</html>\n",
      "\n"
     ]
    }
   ],
   "source": [
    "aws = \"3.130.255.192\"\n",
    "\n",
    "response = requests.get(\"http://\" + aws)\n",
    "print(response.text)\n"
   ]
  },
  {
   "attachments": {},
   "cell_type": "markdown",
   "metadata": {},
   "source": [
    "## Configuration\n",
    "\n",
    "```nginx\n",
    "server {\n",
    "    // Listen on virtual \"port 80\"\n",
    "    listen 80;\n",
    "    listen [::]:80;\n",
    "    server_name 3.130.255.192;\n",
    "\n",
    "    location / {\n",
    "        // Inform server about original client\n",
    "        proxy_set_header        Host $host;\n",
    "        proxy_set_header        X-Real-IP $remote_addr;\n",
    "        proxy_set_header        X-Forwarded-For $proxy_add_x_forwarded_for;\n",
    "        proxy_set_header        X-Forwarded-Proto $scheme;\n",
    "\n",
    "        // Forward all requests transparently to the server running on our computer\n",
    "        proxy_pass              http://localhost:9099;\n",
    "    }\n",
    "}\n",
    "```\n",
    "\n",
    "### Load Balancing\n",
    "\n",
    "```nginx\n",
    "upstream example.com {\n",
    "    server server1.example.com;\n",
    "    server server1.example.com;\n",
    "}\n",
    "```\n",
    "\n",
    "### HTTP Headers\n",
    "\n",
    "```nginx\n",
    "server {\n",
    "    add_header X-Cool-Header \"I love APCSP!\";\n",
    "\n",
    "    location /pages {\n",
    "        add_header X-Cooler-Header \"This is my secret header!\";\n",
    "    }\n",
    "}\n",
    "```\n",
    "\n",
    "## Check In\n",
    "\n",
    "1. Research 1 HTTP header and describe, in detail, its purpose.\n",
    "\n",
    "The header of an iPhone user on Safari:\n",
    "\n",
    "GET /index.html HTTP/1.1\n",
    "Host: www.example.com\n",
    "User-Agent: Mozilla/5.0 (iPhone; CPU iPhone OS 14_5 like Mac OS X) AppleWebKit/605.1.15 (KHTML, like Gecko) Mobile/15E148\n",
    "Accept: text/html,application/xhtml+xml,application/xml;q=0.9,image/webp,*/*;q=0.8\n",
    "Accept-Language: en-US,en;q=0.5\n",
    "Accept-Encoding: gzip, deflate, br\n",
    "Connection: keep-alive\n",
    "\n",
    "This header is the header of an iPhone user on Safari requesting for an example website. The first line specifies the HTTP method being used (ex.\"GET\"), the the wanted information (\"/index.html\"), and the HTTP version being used (\"HTTP/1.1\" NOT 1.0 which is older). The next two lines provide the host name of the server being accessed, the user-agent string identifying the browser and operating system (in this case Safari), and the accepted content types and encodings. The client will receive \"/index.html\" from the server at www.example.com.\n",
    "\n",
    "2. Write a line in a sample NGINX configuration that will add that specific header to the `/information` location\n",
    "\n",
    "location /information {\n",
    "    add_header User-Agent \"Mozilla/5.0 (Windows NT 10.0; Win64; x64) AppleWebKit/537.36 (KHTML, like Gecko) Chrome/90.0.4430.93 Safari/537.36\";\n",
    "}\n",
    "\n",
    "\n",
    "3. Explain the purpose of the load balancing performed by NGINX\n",
    "\n",
    "Load balancing performed by NGINX helps to distribute large amounts of incoming traffic across multiple servers to help with efficiency and reliability. One server may not be able to handle a lot of traffic from a specific website. Distributing the traffic to multiple servers prevents overloading and helps with response times.\n",
    "\n",
    "4. Modify the following code block to obtain the value of the secret header on `/products` of the AWS site\n"
   ]
  },
  {
   "cell_type": "code",
   "execution_count": 16,
   "metadata": {},
   "outputs": [
    {
     "name": "stdout",
     "output_type": "stream",
     "text": [
      "The secret header is: This is my secret header!\n"
     ]
    }
   ],
   "source": [
    "aws = \"3.130.255.192\"\n",
    "\n",
    "response = requests.get(\"http://\" + aws+ \"/products\")\n",
    "\n",
    "secret_header = response.headers.get(\"X-Cooler-Header\") # I got this name from above\n",
    "\n",
    "print(\"The secret header is:\", secret_header)"
   ]
  },
  {
   "attachments": {},
   "cell_type": "markdown",
   "metadata": {},
   "source": [
    "# Hacks\n",
    "\n",
    "- Complete the above check-in questions and change the hosts (0.1)\n",
    "- Complete the above code-segment to retrieve the secret header (0.1)\n",
    "\n",
    "## Bonus (0.05)\n",
    "\n",
    "Create a diagram showing the layers of abstraction that allow us to use HTTP (IP, TCP, etc.)\n",
    "\n",
    "- ![Internet Map](https://user-images.githubusercontent.com/111486111/234977005-26277e28-1328-4096-a76a-7bd1b5179e50.png)\n"
   ]
  },
  {
   "attachments": {},
   "cell_type": "markdown",
   "metadata": {},
   "source": [
    "# CORS Hacks\n",
    "\n",
    "1. Explain what CORS is and what it stands for\n",
    "\n",
    "CORS stands for Cross-Origin Resource Sharing, and is responsible for adding security to vulnerable websites and online services by preventing access to certain domains without permission. This helps to avoid hackers or other people from accessing private information from a website or performing malicious acts on behalf of a user.\n",
    "\n",
    "2. Describe how you would be able to implement CORS into your own websites\n",
    "\n",
    "In order to implement CORS into my own website, I can add new headers that restrict the origins of requests such as: 'Access-Control-Allow-Origin', '*'. I can also allow the methods of get, post, etc. to be used (you can pick and choose). The 'Access-Control-Allow-Headers' header would allow for requests to be made with listed headers so that CORS does not reject them.\n",
    "\n",
    "3. Describe why you would want to implement CORS into your own websites\n",
    "\n",
    "CORS helps ensure that your resources are only accessible to trusted domains and reduce the risk of web-based attacks. CORS acts as a wall for hackers and people with malicious intentions, and checks for secure and trusted domains before allowing requests (get, post, etc.).\n",
    "\n",
    "4. How could use CORS to benefit yourself in the future?\n",
    "\n",
    "I could use CORS in future websites to help protect my users from getting their content stolen. In the future, I hope to have users log in with more information and I want them to feel safe having more important information stored on the website. CORS will help with the security of my users.\n",
    "\n",
    "Total: 0.2 points\n",
    "\n",
    "# KASM Hacks\n",
    "\n",
    "1. What is the purpose of \"sudo\" when running commands in terminal?\n",
    "\n",
    "Sudo allows users who are not root-level to perform root-level commands. Sudo verifies a user's identity and gives them access to perform commands that were previously restricted.\n",
    "\n",
    "2. What are some commands which allow us to look at how the storage of a machine is set up as?\n",
    "\n",
    "Some commands which allow us to look at how the storage of a machine is set up as are \"df -h\" and \"du\", which display the amount of used versus available disk space on a file system and estimates the disk space used by files and directories. These commands will help a user determine how much storage is on their device, how much they have used, and how much they have left.\n",
    "\n",
    "3. What do you think are some alternatives to running \"curl -O\" to get the zip file for KASM?\n",
    "\n",
    "Some alternatives to running \"curl -O\" tp get the zip file for KASM include using wget to wget the file or going directly to the KASM website and downloading the file there.\n",
    "\n",
    "4. What kind of commands do you think the \"install.sh\" command has and why is it necessary to call it?\n",
    "\n",
    "The \"install.sh\" command likely contains a series of commands to install and configure software on a system. It is necessary to call it to make sure all installations of software are installed the same way, allowing for easier updating and compatibility between software.\n",
    "\n",
    "5. Explain in at least 3-4 sentences how deploying KASM is related to/requires other topics talked about in the lesson and/or potential ways to add things mentioned in the lesson to this guide.\n",
    "\n",
    "Deploying KASM involves using Docker, as mentioned in the lesson above. A user still needs to manage containers and know how to add security measures such as CORS. They also need to configure networking and security settings to ensure that the containers are accessible and secure. It would be helpful for this lesson to guide to compare and contrast deployment with KASM versus without. I liked how KASM helps decrease the digital divide by allowing chromebook users to access VScode and other useful programs.\n",
    "\n",
    "Total: 0.2 points\n",
    "\n",
    "# AWS/RDS Hacks\n",
    "\n",
    "<mark>DELETED from hacks</mark>"
   ]
  }
 ],
 "metadata": {
  "kernelspec": {
   "display_name": "base",
   "language": "python",
   "name": "python3"
  },
  "language_info": {
   "codemirror_mode": {
    "name": "ipython",
    "version": 3
   },
   "file_extension": ".py",
   "mimetype": "text/x-python",
   "name": "python",
   "nbconvert_exporter": "python",
   "pygments_lexer": "ipython3",
   "version": "3.9.12"
  },
  "orig_nbformat": 4
 },
 "nbformat": 4,
 "nbformat_minor": 2
}
