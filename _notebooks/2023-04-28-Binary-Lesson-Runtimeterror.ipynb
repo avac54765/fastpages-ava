{
 "cells": [
  {
   "attachments": {},
   "cell_type": "markdown",
   "metadata": {},
   "source": [
    "#  P4-M 4/28 Binary Lesson\n",
    "> Learn the basics of binary including truth tables, boolean expressions, binary conversions, and binary searches.\n",
    "- toc: true\n",
    "- permalink: /binary/lesson\n",
    "- comments: true\n",
    "- categories: [week 31, binary, lesson]"
   ]
  },
  {
   "attachments": {},
   "cell_type": "markdown",
   "metadata": {},
   "source": [
    "# Lesson Note Taker\n",
    "> Fill in the blanks below during the binary presentation. You can visit our [website here!]()"
   ]
  },
  {
   "attachments": {},
   "cell_type": "markdown",
   "metadata": {},
   "source": [
    "## Binary \n",
    "\n",
    "1. Binary is a base ___ number system.\n",
    "2. 0 represents ____ and 1 represents ____.\n",
    "3. A ____ is the minimum unit of binary information stored in a computer system.\n",
    "\n",
    "## Boolean Expressions\n",
    "\n",
    "1. A _____ _______ is a logical statement that is either TRUE or FALSE and compares data.\n",
    "\n",
    "## Truth Tables\n",
    "\n",
    "1. The logical operations shown in truth tables are ___, ___, ___, and ___."
   ]
  },
  {
   "cell_type": "code",
   "execution_count": 1,
   "metadata": {},
   "outputs": [
    {
     "data": {
      "text/plain": [
       "True"
      ]
     },
     "execution_count": 1,
     "metadata": {},
     "output_type": "execute_result"
    }
   ],
   "source": [
    "# Run this code!! See how boolean expressions work and show the outputs of truth tables.\n",
    "\n",
    "# AND\n",
    "5 > 3 and 5 == 3 + 2"
   ]
  },
  {
   "cell_type": "code",
   "execution_count": 2,
   "metadata": {},
   "outputs": [
    {
     "data": {
      "text/plain": [
       "False"
      ]
     },
     "execution_count": 2,
     "metadata": {},
     "output_type": "execute_result"
    }
   ],
   "source": [
    "\n",
    "5 < 3 and 5 == 5"
   ]
  },
  {
   "cell_type": "code",
   "execution_count": 3,
   "metadata": {},
   "outputs": [
    {
     "data": {
      "text/plain": [
       "True"
      ]
     },
     "execution_count": 3,
     "metadata": {},
     "output_type": "execute_result"
    }
   ],
   "source": [
    "# OR\n",
    "5 == 5 or 5 != 5"
   ]
  },
  {
   "cell_type": "code",
   "execution_count": 4,
   "metadata": {},
   "outputs": [
    {
     "data": {
      "text/plain": [
       "False"
      ]
     },
     "execution_count": 4,
     "metadata": {},
     "output_type": "execute_result"
    }
   ],
   "source": [
    "5 < 3 or 5 != 5"
   ]
  }
 ],
 "metadata": {
  "kernelspec": {
   "display_name": "base",
   "language": "python",
   "name": "python3"
  },
  "language_info": {
   "codemirror_mode": {
    "name": "ipython",
    "version": 3
   },
   "file_extension": ".py",
   "mimetype": "text/x-python",
   "name": "python",
   "nbconvert_exporter": "python",
   "pygments_lexer": "ipython3",
   "version": "3.9.12"
  },
  "orig_nbformat": 4
 },
 "nbformat": 4,
 "nbformat_minor": 2
}
