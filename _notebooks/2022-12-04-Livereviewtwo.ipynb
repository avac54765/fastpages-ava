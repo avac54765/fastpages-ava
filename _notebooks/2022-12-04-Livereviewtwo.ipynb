{
 "cells": [
  {
   "cell_type": "markdown",
   "metadata": {},
   "source": [
    "# Lessons Live Review Two\n",
    "> Notes and hacks for the second review of lessons (12/1-12/6)\n",
    "\n",
    "\n",
    "- title: Lessons Live Review Two\n",
    "- toc: true\n",
    "- comments: true\n",
    "- permalink: /lessonsreview/two\n",
    "- image: /images/lesson.jpg\n",
    "- categories: [week 15]"
   ]
  },
  {
   "cell_type": "markdown",
   "metadata": {},
   "source": [
    "# Lesson 3- 3.5-3.6\n",
    "### Booleans, relational operators, logical operators, conditionals, truth tables, nested conditionals\n",
    "\n",
    "### 3.5\n",
    "- <mark>boolean</mark>= algebraic notation used to represent logical propositions; true or false\n",
    "    - ex. testing if two numbers are equal (the sky is blue = True)\n",
    "    - binary: true= 1, false= 0\n",
    "- <mark>relational operators</mark>= mathematical relationship between two variables and determines if statement is true\n",
    "    - a=b, a>b...\n",
    "- <mark>logical operators</mark>= NOT, AND, OR\n",
    "    - NOT= displays opposite of whatever data is, mainly true/false\n",
    "        - ex. this = <mark>False</mark>\n",
    "    - AND= evalutes two conditions together and determines if both conditions are met\n",
    "        - ex. if __ > __ <mark>and</mark> ___<___\n",
    "    - OR= only looks to see if one condition is met\n",
    "        - if _____ < ______ <mark>or</mark>_____>_____\n",
    "\n"
   ]
  },
  {
   "cell_type": "markdown",
   "metadata": {},
   "source": [
    "# Hacks 1\n",
    "The logical operators:\n",
    "\n",
    "1. NOT: Not is a logical operator that reverses, or takes the opposite, of the data. For example, true would be false, and 1 would be 0.\n",
    "2. AND: decides if both conditions are met- usually an \"if\" statement and an action or decision will occur if both conditions are met. For example, if an animal is agressive AND hungry, then the animal will attack for food.\n",
    "3. OR: only one of two conditions needs to be met in order for OR to work. If one condition is met then an action or decision will occur. For example, if a person is old OR disabled, they may need a wheelchair. "
   ]
  },
  {
   "cell_type": "code",
   "execution_count": 18,
   "metadata": {},
   "outputs": [
    {
     "name": "stdout",
     "output_type": "stream",
     "text": [
      "NOT:\n",
      "False\n",
      "AND + OR:\n",
      "Your number is in the range\n"
     ]
    }
   ],
   "source": [
    "# NOT: From my explanation above:\n",
    "print(\"NOT:\")\n",
    "computer_power = True # the computer is on\n",
    "power_status = not(computer_power) # the opposite of one is off\n",
    "print(power_status) # the computer is off\n",
    "\n",
    "# This example below uses both AND and OR so you can see the different situations in which one would use them:\n",
    "print(\"AND + OR:\")\n",
    "i = input(\"input a number between 1 and 10\")\n",
    "if int(i) > 10 or int(i) < 1: # i must satisfy one condition\n",
    "    print(\"Your number is not in the range\")\n",
    "if int(i) >= 1 and int(i) <= 10: # i must satisfy both conditions\n",
    "        print(\"Your number is in the range\")"
   ]
  },
  {
   "cell_type": "markdown",
   "metadata": {},
   "source": [
    "# Conditionals\n",
    "\n",
    "- <mark>conditionals</mark>= allow for the expression of algorithims that utilize selection without a programming language\n",
    "    - <mark>selection</mark>- block of code that will execute depending on the algorithim condition returning true or false\n",
    "    - <mark>algorithim</mark>- a finite set of instructions that accomplish a specific task\n",
    "    - <mark>conditional statement(If statement)</mark>- a statement that affects the sequence of control by executing certain statements depending on boolean value (true/false)"
   ]
  },
  {
   "cell_type": "markdown",
   "metadata": {},
   "source": [
    "# Hacks 2\n",
    "### Challenges:"
   ]
  },
  {
   "cell_type": "code",
   "execution_count": 22,
   "metadata": {},
   "outputs": [
    {
     "name": "stdout",
     "output_type": "stream",
     "text": [
      "There are 5 vowels in this string\n"
     ]
    }
   ],
   "source": [
    "# Level 1: Vowel Count\n",
    "\n",
    "userinput = input(\"Type in a string and see how many vowels are in it!\")\n",
    "vowelcount = 0\n",
    "for i in userinput: #this will iterate through each character in the string \n",
    "    if i == \"a\": #if the character has an a, it will add one\n",
    "        vowelcount = vowelcount + 1\n",
    "    if i == \"e\": # if the character has an e, it will add one to the vowel count\n",
    "        vowelcount = vowelcount + 1\n",
    "    if i == \"i\": # if the character is an i, adds one\n",
    "        vowelcount = vowelcount + 1\n",
    "    if i == \"o\": # if the character is an o, adds one\n",
    "        vowelcount = vowelcount + 1\n",
    "    if i == \"u\": # if the character is a u, adds one\n",
    "        vowelcount = vowelcount + 1\n",
    "print(\"There are \" + str(vowelcount) + \" vowels in this string\")"
   ]
  },
  {
   "cell_type": "code",
   "execution_count": 32,
   "metadata": {},
   "outputs": [
    {
     "name": "stdout",
     "output_type": "stream",
     "text": [
      "0 is a multiple of 3\n",
      "3 is a multiple of 3\n",
      "5 is a multiple of 5\n",
      "6 is a multiple of 3\n",
      "9 is a multiple of 3\n",
      "10 is a multiple of 5\n",
      "12 is a multiple of 3\n",
      "The sum of the multiples of 3 and 5 for your input is = 45\n"
     ]
    }
   ],
   "source": [
    "# Level 3: Multiples of 3 or 5\n",
    "\n",
    "usernumber = input(\"please input a number\")\n",
    "multiples_sum = 0\n",
    "\n",
    "if int(usernumber) >= 0: # this will make sure the input is positive\n",
    "    for i in range(int(usernumber)+1): # this will iterate through each number up to the input\n",
    "        if int(i) % 3 == 0: # I used MOD to figure out if the number is a multiple of 3 or 5\n",
    "            multiples_sum += int(i) # this adds the multiple to the count and prints if the number is a multiple\n",
    "            print(str(i) + \" is a multiple of 3\" ) \n",
    "        elif int(i) % 5 == 0: # same as above but for 5\n",
    "            multiples_sum += int(i)\n",
    "            print(str(i) + \" is a multiple of 5\")\n",
    "\n",
    "print(\"The sum of the multiples of 3 and 5 for your input is = \" + str(multiples_sum))\n"
   ]
  },
  {
   "cell_type": "markdown",
   "metadata": {},
   "source": [
    "### Defining the key terms:\n",
    "- selection = a segment of code will only run if a specific condition is met\n",
    "    example: ![selection image](https://media.gcflearnfree.org/content/5be4465477c0500354728440_11_08_2018/SSL_selection2.jpg)\n",
    "\n",
    "- algorithim = a function/code that completes a task or solves a problem.\n",
    "    example: ![algorithim image](https://media.geeksforgeeks.org/wp-content/cdn-uploads/20191016135223/What-is-Algorithm_-1024x631.jpg)\n",
    "\n",
    "- conditional statement = A statement or order of code that will occur if a specific condition is met (true/false)\n",
    "    example: \n",
    "    \n",
    "    ![conditional statement image](https://encrypted-tbn0.gstatic.com/images?q=tbn:ANd9GcS3EZV2ixe4Xxzo6mouvAckouigbjsyPnNWAg&usqp=CAU)"
   ]
  },
  {
   "cell_type": "code",
   "execution_count": 4,
   "metadata": {},
   "outputs": [
    {
     "name": "stdout",
     "output_type": "stream",
     "text": [
      "Congradulations! You passed your test\n"
     ]
    }
   ],
   "source": [
    "# Binary conditional logic: A program that determines if the user has passed their test\n",
    "usersinput = int(input(\"What was your percentage grade on the test?\"))\n",
    "\n",
    "if usersinput >= 75:\n",
    "    print(\"Congradulations! You passed your test\")\n",
    "    if usersinput >= 90:\n",
    "            print(\"You got an A!\")\n",
    "else:\n",
    "    print(\"Im sorry, you failed. Try again next time!\")\n"
   ]
  },
  {
   "cell_type": "markdown",
   "metadata": {},
   "source": [
    "### Nested Conditionals\n",
    "\n",
    "- <mark>Nested conditional statements</mark>- consist of conditional statements within conditional statements (one inside the other)\n",
    "- can have three different conditions"
   ]
  },
  {
   "cell_type": "markdown",
   "metadata": {},
   "source": [
    "# Hacks 3"
   ]
  },
  {
   "cell_type": "markdown",
   "metadata": {},
   "source": [
    "Flow chart one:\n",
    "![dinner](/images/Integers.png)"
   ]
  },
  {
   "cell_type": "code",
   "execution_count": 17,
   "metadata": {},
   "outputs": [
    {
     "name": "stdout",
     "output_type": "stream",
     "text": [
      "triple cooking porportions\n"
     ]
    }
   ],
   "source": [
    "# this code performs the algorithim in the flowchart above\n",
    "people = int(input(\"How many people are you feeding for dinner?\"))\n",
    "\n",
    "if people >= 4:\n",
    "    adults = int(input(\"How many adults are eating?\"))\n",
    "    children = int(input(\"How many children are eating?\"))\n",
    "    if adults > children:\n",
    "        print(\"triple cooking porportions\")\n",
    "    else:\n",
    "        print(\"souble cooking porportions\")\n",
    "else:\n",
    "    print(\"Stick to normal cooking instructions\")"
   ]
  },
  {
   "cell_type": "markdown",
   "metadata": {},
   "source": [
    "Flow chart two:\n",
    "![string](/images/string.png)"
   ]
  },
  {
   "cell_type": "code",
   "execution_count": 20,
   "metadata": {},
   "outputs": [
    {
     "name": "stdout",
     "output_type": "stream",
     "text": [
      "wake up at 7:25 AM to get ready\n"
     ]
    }
   ],
   "source": [
    "# the code below describes situation in flowchart above\n",
    "showering = input(\"Are you showering in the morning?\")\n",
    "\n",
    "if showering == \"yes\":\n",
    "    drying_hair = input(\"Are you blow drying your hair?\")\n",
    "    if drying_hair == \"yes\":\n",
    "        print(\"wake up at 6:30 AM to get ready\")\n",
    "    else:\n",
    "        print(\"wake up at 6:45 AM to get ready\")\n",
    "else:\n",
    "    print(\"wake up at 7:25 AM to get ready\")"
   ]
  },
  {
   "cell_type": "markdown",
   "metadata": {},
   "source": [
    "Flow chart three:\n",
    "![both](/images/both.png)"
   ]
  },
  {
   "cell_type": "code",
   "execution_count": 25,
   "metadata": {},
   "outputs": [
    {
     "name": "stdout",
     "output_type": "stream",
     "text": [
      "get a double shot latte\n"
     ]
    }
   ],
   "source": [
    "# the code below describes the situation in flowchart above\n",
    "coffee = input(\"Do you like coffee?\")\n",
    "\n",
    "if coffee == \"yes\":\n",
    "    espresso = int(input(\"How many shots of espresso do you want?\"))\n",
    "    if espresso <=1:\n",
    "        print(\"Order a machiatto\")\n",
    "    else:\n",
    "        print(\"get a double shot latte\")\n",
    "else:\n",
    "    print(\"Order a tea\")\n"
   ]
  },
  {
   "cell_type": "code",
   "execution_count": 9,
   "metadata": {},
   "outputs": [
    {
     "name": "stdout",
     "output_type": "stream",
     "text": [
      "You have a cold:(\n"
     ]
    }
   ],
   "source": [
    "# below is code for someone taking a survey for sickness\n",
    "\n",
    "congestion = input(\"Do you have a runny nose?\")\n",
    "\n",
    "if congestion == \"yes\":\n",
    "    fever = input(\"Do you have a fever?\")\n",
    "    if fever == \"yes\":\n",
    "        print(\"You have the flu :(\")\n",
    "    else:\n",
    "        print(\"You have a cold:(\")\n",
    "\n",
    "else:\n",
    "    pinkeye = input(\"Are your eyes red?\")\n",
    "    if pinkeye == \"yes\":\n",
    "        print(\"You have pinkeye :(\")\n",
    "    else:\n",
    "        print(\"You seem to be healthy!\")\n"
   ]
  },
  {
   "cell_type": "code",
   "execution_count": 13,
   "metadata": {},
   "outputs": [
    {
     "name": "stdout",
     "output_type": "stream",
     "text": [
      "You should take drawing and painting or photography\n"
     ]
    }
   ],
   "source": [
    "# asks the user if they like STEM\n",
    "STEM = input(\"Do you like math and science?\")\n",
    "\n",
    "if STEM == \"yes\": # asks about math vs science and gives reccomendation\n",
    "    math = input(\"Do you like math?\")\n",
    "    if math == \"yes\":\n",
    "        print(\"You should take AP Calculus AB\")\n",
    "    else:\n",
    "        print(\"You should take AP Biology\")\n",
    "else: # asks about non-STEM classes and gives reccomendation\n",
    "    ceramics = input(\"Do you like working with clay?\")\n",
    "    if ceramics == \"yes\":\n",
    "        print(\"You should take cermaics\")\n",
    "    else:\n",
    "        print(\"You should take drawing and painting or photography\")"
   ]
  },
  {
   "cell_type": "markdown",
   "metadata": {},
   "source": [
    "# Lesson 4 3.8-3.10\n",
    "\n",
    "- <mark>Iteration</mark>: a repeating portion of an algorithm, repeats a specified number of times or until a given condition is met\n",
    "- <mark>Iteration Statements</mark>: change the sequential flow of control by repeating a set of statements zero or more times, until a stopping condition is met\n",
    "- <mark>Repeat Until</mark>: if the condition evaluates to true initially, the loop body is not executed at all, due to the condition being checked before the loop\n",
    "- can use i (define a variable) to represent the range of a value (string or integer) for loops\n",
    "- <mark>range function</mark>- goes through a value and can be used to have a starting value, ending value, and increment value (ex. range(1,11,2)); ending value is not included so may need to add one to get desired value\n",
    "\n",
    "Logic example provided:\n",
    "![image](https://user-images.githubusercontent.com/111478625/205548518-57ded01c-8caa-401d-8e1c-af0d0c74144e.png)\n",
    "\n"
   ]
  },
  {
   "cell_type": "markdown",
   "metadata": {},
   "source": [
    "# Hacks 3.8.1\n",
    "\n",
    "1. Iteration is a term used in computer science to simplify code by repetition. The code will use loops to repeat until a condition is met.\n",
    "2. Iteration logic example: packing boxes\n",
    "    1. grab a box\n",
    "    2. add two blankets\n",
    "    3. add one sleep mask\n",
    "    5. repeat steps one, two, and three until you have 10 packed boxes\n",
    "    6. pack the boxes into the truck\n",
    "3. below:"
   ]
  },
  {
   "cell_type": "code",
   "execution_count": 1,
   "metadata": {},
   "outputs": [
    {
     "name": "stdout",
     "output_type": "stream",
     "text": [
      "A student recieves a donut\n",
      "A student recieves a donut\n",
      "A student recieves a donut\n",
      "A student recieves a donut\n",
      "A student recieves a donut\n",
      "You have no donuts left\n"
     ]
    }
   ],
   "source": [
    "donuts = int(input(\"How many donuts do you have?\"))\n",
    "\n",
    "while donuts > 0:\n",
    "    print(\"A student recieves a donut\")\n",
    "    donuts -= 1\n",
    "\n",
    "print (\"You have no donuts left\")\n"
   ]
  },
  {
   "cell_type": "markdown",
   "metadata": {},
   "source": [
    "# Hacks 3.8.2\n",
    "\n",
    "1. An iteration statement is a statement that executes a segment of code zero or more times in order until a condition is met or there is a break in the code.\n",
    "2. "
   ]
  }
 ],
 "metadata": {
  "kernelspec": {
   "display_name": "Python 3.8.10 64-bit",
   "language": "python",
   "name": "python3"
  },
  "language_info": {
   "codemirror_mode": {
    "name": "ipython",
    "version": 3
   },
   "file_extension": ".py",
   "mimetype": "text/x-python",
   "name": "python",
   "nbconvert_exporter": "python",
   "pygments_lexer": "ipython3",
   "version": "3.8.10"
  },
  "orig_nbformat": 4,
  "vscode": {
   "interpreter": {
    "hash": "916dbcbb3f70747c44a77c7bcd40155683ae19c65e1c03b4aa3499c5328201f1"
   }
  }
 },
 "nbformat": 4,
 "nbformat_minor": 2
}
