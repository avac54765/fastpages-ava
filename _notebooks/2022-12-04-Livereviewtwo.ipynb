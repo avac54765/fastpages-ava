{
 "cells": [
  {
   "cell_type": "markdown",
   "metadata": {},
   "source": [
    "# Lessons Live Review Two\n",
    "> Notes and hacks for the second review of lessons (12/1-12/6)\n",
    "\n",
    "\n",
    "- title: Lessons Live Review Two\n",
    "- toc: true\n",
    "- comments: true\n",
    "- permalink: /lessonsreview/two\n",
    "- image: /images/lesson.jpg\n",
    "- categories: [week 15, lists, iteration, algorithims, booleans, binary trees, flowcharts, procedures, parameters, managing complexity, modularity, abstraction, function structure]"
   ]
  },
  {
   "cell_type": "markdown",
   "metadata": {},
   "source": [
    "## Unit 3 Vocabulary\n",
    "- **variables**: \"containers\" or used to store information to be referenced and manipulated in a computer program\n",
    "- **data types**:  a classification that specifies which type of value a variable has and what type of mathematical, relational or logical operations can be applied to it\n",
    "- **assignment operators**: the operator used to assign a new value to a variable\n",
    "- **lists**: an abstract data type that represents a finite number of ordered values\n",
    "- **dictionaries**: an abstract data type that defines an unordered collection of data as a set of key-value pairs\n",
    "- **class**:  a template definition of a method and variable in a particular kind of object\n",
    "- **algorithm**: a procedure used for solving a problem or performing a computation\n",
    "- **sequence**: the order of how to do something to achieve a result\n",
    "- **selection**: allows an algorithm to make a decision based on if a condition is met\n",
    "- **iteration**: iteration: a loop and doing something again until a condition is met\n",
    "- **expressions**: a concept in which a number of variables or constants, and operators and functions, are put together in a single statement that is acted on by a particular programming language\n",
    "- **comparison operators**: compare the values within an expression, such as to check if the value held by a variable matches the value held by another variable\n",
    "- **boolean expression**: a logical statement that is either TRUE or FALSE\n",
    "- **truth tables**: a breakdown of all the possible truth values returned by a logical expression (usually 1/0, true/false)\n",
    "- **characters**: a display unit of information equivalent to one alphabetic letter or symbol\n",
    "- **strings**: an array data structure of bytes (or words) that stores a sequence of elements\n",
    "- **length**: length() function returns the number of items in an object\n",
    "- **concatenation**: the operation of joining two strings together\n",
    "- **python if**: a conditional statement tha decides if a certian condition is true/decides whether certain statements need to be executed or not\n",
    "- **python elif**: elif = else if and checks for multiple expressions (if the condition for if is False, it checks the condition of the next elif block)\n",
    "- **python else conditionals**: else catches anything which isn't caught by the previous conditions (like and if statement)\n",
    "- **nested selection statements**: when more than one decision must be made before carrying out a task\n",
    "- **Python for loop**: a control flow statement that is used to repeatedly execute a group of statements as long as the condition is satisfied\n",
    "- **Python while loop with range and with list**:  sets aside a block of code that is to be executed repeatedly until a condition is falsified\n",
    "- **Combining loops with conditionals to Break, Continue**:\n",
    "- **Procedural Abstraction**: when we create code sections which are generalised by having variable parameters (more simple)\n",
    "- **Python Def procedures**:\n",
    "- **paramerters**: a special kind of variable used in a function to refer to one of the pieces of data provided as input to the function\n",
    "- **return values**: a value that a function returns to the calling function when it completes its task"
   ]
  },
  {
   "cell_type": "markdown",
   "metadata": {},
   "source": [
    "## Below are examples of some vocab:\n",
    "- variables, data types, assignment operators, dictionaries, algorithm, sequence, selection, expressions, comparision operators, boolena expressions, strings, python if, else, for loop, list, iteration, procedural abstraction, combining loops with conditional to break"
   ]
  },
  {
   "cell_type": "code",
   "execution_count": null,
   "metadata": {},
   "outputs": [],
   "source": [
    "# Using this code from earlier to help define/show examples\n",
    "# algorithim example:\n",
    "miles_of_gas = 30\n",
    "\n",
    "while miles_of_gas >= 5:\n",
    "    school = input(\"Would you like to go to school?\")\n",
    "    if school == \"yes\":\n",
    "        print(\"You have gone to school\")\n",
    "        miles_of_gas -= 5\n",
    "        print(\"You now have \", miles_of_gas, \" miles of gas left\")\n",
    "    else:\n",
    "        print(\"You have \", miles_of_gas, \" miles of gas left\")\n",
    "        miles_of_gas = 0\n",
    "\n",
    "\n",
    "\n",
    "\n",
    "# definitions\n",
    "isalexatired = True #these are variables with the assignment operator \"=\"\n",
    "havehw = True\n",
    "if isalexatired == True and havehw == False: # these are Booleans and comparison operators\n",
    "    print(\"Stay home and sleep!\")\n",
    "else:\n",
    "    if havehw == True: # more examples of nested conditionals\n",
    "        print(\"Go to school\")\n",
    "    else:\n",
    "        print(\"Stay home and sleep!\")\n",
    "\n",
    "\n",
    "\n",
    "\n",
    "# definitions\n",
    "input_string = input(\"Input a string to check how many vowels it has. \") # another variable with the data type of string\n",
    "vowelcount = 0 # assigning a number data type to a variable\n",
    "for character in input_string: #iterates through the string character by character\n",
    "    if character == \"a\":\n",
    "        vowelcount += 1\n",
    "    elif character == \"e\": # an example of an elif statement\n",
    "        vowelcount += 1\n",
    "    elif character == \"i\":\n",
    "        vowelcount += 1\n",
    "    elif character == \"o\":\n",
    "        vowelcount += 1\n",
    "    elif character == \"u\":\n",
    "        vowelcount += 1\n",
    "print(vowelcount)\n",
    "\n",
    "\n",
    "\n",
    "\n",
    "# here is an example of a list that uses a for loop (iteration)\n",
    "numlist = [50]\n",
    "for i in numlist:\n",
    "    i -= 1\n",
    "    numlist.append(i) # .append is an example of procedural abstraction\n",
    "    if i == 0:\n",
    "        break # conditional to break the loop\n",
    "print(numlist)"
   ]
  },
  {
   "cell_type": "markdown",
   "metadata": {},
   "source": [
    "# Lesson 3- 3.5-3.6\n",
    "### Booleans, relational operators, logical operators, conditionals, truth tables, nested conditionals\n",
    "\n",
    "### 3.5\n",
    "- <mark>boolean</mark>= algebraic notation used to represent logical propositions; true or false\n",
    "    - ex. testing if two numbers are equal (the sky is blue = True)\n",
    "    - binary: true= 1, false= 0\n",
    "- <mark>relational operators</mark>= mathematical relationship between two variables and determines if statement is true\n",
    "    - a=b, a>b...\n",
    "- <mark>logical operators</mark>= NOT, AND, OR\n",
    "    - NOT= displays opposite of whatever data is, mainly true/false\n",
    "        - ex. this = <mark>False</mark>\n",
    "    - AND= evalutes two conditions together and determines if both conditions are met\n",
    "        - ex. if __ > __ <mark>and</mark> ___<___\n",
    "    - OR= only looks to see if one condition is met\n",
    "        - if _____ < ______ <mark>or</mark>_____>_____\n",
    "\n"
   ]
  },
  {
   "cell_type": "markdown",
   "metadata": {},
   "source": [
    "# Hacks 1\n",
    "The logical operators:\n",
    "\n",
    "1. NOT: Not is a logical operator that reverses, or takes the opposite, of the data. For example, true would be false, and 1 would be 0.\n",
    "2. AND: decides if both conditions are met- usually an \"if\" statement and an action or decision will occur if both conditions are met. For example, if an animal is agressive AND hungry, then the animal will attack for food.\n",
    "3. OR: only one of two conditions needs to be met in order for OR to work. If one condition is met then an action or decision will occur. For example, if a person is old OR disabled, they may need a wheelchair. "
   ]
  },
  {
   "cell_type": "code",
   "execution_count": 18,
   "metadata": {},
   "outputs": [
    {
     "name": "stdout",
     "output_type": "stream",
     "text": [
      "NOT:\n",
      "False\n",
      "AND + OR:\n",
      "Your number is in the range\n"
     ]
    }
   ],
   "source": [
    "# NOT: From my explanation above:\n",
    "print(\"NOT:\")\n",
    "computer_power = True # the computer is on\n",
    "power_status = not(computer_power) # the opposite of one is off\n",
    "print(power_status) # the computer is off\n",
    "\n",
    "# This example below uses both AND and OR so you can see the different situations in which one would use them:\n",
    "print(\"AND + OR:\")\n",
    "i = input(\"input a number between 1 and 10\")\n",
    "if int(i) > 10 or int(i) < 1: # i must satisfy one condition\n",
    "    print(\"Your number is not in the range\")\n",
    "if int(i) >= 1 and int(i) <= 10: # i must satisfy both conditions\n",
    "        print(\"Your number is in the range\")"
   ]
  },
  {
   "cell_type": "markdown",
   "metadata": {},
   "source": [
    "# Conditionals\n",
    "\n",
    "- <mark>conditionals</mark>= allow for the expression of algorithims that utilize selection without a programming language\n",
    "    - <mark>selection</mark>- block of code that will execute depending on the algorithim condition returning true or false\n",
    "    - <mark>algorithim</mark>- a finite set of instructions that accomplish a specific task\n",
    "    - <mark>conditional statement(If statement)</mark>- a statement that affects the sequence of control by executing certain statements depending on boolean value (true/false)"
   ]
  },
  {
   "cell_type": "markdown",
   "metadata": {},
   "source": [
    "# Hacks 2\n",
    "### Challenges:"
   ]
  },
  {
   "cell_type": "code",
   "execution_count": 22,
   "metadata": {},
   "outputs": [
    {
     "name": "stdout",
     "output_type": "stream",
     "text": [
      "There are 5 vowels in this string\n"
     ]
    }
   ],
   "source": [
    "# Level 1: Vowel Count\n",
    "\n",
    "userinput = input(\"Type in a string and see how many vowels are in it!\")\n",
    "vowelcount = 0\n",
    "for i in userinput: #this will iterate through each character in the string \n",
    "    if i == \"a\": #if the character has an a, it will add one\n",
    "        vowelcount = vowelcount + 1\n",
    "    if i == \"e\": # if the character has an e, it will add one to the vowel count\n",
    "        vowelcount = vowelcount + 1\n",
    "    if i == \"i\": # if the character is an i, adds one\n",
    "        vowelcount = vowelcount + 1\n",
    "    if i == \"o\": # if the character is an o, adds one\n",
    "        vowelcount = vowelcount + 1\n",
    "    if i == \"u\": # if the character is a u, adds one\n",
    "        vowelcount = vowelcount + 1\n",
    "print(\"There are \" + str(vowelcount) + \" vowels in this string\")"
   ]
  },
  {
   "cell_type": "code",
   "execution_count": 32,
   "metadata": {},
   "outputs": [
    {
     "name": "stdout",
     "output_type": "stream",
     "text": [
      "0 is a multiple of 3\n",
      "3 is a multiple of 3\n",
      "5 is a multiple of 5\n",
      "6 is a multiple of 3\n",
      "9 is a multiple of 3\n",
      "10 is a multiple of 5\n",
      "12 is a multiple of 3\n",
      "The sum of the multiples of 3 and 5 for your input is = 45\n"
     ]
    }
   ],
   "source": [
    "# Level 3: Multiples of 3 or 5\n",
    "\n",
    "usernumber = input(\"please input a number\")\n",
    "multiples_sum = 0\n",
    "\n",
    "if int(usernumber) >= 0: # this will make sure the input is positive\n",
    "    for i in range(int(usernumber)+1): # this will iterate through each number up to the input\n",
    "        if int(i) % 3 == 0: # I used MOD to figure out if the number is a multiple of 3 or 5\n",
    "            multiples_sum += int(i) # this adds the multiple to the count and prints if the number is a multiple\n",
    "            print(str(i) + \" is a multiple of 3\" ) \n",
    "        elif int(i) % 5 == 0: # same as above but for 5\n",
    "            multiples_sum += int(i)\n",
    "            print(str(i) + \" is a multiple of 5\")\n",
    "\n",
    "print(\"The sum of the multiples of 3 and 5 for your input is = \" + str(multiples_sum))\n"
   ]
  },
  {
   "cell_type": "markdown",
   "metadata": {},
   "source": [
    "### Defining the key terms:\n",
    "- selection = a segment of code will only run if a specific condition is met\n",
    "    example: ![selection image](https://media.gcflearnfree.org/content/5be4465477c0500354728440_11_08_2018/SSL_selection2.jpg)\n",
    "\n",
    "- algorithim = a function/code that completes a task or solves a problem.\n",
    "    example: ![algorithim image](https://media.geeksforgeeks.org/wp-content/cdn-uploads/20191016135223/What-is-Algorithm_-1024x631.jpg)\n",
    "\n",
    "- conditional statement = A statement or order of code that will occur if a specific condition is met (true/false)\n",
    "    example: \n",
    "    \n",
    "    ![conditional statement image](https://encrypted-tbn0.gstatic.com/images?q=tbn:ANd9GcS3EZV2ixe4Xxzo6mouvAckouigbjsyPnNWAg&usqp=CAU)"
   ]
  },
  {
   "cell_type": "code",
   "execution_count": 4,
   "metadata": {},
   "outputs": [
    {
     "name": "stdout",
     "output_type": "stream",
     "text": [
      "Congradulations! You passed your test\n"
     ]
    }
   ],
   "source": [
    "# Binary conditional logic: A program that determines if the user has passed their test\n",
    "usersinput = int(input(\"What was your percentage grade on the test?\"))\n",
    "\n",
    "if usersinput >= 75:\n",
    "    print(\"Congradulations! You passed your test\")\n",
    "    if usersinput >= 90:\n",
    "            print(\"You got an A!\")\n",
    "else:\n",
    "    print(\"Im sorry, you failed. Try again next time!\")\n"
   ]
  },
  {
   "cell_type": "markdown",
   "metadata": {},
   "source": [
    "### Nested Conditionals\n",
    "\n",
    "- <mark>Nested conditional statements</mark>- consist of conditional statements within conditional statements (one inside the other)\n",
    "- can have three different conditions"
   ]
  },
  {
   "cell_type": "markdown",
   "metadata": {},
   "source": [
    "# Hacks 3"
   ]
  },
  {
   "cell_type": "markdown",
   "metadata": {},
   "source": [
    "Flow chart one:\n",
    "image in review ticket"
   ]
  },
  {
   "cell_type": "code",
   "execution_count": 17,
   "metadata": {},
   "outputs": [
    {
     "name": "stdout",
     "output_type": "stream",
     "text": [
      "triple cooking porportions\n"
     ]
    }
   ],
   "source": [
    "# this code performs the algorithim in the flowchart above\n",
    "people = int(input(\"How many people are you feeding for dinner?\"))\n",
    "\n",
    "if people >= 4:\n",
    "    adults = int(input(\"How many adults are eating?\"))\n",
    "    children = int(input(\"How many children are eating?\"))\n",
    "    if adults > children:\n",
    "        print(\"triple cooking porportions\")\n",
    "    else:\n",
    "        print(\"souble cooking porportions\")\n",
    "else:\n",
    "    print(\"Stick to normal cooking instructions\")"
   ]
  },
  {
   "cell_type": "markdown",
   "metadata": {},
   "source": [
    "Flow chart two:\n",
    "image in review ticket"
   ]
  },
  {
   "cell_type": "code",
   "execution_count": 20,
   "metadata": {},
   "outputs": [
    {
     "name": "stdout",
     "output_type": "stream",
     "text": [
      "wake up at 7:25 AM to get ready\n"
     ]
    }
   ],
   "source": [
    "# the code below describes situation in flowchart above\n",
    "showering = input(\"Are you showering in the morning?\")\n",
    "\n",
    "if showering == \"yes\":\n",
    "    drying_hair = input(\"Are you blow drying your hair?\")\n",
    "    if drying_hair == \"yes\":\n",
    "        print(\"wake up at 6:30 AM to get ready\")\n",
    "    else:\n",
    "        print(\"wake up at 6:45 AM to get ready\")\n",
    "else:\n",
    "    print(\"wake up at 7:25 AM to get ready\")"
   ]
  },
  {
   "cell_type": "markdown",
   "metadata": {},
   "source": [
    "Flow chart three:\n",
    "image in review ticket"
   ]
  },
  {
   "cell_type": "code",
   "execution_count": 25,
   "metadata": {},
   "outputs": [
    {
     "name": "stdout",
     "output_type": "stream",
     "text": [
      "get a double shot latte\n"
     ]
    }
   ],
   "source": [
    "# the code below describes the situation in flowchart above\n",
    "coffee = input(\"Do you like coffee?\")\n",
    "\n",
    "if coffee == \"yes\":\n",
    "    espresso = int(input(\"How many shots of espresso do you want?\"))\n",
    "    if espresso <=1:\n",
    "        print(\"Order a machiatto\")\n",
    "    else:\n",
    "        print(\"get a double shot latte\")\n",
    "else:\n",
    "    print(\"Order a tea\")\n"
   ]
  },
  {
   "cell_type": "code",
   "execution_count": 9,
   "metadata": {},
   "outputs": [
    {
     "name": "stdout",
     "output_type": "stream",
     "text": [
      "You have a cold:(\n"
     ]
    }
   ],
   "source": [
    "# below is code for someone taking a survey for sickness\n",
    "\n",
    "congestion = input(\"Do you have a runny nose?\")\n",
    "\n",
    "if congestion == \"yes\":\n",
    "    fever = input(\"Do you have a fever?\")\n",
    "    if fever == \"yes\":\n",
    "        print(\"You have the flu :(\")\n",
    "    else:\n",
    "        print(\"You have a cold:(\")\n",
    "\n",
    "else:\n",
    "    pinkeye = input(\"Are your eyes red?\")\n",
    "    if pinkeye == \"yes\":\n",
    "        print(\"You have pinkeye :(\")\n",
    "    else:\n",
    "        print(\"You seem to be healthy!\")\n"
   ]
  },
  {
   "cell_type": "code",
   "execution_count": 13,
   "metadata": {},
   "outputs": [
    {
     "name": "stdout",
     "output_type": "stream",
     "text": [
      "You should take drawing and painting or photography\n"
     ]
    }
   ],
   "source": [
    "# asks the user if they like STEM\n",
    "STEM = input(\"Do you like math and science?\")\n",
    "\n",
    "if STEM == \"yes\": # asks about math vs science and gives reccomendation\n",
    "    math = input(\"Do you like math?\")\n",
    "    if math == \"yes\":\n",
    "        print(\"You should take AP Calculus AB\")\n",
    "    else:\n",
    "        print(\"You should take AP Biology\")\n",
    "else: # asks about non-STEM classes and gives reccomendation\n",
    "    ceramics = input(\"Do you like working with clay?\")\n",
    "    if ceramics == \"yes\":\n",
    "        print(\"You should take cermaics\")\n",
    "    else:\n",
    "        print(\"You should take drawing and painting or photography\")"
   ]
  },
  {
   "cell_type": "markdown",
   "metadata": {},
   "source": [
    "# Lesson 4 3.8-3.10\n",
    "\n",
    "- <mark>Iteration</mark>: a repeating portion of an algorithm, repeats a specified number of times or until a given condition is met\n",
    "- <mark>Iteration Statements</mark>: change the sequential flow of control by repeating a set of statements zero or more times, until a stopping condition is met\n",
    "- <mark>Repeat Until</mark>: if the condition evaluates to true initially, the loop body is not executed at all, due to the condition being checked before the loop\n",
    "- can use i (define a variable) to represent the range of a value (string or integer) for loops\n",
    "- <mark>range function</mark>- goes through a value and can be used to have a starting value, ending value, and increment value (ex. range(1,11,2)); ending value is not included so may need to add one to get desired value\n",
    "\n",
    "Logic example provided:\n",
    "![image](https://user-images.githubusercontent.com/111478625/205548518-57ded01c-8caa-401d-8e1c-af0d0c74144e.png)\n",
    "\n"
   ]
  },
  {
   "cell_type": "markdown",
   "metadata": {},
   "source": [
    "# Hacks 3.8.1\n",
    "\n",
    "1. Iteration is a term used in computer science to simplify code by repetition. The code will use loops to repeat until a condition is met.\n",
    "2. Iteration logic example: packing boxes\n",
    "    1. grab a box\n",
    "    2. add two blankets\n",
    "    3. add one sleep mask\n",
    "    5. repeat steps one, two, and three until you have 10 packed boxes\n",
    "    6. pack the boxes into the truck\n",
    "3. below:"
   ]
  },
  {
   "cell_type": "code",
   "execution_count": 1,
   "metadata": {},
   "outputs": [
    {
     "name": "stdout",
     "output_type": "stream",
     "text": [
      "A student recieves a donut\n",
      "A student recieves a donut\n",
      "A student recieves a donut\n",
      "A student recieves a donut\n",
      "A student recieves a donut\n",
      "You have no donuts left\n"
     ]
    }
   ],
   "source": [
    "donuts = int(input(\"How many donuts do you have?\"))\n",
    "\n",
    "while donuts > 0:\n",
    "    print(\"A student recieves a donut\")\n",
    "    donuts -= 1\n",
    "\n",
    "print (\"You have no donuts left\")\n"
   ]
  },
  {
   "cell_type": "markdown",
   "metadata": {},
   "source": [
    "# 3.8.2\n",
    "\n",
    "- Iteration Statement - cause statements to be executed zero or more times, subject to some loop-termination criteria\n",
    "- range function = lists all integers leading up to the given number (but doesn't inlclude)"
   ]
  },
  {
   "cell_type": "markdown",
   "metadata": {},
   "source": [
    "# Hacks 3.8.2\n",
    "\n",
    "1. An iteration statement is a statement that executes a segment of code zero or more times in order until a condition is met or there is a break in the code."
   ]
  },
  {
   "cell_type": "code",
   "execution_count": 12,
   "metadata": {},
   "outputs": [
    {
     "name": "stdout",
     "output_type": "stream",
     "text": [
      "[10, 9, 8, 7, 6, 5, 4, 3, 2, 1, 0]\n"
     ]
    }
   ],
   "source": [
    "# decending list\n",
    "decending_list = [int(input(\"What number would you like to countdown from?\"))]  \n",
    "\n",
    "for i in decending_list:\n",
    "    i -= 1\n",
    "    decending_list.append(i)\n",
    "    if i == 0:\n",
    "        break\n",
    "print(decending_list)\n",
    "    \n",
    "\n"
   ]
  },
  {
   "cell_type": "code",
   "execution_count": 25,
   "metadata": {},
   "outputs": [
    {
     "name": "stdout",
     "output_type": "stream",
     "text": [
      "3\n",
      "16\n",
      "29\n",
      "42\n",
      "55\n",
      "68\n",
      "81\n"
     ]
    }
   ],
   "source": [
    "# this is my list that shows 3,16,29,42,55,68, and 81\n",
    "i = 3\n",
    "\n",
    "while i <= 81:\n",
    "    print(i)\n",
    "    i += 13 "
   ]
  },
  {
   "cell_type": "markdown",
   "metadata": {},
   "source": [
    "# 3.8.3\n",
    "1. append() - adding element to the end of the list\n",
    "2. insert() - adding an element in a specific position\n",
    "3. remove() - remove an item from the list\n",
    "4. sort() - changes order of list permanently \n",
    "5. sorted() - returns a copy of the list which leaves the original copy unchanged\n",
    "6. range() - use to work with number efficiently\n",
    "7. min() - find the least value in list\n",
    "8. max() - find the highest value in list\n",
    "9. sum() - sum of all in list\n",
    "10. length() - returns the number of elements currently in a specified list\n",
    "\n",
    "# 3.10.2\n",
    "- Traversing a list = is the process of visiting each element in a list in a sequential order. It can be used to access, search for, and modify elements in the list. \n",
    "\n",
    "1) Complete Traversal: All elements in a list are assessed \n",
    "\n",
    "2) Partial Traversal: Only a given portion of elements are assessed\n",
    "\n",
    "3) Iterative Traversal: When loops are used to iterate through a list and to access each single element at a time.\n",
    "\n"
   ]
  },
  {
   "cell_type": "markdown",
   "metadata": {},
   "source": [
    "# Hacks Unit 3 Section 10\n",
    "\n",
    "### Quiz:\n",
    "Quiz score image here (titled lessonfourquiz)\n",
    "\n",
    "### Minimum list:\n",
    "\n",
    "- Use the list made bellow\n",
    "- Make a variable to hold the minimum and set it to potential minimum value\n",
    "- Loop\n",
    "- Check each element to see if it is less than the minimum variable\n",
    "- If the element is less than the minimum variable, update the minimum\n",
    "- After all the elements of the list have been checked, display the minimum value\n"
   ]
  },
  {
   "cell_type": "code",
   "execution_count": 32,
   "metadata": {},
   "outputs": [
    {
     "name": "stdout",
     "output_type": "stream",
     "text": [
      "10\n"
     ]
    }
   ],
   "source": [
    "nums = [\"10\", \"15\", \"20\", \"25\", \"30\", \"35\"]\n",
    "\n",
    "minimum = 50\n",
    "\n",
    "for i in nums:\n",
    "    if int(i) < minimum:\n",
    "        minimum = int(i)\n",
    "\n",
    "print (minimum)"
   ]
  },
  {
   "cell_type": "code",
   "execution_count": 33,
   "metadata": {},
   "outputs": [
    {
     "name": "stdout",
     "output_type": "stream",
     "text": [
      "sorted:\n",
      "[2, 2, 5, 10, 1000]\n",
      "Your highest monthly earning is $1000\n",
      "You have been working for 5 months\n"
     ]
    }
   ],
   "source": [
    "monthly_earnings = []\n",
    "\n",
    "a = 0\n",
    "while a == 0: # this will continue asking for each month's earnings to add to the list until the user enters nothing (clicks enter)\n",
    "    money = input(\"How much money did you make this month?\")\n",
    "    if money == \"\":\n",
    "        break \n",
    "    monthly_earnings.append(int(money)) # this adds all of the input into the list\n",
    "   \n",
    "    \n",
    "\n",
    "sort = input(\"Do you want to sort your earnings?\") \n",
    "\n",
    "if sort == \"yes\": # if they want to sort earnings\n",
    "    print(\"sorted:\")\n",
    "    print(sorted(monthly_earnings))\n",
    "else: # if they don't want to sort earnings, it will print unsorted\n",
    "    print(\"unsorted:\")\n",
    "    print(monthly_earnings)\n",
    "\n",
    "print(\"Your highest monthly earning is $\" + str(max(monthly_earnings)))\n",
    "print(\"You have been working for \" + str(len(monthly_earnings)) + \" months\")"
   ]
  },
  {
   "cell_type": "markdown",
   "metadata": {},
   "source": [
    "# 3.9 and 3.11\n",
    "\n",
    "### 3.9\n",
    "\n",
    "- However, Algorithms that look similar might not always have the same result\n",
    "- Different algorithms can be used to solve the same problem\n",
    "\n",
    "Example:\n",
    "The function below would perform very differently but look similar if there were no equal sign after the 70:"
   ]
  },
  {
   "cell_type": "code",
   "execution_count": 1,
   "metadata": {},
   "outputs": [
    {
     "name": "stdout",
     "output_type": "stream",
     "text": [
      "What Grade Did You Get?\n",
      "Nice!\n"
     ]
    }
   ],
   "source": [
    "print(\"What Grade Did You Get?\")\n",
    "grade = int(input(\"Enter Grade:\"))\n",
    "if grade >= 90:\n",
    "        print(\"Wow! Good job!\")\n",
    "if 70 <= grade < 90:\n",
    "        print(\"Nice!\")\n",
    "elif grade < 70:\n",
    "        print(\"Do Better\")"
   ]
  },
  {
   "cell_type": "markdown",
   "metadata": {},
   "source": [
    "# Hacks\n",
    "\n",
    "# 3.9.1 Completion:\n",
    "\n",
    "1. It is important to know that algorithims that look different can do the same thing and that algorithims that look the same might have different results because users must look and examine algorithims carefully to predict the outcomes of algorithims. There is more than one way to create certain algorithims or algorithims may look the same and a person must be carefull not to make any assumptions.\n",
    "\n",
    "2. conditional to boolean below:"
   ]
  },
  {
   "cell_type": "code",
   "execution_count": 2,
   "metadata": {},
   "outputs": [
    {
     "name": "stdout",
     "output_type": "stream",
     "text": [
      "Take a shower!\n",
      "Take a shower!\n"
     ]
    }
   ],
   "source": [
    "sweaty = True\n",
    "dirty = False\n",
    "\n",
    "if sweaty == True:\n",
    "    print(\"Take a shower!\")\n",
    "\n",
    "else:\n",
    "    if dirty == True:\n",
    "        print(\"Take a shower!\")\n",
    "    \n",
    "    else: \n",
    "        print(\"No need to take a shower. You're clean!\")\n",
    "\n",
    "\n",
    "# second way!\n",
    "\n",
    "showering = dirty or sweaty \n",
    "if showering == True:\n",
    "    print(\"Take a shower!\")\n",
    "if showering == False:\n",
    "    print(\"No need to take a shower. You're clean!\")"
   ]
  },
  {
   "cell_type": "markdown",
   "metadata": {},
   "source": [
    "# 3.9.2 Hacks:\n",
    "\n",
    "# Completiom:\n",
    "\n",
    "### Flowchart\n",
    "<mark>Linked in review ticket</mark>\n",
    "\n",
    "### Natural Language:\n",
    "1. Start\n",
    "2. The number of miles left of gas is 30 miles.\n",
    "3. Ask if you would like to go to school.\n",
    "4. Do you have 5 or more miles of gas?\n",
    "5. Every trip to school is 5 miles. You go to school and lose 5 miles.\n",
    "6. How many miles of gas are left?\n",
    "8. Decide if you would like to go to school again.\n",
    "9. Repeat steps 3-6 until you are out of gas or you don't want to go to school again.\n",
    "10. State gas level.\n",
    "11. End"
   ]
  },
  {
   "cell_type": "code",
   "execution_count": 3,
   "metadata": {},
   "outputs": [
    {
     "name": "stdout",
     "output_type": "stream",
     "text": [
      "You have gone to school\n",
      "You now have  25  miles of gas left\n",
      "You have  25  miles of gas left\n"
     ]
    }
   ],
   "source": [
    "miles_of_gas = 30\n",
    "\n",
    "while miles_of_gas >= 5:\n",
    "    school = input(\"Would you like to go to school?\")\n",
    "    if school == \"yes\":\n",
    "        print(\"You have gone to school\")\n",
    "        miles_of_gas -= 5\n",
    "        print(\"You now have \", miles_of_gas, \" miles of gas left\")\n",
    "    else:\n",
    "        print(\"You have \", miles_of_gas, \" miles of gas left\")\n",
    "        miles_of_gas = 0"
   ]
  },
  {
   "cell_type": "markdown",
   "metadata": {},
   "source": [
    "- when working with others, MAKE NOTES IN CODE\n",
    "- there are many ways to do things\n",
    "- use flowcharts and natural code when planning algorithims\n",
    "- existing algorithims can help you write more complicated ones"
   ]
  },
  {
   "cell_type": "markdown",
   "metadata": {},
   "source": [
    "# 3.9.3 Hacks\n",
    " - Flowchart linked in review ticket\n",
    "\n"
   ]
  },
  {
   "cell_type": "code",
   "execution_count": 4,
   "metadata": {},
   "outputs": [
    {
     "name": "stdout",
     "output_type": "stream",
     "text": [
      "I'm thinking of a number between 0 and 100.\n",
      "You guessed 7.\n",
      "Your guess is too high\n",
      "Guess a number between 7 and 100.\n",
      "You guessed 8.\n",
      "Your guess is too high\n",
      "Guess a number between 8 and 100.\n",
      "You guessed 2.\n",
      "Your guess is too high\n",
      "Guess a number between 2 and 100.\n",
      "You guessed 2.\n",
      "Your guess is too high\n",
      "Guess a number between 2 and 100.\n",
      "You guessed 2.\n",
      "Your guess is too high\n",
      "Guess a number between 2 and 100.\n",
      "You guessed .\n"
     ]
    },
    {
     "ename": "ValueError",
     "evalue": "invalid literal for int() with base 10: ''",
     "output_type": "error",
     "traceback": [
      "\u001b[0;31m---------------------------------------------------------------------------\u001b[0m",
      "\u001b[0;31mValueError\u001b[0m                                Traceback (most recent call last)",
      "\u001b[1;32m/home/avac54765/vscode/fastpages-ava/_notebooks/2022-12-04-Livereviewtwo.ipynb Cell 41\u001b[0m in \u001b[0;36m<cell line: 36>\u001b[0;34m()\u001b[0m\n\u001b[1;32m     <a href='vscode-notebook-cell://wsl%2Bubuntu/home/avac54765/vscode/fastpages-ava/_notebooks/2022-12-04-Livereviewtwo.ipynb#X62sdnNjb2RlLXJlbW90ZQ%3D%3D?line=37'>38</a>\u001b[0m num_guesses \u001b[39m+\u001b[39m\u001b[39m=\u001b[39m \u001b[39m1\u001b[39m\n\u001b[1;32m     <a href='vscode-notebook-cell://wsl%2Bubuntu/home/avac54765/vscode/fastpages-ava/_notebooks/2022-12-04-Livereviewtwo.ipynb#X62sdnNjb2RlLXJlbW90ZQ%3D%3D?line=38'>39</a>\u001b[0m \u001b[39mprint\u001b[39m(\u001b[39mf\u001b[39m\u001b[39m\"\u001b[39m\u001b[39mYou guessed \u001b[39m\u001b[39m{\u001b[39;00muser_guess\u001b[39m}\u001b[39;00m\u001b[39m.\u001b[39m\u001b[39m\"\u001b[39m)\n\u001b[0;32m---> <a href='vscode-notebook-cell://wsl%2Bubuntu/home/avac54765/vscode/fastpages-ava/_notebooks/2022-12-04-Livereviewtwo.ipynb#X62sdnNjb2RlLXJlbW90ZQ%3D%3D?line=39'>40</a>\u001b[0m lower_bound, upper_bound \u001b[39m=\u001b[39m search(number, user_guess)\n\u001b[1;32m     <a href='vscode-notebook-cell://wsl%2Bubuntu/home/avac54765/vscode/fastpages-ava/_notebooks/2022-12-04-Livereviewtwo.ipynb#X62sdnNjb2RlLXJlbW90ZQ%3D%3D?line=40'>41</a>\u001b[0m \u001b[39mif\u001b[39;00m \u001b[39mint\u001b[39m(upper_bound) \u001b[39m==\u001b[39m \u001b[39mint\u001b[39m(number):\n\u001b[1;32m     <a href='vscode-notebook-cell://wsl%2Bubuntu/home/avac54765/vscode/fastpages-ava/_notebooks/2022-12-04-Livereviewtwo.ipynb#X62sdnNjb2RlLXJlbW90ZQ%3D%3D?line=41'>42</a>\u001b[0m     \u001b[39mbreak\u001b[39;00m\n",
      "\u001b[1;32m/home/avac54765/vscode/fastpages-ava/_notebooks/2022-12-04-Livereviewtwo.ipynb Cell 41\u001b[0m in \u001b[0;36msearch\u001b[0;34m(number, guess)\u001b[0m\n\u001b[1;32m     <a href='vscode-notebook-cell://wsl%2Bubuntu/home/avac54765/vscode/fastpages-ava/_notebooks/2022-12-04-Livereviewtwo.ipynb#X62sdnNjb2RlLXJlbW90ZQ%3D%3D?line=21'>22</a>\u001b[0m \u001b[39mdef\u001b[39;00m \u001b[39msearch\u001b[39m(number, guess):\n\u001b[1;32m     <a href='vscode-notebook-cell://wsl%2Bubuntu/home/avac54765/vscode/fastpages-ava/_notebooks/2022-12-04-Livereviewtwo.ipynb#X62sdnNjb2RlLXJlbW90ZQ%3D%3D?line=22'>23</a>\u001b[0m     \u001b[39mglobal\u001b[39;00m lower_bound, upper_bound\n\u001b[0;32m---> <a href='vscode-notebook-cell://wsl%2Bubuntu/home/avac54765/vscode/fastpages-ava/_notebooks/2022-12-04-Livereviewtwo.ipynb#X62sdnNjb2RlLXJlbW90ZQ%3D%3D?line=23'>24</a>\u001b[0m     \u001b[39mif\u001b[39;00m \u001b[39mint\u001b[39;49m(guess) \u001b[39m<\u001b[39m \u001b[39mint\u001b[39m(number):\n\u001b[1;32m     <a href='vscode-notebook-cell://wsl%2Bubuntu/home/avac54765/vscode/fastpages-ava/_notebooks/2022-12-04-Livereviewtwo.ipynb#X62sdnNjb2RlLXJlbW90ZQ%3D%3D?line=24'>25</a>\u001b[0m         \u001b[39mprint\u001b[39m(\u001b[39m\"\u001b[39m\u001b[39mYour guess is too high\u001b[39m\u001b[39m\"\u001b[39m) \n\u001b[1;32m     <a href='vscode-notebook-cell://wsl%2Bubuntu/home/avac54765/vscode/fastpages-ava/_notebooks/2022-12-04-Livereviewtwo.ipynb#X62sdnNjb2RlLXJlbW90ZQ%3D%3D?line=25'>26</a>\u001b[0m         lower_bound \u001b[39m=\u001b[39m guess\n",
      "\u001b[0;31mValueError\u001b[0m: invalid literal for int() with base 10: ''"
     ]
    }
   ],
   "source": [
    "import random\n",
    "\n",
    "#sets variables for the game\n",
    "num_guesses = 0\n",
    "user_guess = -1\n",
    "upper_bound = 100\n",
    "lower_bound = 0\n",
    "\n",
    "#generates a random number\n",
    "number = random.randint(0,100)\n",
    "\n",
    "# print(number)     #for testing purposes\n",
    "\n",
    "print(f\"I'm thinking of a number between 0 and 100.\")\n",
    "\n",
    "#Write a function that gets a guess from the user using input()\n",
    "def guess():\n",
    "    userguess = input(\"Choose a number!\")\n",
    "    return userguess\n",
    "\n",
    "#Change the print statements to give feedback on whether the player guessed too high or too low\n",
    "def search(number, guess):\n",
    "    global lower_bound, upper_bound\n",
    "    if int(guess) < int(number):\n",
    "        print(\"Your guess is too high\") \n",
    "        lower_bound = guess\n",
    "        return lower_bound, upper_bound\n",
    "    elif int(guess) > int(number):\n",
    "        print(\"Your guess is too low\")\n",
    "        upper_bound = guess\n",
    "        return lower_bound, upper_bound\n",
    "    else:\n",
    "        upper_bound, lower_bound = guess, guess\n",
    "        return lower_bound, upper_bound \n",
    "\n",
    "while user_guess != number:\n",
    "    user_guess = guess()\n",
    "    num_guesses += 1\n",
    "    print(f\"You guessed {user_guess}.\")\n",
    "    lower_bound, upper_bound = search(number, user_guess)\n",
    "    if int(upper_bound) == int(number):\n",
    "        break\n",
    "    else:\n",
    "        print(f\"Guess a number between {lower_bound} and {upper_bound}.\")\n",
    "\n",
    "print(f\"You guessed the number in {num_guesses} guesses!\")"
   ]
  },
  {
   "cell_type": "markdown",
   "metadata": {},
   "source": [
    "### 3.11 \n",
    "- <mark>binary trees</mark>- find the center by sorting a list and indexing the center\n",
    "    - place the middle element in the center and branch down\n",
    "    - place the next center (of the half) on one side, and the other side on the other\n",
    "    - keep doing this until all of the elements are in the tree"
   ]
  },
  {
   "cell_type": "markdown",
   "metadata": {},
   "source": [
    "# 3.11 Hacks:\n",
    "\n",
    "\n",
    "1. calculate the middle index and create a binary tree for each of these lists\n",
    "    - 12, 14, 43, 57, 79, 80, 99\n",
    "    - 92, 43, 74, 66, 30, 12, 1\n",
    "    - 7, 13, 96, 111, 33, 84, 60\n",
    "2. Using one of the sets of numbers from the question above, what would be the second number looked at in a binary search if the number is more than the middle number?\n",
    "3. Which of the following lists can NOT a binary search be used in order to find a targeted value?\n",
    "\n",
    "    a. [\"amy\", \"beverly\", \"christian\", \"devin\"]\n",
    "\n",
    "    b. [-1, 2, 6, 9, 19]\n",
    "\n",
    "    <mark>c. [3, 2, 8, 12, 99]</mark>\n",
    "    \n",
    "    d. [\"xylophone\", \"snowman\", \"snake\", \"doorbell\", \"author\"]"
   ]
  },
  {
   "cell_type": "code",
   "execution_count": 5,
   "metadata": {},
   "outputs": [
    {
     "name": "stdout",
     "output_type": "stream",
     "text": [
      "The first middle index is:  57\n",
      "[1, 12, 30, 43, 66, 74, 92]\n",
      "The second middle index is:  43\n",
      "[7, 13, 33, 60, 84, 96, 111]\n",
      "The third middle index is:  60\n"
     ]
    }
   ],
   "source": [
    "listone = [12, 14, 43, 57, 79, 80, 99]\n",
    "\n",
    "middle = listone[int(len(listone)/2)]\n",
    "print(\"The first middle index is: \", middle)\n",
    "\n",
    "listtwo = [92,43,74,66,30,12,1]\n",
    "\n",
    "listtwo.sort() #puts list in order\n",
    "\n",
    "print(listtwo)\n",
    "\n",
    "middle = listtwo[int(len(listtwo)/2)]\n",
    "print(\"The second middle index is: \", middle)\n",
    "\n",
    "\n",
    "listthree = [7, 13, 96, 111, 33, 84, 60]\n",
    "\n",
    "listthree.sort() #puts list in order\n",
    "\n",
    "print(listthree)\n",
    "\n",
    "middle = listthree[int(len(listthree)/2)]\n",
    "print(\"The third middle index is: \", middle)\n",
    "\n"
   ]
  },
  {
   "cell_type": "markdown",
   "metadata": {},
   "source": [
    "2. \n",
    "    1. In the this list of numbers: 12, 14, 43, 57, 79, 80, 99:\n",
    "    The second number looked at in a binary search if the number is more than the middle number would be <mark>80</mark>.\n",
    "    2. Second list: 1, 12, 30, 43, 66, 74, 92:\n",
    "    The second number looked at would be <mark>74</mark>.\n",
    "    3. Third list: 7, 13, 33, 60, 84, 96, 111\n",
    "    The second number looked at would be <mark>96</mark>\n",
    "3. The answer is <mark>C</mark> because the list is unsorted. In order to use the binary search, a user would have to sort the list like I have with the lists above."
   ]
  },
  {
   "cell_type": "markdown",
   "metadata": {},
   "source": [
    "# How this helps me on my AP Exam\n",
    "\n",
    "Lists are essential knowledge on the AP exam. In this lesson, I learn how to work with lists and different ways to achieve a desired outcome with a list. I learned about:\n",
    "- the different ways to edit a list\n",
    "- how to identify lists\n",
    "\n",
    "I have also learned all about conditional statements. I can now identify the different conditional statements on the exam."
   ]
  }
 ],
 "metadata": {
  "kernelspec": {
   "display_name": "Python 3.8.10 64-bit",
   "language": "python",
   "name": "python3"
  },
  "language_info": {
   "codemirror_mode": {
    "name": "ipython",
    "version": 3
   },
   "file_extension": ".py",
   "mimetype": "text/x-python",
   "name": "python",
   "nbconvert_exporter": "python",
   "pygments_lexer": "ipython3",
   "version": "3.8.10"
  },
  "orig_nbformat": 4,
  "vscode": {
   "interpreter": {
    "hash": "916dbcbb3f70747c44a77c7bcd40155683ae19c65e1c03b4aa3499c5328201f1"
   }
  }
 },
 "nbformat": 4,
 "nbformat_minor": 2
}
