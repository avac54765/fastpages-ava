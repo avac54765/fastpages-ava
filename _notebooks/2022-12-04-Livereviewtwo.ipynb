{
 "cells": [
  {
   "cell_type": "markdown",
   "metadata": {},
   "source": [
    "# Lessons Live Review Two\n",
    "> Notes and hacks for the second review of lessons (12/1-12/6)\n",
    "\n",
    "\n",
    "- title: Lessons Live Review Two\n",
    "- toc: true\n",
    "- comments: true\n",
    "- permalink: /lessonsreview/two\n",
    "- image: /images/lesson.jpg\n",
    "- categories: [week 15]"
   ]
  }
 ],
 "metadata": {
  "kernelspec": {
   "display_name": "Python 3.8.10 64-bit",
   "language": "python",
   "name": "python3"
  },
  "language_info": {
   "name": "python",
   "version": "3.8.10"
  },
  "orig_nbformat": 4,
  "vscode": {
   "interpreter": {
    "hash": "916dbcbb3f70747c44a77c7bcd40155683ae19c65e1c03b4aa3499c5328201f1"
   }
  }
 },
 "nbformat": 4,
 "nbformat_minor": 2
}
