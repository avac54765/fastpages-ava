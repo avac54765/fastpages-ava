{
 "cells": [
  {
   "cell_type": "markdown",
   "metadata": {},
   "source": [
    "# Lessons Live Review Two\n",
    "> Notes and hacks for the second review of lessons (12/1-12/6)\n",
    "\n",
    "\n",
    "- title: Lessons Live Review Two\n",
    "- toc: true\n",
    "- comments: true\n",
    "- permalink: /lessonsreview/two\n",
    "- image: /images/lesson.jpg\n",
    "- categories: [week 15]"
   ]
  },
  {
   "cell_type": "markdown",
   "metadata": {},
   "source": [
    "# Lesson 3- 3.5-3.6\n",
    "### Booleans, relational operators, logical operators, conditionals, truth tables, nested conditionals\n",
    "\n",
    "### 3.5\n",
    "- <mark>boolean</mark>= algebraic notation used to represent logical propositions; true or false\n",
    "    - ex. testing if two numbers are equal (the sky is blue = True)\n",
    "    - binary: true= 1, false= 0\n",
    "- <mark>relational operators</mark>= mathematical relationship between two variables and determines if statement is true\n",
    "    - a=b, a>b...\n",
    "- <mark>logical operators</mark>= NOT, AND, OR\n",
    "    - NOT= displays opposite of whatever data is, mainly true/false\n",
    "        - ex. this = <mark>False</mark>\n",
    "    - AND= evalutes two conditions together and determines if both conditions are met\n",
    "        - ex. if __ > __ <mark>and</mark> ___<___\n",
    "    - OR= only looks to see if one condition is met\n",
    "        - if _____ < ______ <mark>or</mark>_____>_____\n",
    "\n"
   ]
  },
  {
   "cell_type": "markdown",
   "metadata": {},
   "source": [
    "# Hacks 1\n",
    "The logical operators:\n",
    "\n",
    "1. NOT: Not is a logical operator that reverses, or takes the opposite, of the data. For example, true would be false, and 1 would be 0.\n",
    "2. AND: decides if both conditions are met- usually an \"if\" statement and an action or decision will occur if both conditions are met. For example, if an animal is agressive AND hungry, then the animal will attack for food.\n",
    "3. OR: only one of two conditions needs to be met in order for OR to work. If one condition is met then an action or decision will occur. For example, if a person is old OR disabled, they may need a wheelchair. "
   ]
  },
  {
   "cell_type": "code",
   "execution_count": 18,
   "metadata": {},
   "outputs": [
    {
     "name": "stdout",
     "output_type": "stream",
     "text": [
      "NOT:\n",
      "False\n",
      "AND + OR:\n",
      "Your number is in the range\n"
     ]
    }
   ],
   "source": [
    "# NOT: From my explanation above:\n",
    "print(\"NOT:\")\n",
    "computer_power = True # the computer is on\n",
    "power_status = not(computer_power) # the opposite of one is off\n",
    "print(power_status) # the computer is off\n",
    "\n",
    "# This example below uses both AND and OR so you can see the different situations in which one would use them:\n",
    "print(\"AND + OR:\")\n",
    "i = input(\"input a number between 1 and 10\")\n",
    "if int(i) > 10 or int(i) < 1: # i must satisfy one condition\n",
    "    print(\"Your number is not in the range\")\n",
    "if int(i) >= 1 and int(i) <= 10: # i must satisfy both conditions\n",
    "        print(\"Your number is in the range\")"
   ]
  },
  {
   "cell_type": "markdown",
   "metadata": {},
   "source": [
    "# Conditionals\n",
    "\n",
    "- <mark>conditionals</mark>= allow for the expression of algorithims that utilize selection without a programming language\n",
    "    - <mark>selection</mark>- block of code that will execute depending on the algorithim condition returning true or false\n",
    "    - <mark>algorithim</mark>- a finite set of instructions that accomplish a specific task\n",
    "    - <mark>conditional statement(If statement)</mark>- a statement that affects the sequence of control by executing certain statements depending on boolean value (true/false)"
   ]
  },
  {
   "cell_type": "markdown",
   "metadata": {},
   "source": [
    "# Hacks 2\n",
    "### Challenges:"
   ]
  },
  {
   "cell_type": "code",
   "execution_count": 22,
   "metadata": {},
   "outputs": [
    {
     "name": "stdout",
     "output_type": "stream",
     "text": [
      "There are 5 vowels in this string\n"
     ]
    }
   ],
   "source": [
    "# Level 1: Vowel Count\n",
    "\n",
    "userinput = input(\"Type in a string and see how many vowels are in it!\")\n",
    "vowelcount = 0\n",
    "for i in userinput: #this will iterate through each character in the string \n",
    "    if i == \"a\": #if the character has an a, it will add one\n",
    "        vowelcount = vowelcount + 1\n",
    "    if i == \"e\": # if the character has an e, it will add one to the vowel count\n",
    "        vowelcount = vowelcount + 1\n",
    "    if i == \"i\": # if the character is an i, adds one\n",
    "        vowelcount = vowelcount + 1\n",
    "    if i == \"o\": # if the character is an o, adds one\n",
    "        vowelcount = vowelcount + 1\n",
    "    if i == \"u\": # if the character is a u, adds one\n",
    "        vowelcount = vowelcount + 1\n",
    "print(\"There are \" + str(vowelcount) + \" vowels in this string\")"
   ]
  },
  {
   "cell_type": "code",
   "execution_count": 32,
   "metadata": {},
   "outputs": [
    {
     "name": "stdout",
     "output_type": "stream",
     "text": [
      "0 is a multiple of 3\n",
      "3 is a multiple of 3\n",
      "5 is a multiple of 5\n",
      "6 is a multiple of 3\n",
      "9 is a multiple of 3\n",
      "10 is a multiple of 5\n",
      "12 is a multiple of 3\n",
      "The sum of the multiples of 3 and 5 for your input is = 45\n"
     ]
    }
   ],
   "source": [
    "# Level 3: Multiples of 3 or 5\n",
    "\n",
    "usernumber = input(\"please input a number\")\n",
    "multiples_sum = 0\n",
    "\n",
    "if int(usernumber) >= 0: # this will make sure the input is positive\n",
    "    for i in range(int(usernumber)+1): # this will iterate through each number up to the input\n",
    "        if int(i) % 3 == 0: # I used MOD to figure out if the number is a multiple of 3 or 5\n",
    "            multiples_sum += int(i) # this adds the multiple to the count and prints if the number is a multiple\n",
    "            print(str(i) + \" is a multiple of 3\" ) \n",
    "        elif int(i) % 5 == 0: # same as above but for 5\n",
    "            multiples_sum += int(i)\n",
    "            print(str(i) + \" is a multiple of 5\")\n",
    "\n",
    "print(\"The sum of the multiples of 3 and 5 for your input is = \" + str(multiples_sum))\n"
   ]
  },
  {
   "cell_type": "markdown",
   "metadata": {},
   "source": [
    "### Defining the key terms:\n",
    "- selection = \n",
    "- algorithim =\n",
    "- conditional statement = "
   ]
  }
 ],
 "metadata": {
  "kernelspec": {
   "display_name": "Python 3.8.10 64-bit",
   "language": "python",
   "name": "python3"
  },
  "language_info": {
   "codemirror_mode": {
    "name": "ipython",
    "version": 3
   },
   "file_extension": ".py",
   "mimetype": "text/x-python",
   "name": "python",
   "nbconvert_exporter": "python",
   "pygments_lexer": "ipython3",
   "version": "3.8.10"
  },
  "orig_nbformat": 4,
  "vscode": {
   "interpreter": {
    "hash": "916dbcbb3f70747c44a77c7bcd40155683ae19c65e1c03b4aa3499c5328201f1"
   }
  }
 },
 "nbformat": 4,
 "nbformat_minor": 2
}
