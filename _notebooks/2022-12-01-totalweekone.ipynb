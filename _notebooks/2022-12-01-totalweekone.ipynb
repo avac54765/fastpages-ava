{
 "cells": [
  {
   "cell_type": "markdown",
   "metadata": {},
   "source": [
    "# All Lessons Week One\n",
    "> A notebook of all the hacks and activities for week one of lessons.\n",
    "\n",
    "\n",
    "- title: Lessons Week One\n",
    "- toc: true\n",
    "- comments: true\n",
    "- permalink: /lessons/weekone\n",
    "- image: /images/lesson.jpg\n",
    "- categories: [week 14]"
   ]
  },
  {
   "cell_type": "markdown",
   "metadata": {},
   "source": [
    "# Team One Lesson\n",
    "### 3.1-3.2 Data Types, Variables, Lists, Strings, Data Abstraction, Managing Complexity\n",
    "\n",
    "![Leson One Grade]({{site.baseurl}}/images/lessononegrade.png)"
   ]
  },
  {
   "cell_type": "markdown",
   "metadata": {},
   "source": [
    "# Hacks One 1.1 (Data Types and Variables)\n",
    "- This hack below has helped me develop further understanding of the different situations in which you would use integer, string, or boolean variables and how to use them. \n",
    "    - integers are used for numbers \n",
    "    - strings are used for words non-numerical values\n",
    "    - boolean variables are used for describing variables as true or false\n",
    "- Below I have used the three different variable types. I can use this knowledge on the AP test to answer the questions about variable types and identifying them."
   ]
  },
  {
   "cell_type": "code",
   "execution_count": 1,
   "metadata": {},
   "outputs": [
    {
     "name": "stdout",
     "output_type": "stream",
     "text": [
      "This person is 15 and their favorite color is pink\n",
      "This person is alive\n"
     ]
    }
   ],
   "source": [
    "# below are variables that describe a person\n",
    "\n",
    "age = 15  #integer\n",
    "favorite_color = \"pink\" #string\n",
    "alive = True #boolean\n",
    "\n",
    "print(\"This person is \" + str(age) + \" and their favorite color is \" + favorite_color) \n",
    "#having the variables named like this make the variables usable and easily identifiable\n",
    "\n",
    "if alive == True:\n",
    "    print (\"This person is alive\")\n",
    "else:\n",
    "    print (\"This person has passed away\")"
   ]
  },
  {
   "cell_type": "markdown",
   "metadata": {},
   "source": [
    "# Hacks 2 3.1.2 (Variables)\n",
    "- This hack below has futher developed my understanding in variables and how to assign a value to one. I also learned how colledgeboard would represent assignment with variables and how the print function prints the latest value of the variable. I can use this to answer questions on my AP test related to assigning variables in complex algorithims.\n",
    "\n",
    "1. An assignment operator, like the \"=\" in python, assigns a value to a variable. Assignment operators can assign strings, integers, and booleans to variables. This allows for a user to use the variables in various functions.\n",
    "\n",
    "2. In Colledgeboard pseudocode, the symbol \"<--\" is the assignment operator (assigns values to variables).\n",
    "\n",
    "3. The print command will print the latest value of a variable. Due to the value of x being changed to 22, the command will display 22, not 15.\n",
    "\n",
    "\n",
    "# Hacks 3 3.2.1 (List and Strings using Variables)\n",
    "- This hack below has helped me to further develop my understanding of what a list is. Lists have a limited number of values that are in a specific order. I also did not know what an element was but now I know that it is a value within a list. I also learned that indexing is an easy way to access elements in a list. This is very helpful for collegeboard because the AP test has many questions about indexing.\n",
    "- I went above and beyond in this hack to continue to develop my understanding. Instead of just making a simple list, I also created a dictionary of lists, and learned how to index elements within the lists in the dictionary. \n",
    "\n",
    "1. A list is a finite series of ordered values.\n",
    "2. An element is a value within a list.\n",
    "3. An easy way to reference the elements in a list or string is by indexing. You can use the print function to print a specific element in a list.\n",
    "4. An example of a string is \"apple\"."
   ]
  },
  {
   "cell_type": "code",
   "execution_count": 2,
   "metadata": {},
   "outputs": [
    {
     "name": "stdout",
     "output_type": "stream",
     "text": [
      "Goldfish\n",
      "Goldfish\n",
      "['bowtie', 'penne', 'macaroni']\n",
      "milkshake\n",
      "Coke\n"
     ]
    }
   ],
   "source": [
    "favfoods = [\"mac and cheese\", \"pizza\", \"pasta\", \"Goldfish\"] #normal list\n",
    "print(favfoods[3]) #this prints the fourth element (index 3) because in python the index starts at 0\n",
    "print(favfoods[-1]) #This prints the fourth element as well\n",
    "\n",
    "\n",
    "#below is a dictionary of lists to show my understanding\n",
    "\n",
    "awesomefoods = {\n",
    "    \"Pastas\" : [\"bowtie\", \"penne\", \"macaroni\"],\n",
    "    \"Deserts\" : [\"ice cream\", \"cake\", \"cupcakes\", \"milkshake\", \"brownies\", \"pie\"],\n",
    "    \"Drinks\" : [\"Fanta\", \"Shirley Temple\", \"Sprite\", \"Coke\", \"Pepsi\"]\n",
    "}\n",
    "\n",
    "#indexing the elements within the lists within the dictionary\n",
    "print(awesomefoods[\"Pastas\"]) #This will print all the pastas in the pasta list\n",
    "print(awesomefoods[\"Deserts\"][3]) #This will print out the fourth element in the deserts list\n",
    "print(awesomefoods[\"Drinks\"][-2]) #This will print the fourth element in the drinks list\n"
   ]
  },
  {
   "cell_type": "markdown",
   "metadata": {},
   "source": [
    "# Hacks 4 3.2.2 (Data Abstraction with Lists)\n",
    "- This hack has helped me to understand how to add input into a list, define the list, and then use the list to loop through the values and add to them."
   ]
  },
  {
   "cell_type": "code",
   "execution_count": 3,
   "metadata": {},
   "outputs": [
    {
     "name": "stdout",
     "output_type": "stream",
     "text": [
      "[5, 6, 7]\n"
     ]
    }
   ],
   "source": [
    "num1=input(\"Input a number. \")\n",
    "num2=input(\"Input a number. \")\n",
    "num3=input(\"Input a number. \")\n",
    "add=input(\"How much would you like to add? \")\n",
    "\n",
    "# Add code in the space below\n",
    "\n",
    "numlist = [int(num1), int(num2), int(num3)]\n",
    "\n",
    "# The following is the code that adds the inputted addend to the other numbers. It is hidden from the user.\n",
    "\n",
    "for i in numlist:\n",
    "    numlist[i -1] += int(add)\n",
    "\n",
    "print(numlist)"
   ]
  },
  {
   "cell_type": "markdown",
   "metadata": {},
   "source": [
    "# Hacks 5 3.2.3 (Managing Complexity)\n",
    "- This quiz helped me check my understanding for the AP exam on lists and dictionaries. Lists and dictionaries are essential topics on the AP exam."
   ]
  },
  {
   "cell_type": "code",
   "execution_count": 4,
   "metadata": {},
   "outputs": [
    {
     "name": "stdout",
     "output_type": "stream",
     "text": [
      "Hello, avac54765 running /bin/python3\n",
      "You will be asked 4 questions.\n",
      "Question: Are you ready to take a test?\n",
      "Question: The purpose of lists and dictionaries are to manage the ____ of a program\n",
      "complexity is correct!\n",
      "Question: Lists are a form of data ______\n",
      "abstraction is correct!\n",
      "Question: Which brackets are used to assign values to a variable to make a list?\n",
      "[] is correct!\n",
      "avac54765 you scored 3/4\n"
     ]
    }
   ],
   "source": [
    "import getpass, sys\n",
    "\n",
    "def question_with_response(prompt):\n",
    "    print(\"Question: \" + prompt)\n",
    "    msg = input()\n",
    "    return msg\n",
    "\n",
    "questions = 4\n",
    "correct = 0\n",
    "\n",
    "print('Hello, ' + getpass.getuser() + \" running \" + sys.executable)\n",
    "print(\"You will be asked \" + str(questions) + \" questions.\")\n",
    "question_with_response(\"Are you ready to take a test?\")\n",
    "\n",
    "rsp = question_with_response(\"The purpose of lists and dictionaries are to manage the ____ of a program\")\n",
    "if rsp == \"complexity\":\n",
    "    print(rsp + \" is correct!\")\n",
    "    correct += 1\n",
    "else:\n",
    "    print(rsp + \" is incorrect!\")\n",
    "\n",
    "rsp = question_with_response(\"Lists are a form of data ______\")\n",
    "if rsp == \"abstraction\":\n",
    "    print(rsp + \" is correct!\")\n",
    "    correct += 1\n",
    "else:\n",
    "    print(rsp + \" is incorrect!\")\n",
    "\n",
    "rsp = question_with_response(\"Which brackets are used to assign values to a variable to make a list?\")\n",
    "if rsp == \"[]\":\n",
    "    print(rsp + \" is correct!\")\n",
    "    correct += 1\n",
    "else:\n",
    "    print(rsp + \" is incorrect!\") \n",
    "\n",
    "print(getpass.getuser() + \" you scored \" + str(correct) +\"/\" + str(questions))"
   ]
  },
  {
   "cell_type": "markdown",
   "metadata": {},
   "source": [
    "Below is my simplified list of the \"long way\" list. This has shown me how lists make programming much more efficient and make it easier for other programmers to understand. "
   ]
  },
  {
   "cell_type": "code",
   "execution_count": 5,
   "metadata": {},
   "outputs": [
    {
     "name": "stdout",
     "output_type": "stream",
     "text": [
      "['pizza', 'hot dog', 'sushi', 'strawberry', 'sandwich']\n"
     ]
    }
   ],
   "source": [
    "foods = [\"pizza\", \"hot dog\", \"sushi\", \"strawberry\", \"sandwich\"]\n",
    "print(foods)"
   ]
  },
  {
   "cell_type": "markdown",
   "metadata": {},
   "source": [
    "**Question Answered:**\n",
    "Using lists are better for a program, rather than writing out each line of code, because lists manage complexity within a program. It is much easier and saves a lot of time to organize values in a list. Lists also make it easier for other programers to understand a program instead of tracking numerous variables. Writing out each line of code takes a lot of time as well, and can get very tiring as you add more values to a program."
   ]
  },
  {
   "cell_type": "markdown",
   "metadata": {},
   "source": [
    "Below is my list that I have created the slow and efficient way. After this experience I definetely would use the efficient way of creating a list."
   ]
  },
  {
   "cell_type": "code",
   "execution_count": 6,
   "metadata": {},
   "outputs": [
    {
     "name": "stdout",
     "output_type": "stream",
     "text": [
      "Alexa Lydia Jessica Nicole\n",
      "['Alexa', 'Lydia', 'Jessica', 'Nicole']\n"
     ]
    }
   ],
   "source": [
    "# below is a list of my friends the slow and long way\n",
    "friend1 = \"Alexa\"\n",
    "friend2 = \"Lydia\"\n",
    "friend3 = \"Jessica\"\n",
    "friend4 = \"Nicole\"\n",
    "print(friend1, friend2, friend3, friend4)\n",
    "\n",
    "# below is a list of my friends with managed complexity\n",
    "\n",
    "friends = [\"Alexa\", \"Lydia\", \"Jessica\", \"Nicole\"]\n",
    "print(friends)"
   ]
  },
  {
   "cell_type": "markdown",
   "metadata": {},
   "source": [
    "# Team Two Lesson\n",
    "### Algorithims, sequence, selection, iteration, mathmatical expressions, MOD, string concatination"
   ]
  },
  {
   "cell_type": "markdown",
   "metadata": {},
   "source": [
    "# Hack 1 3.3.1\n",
    "- This hack has helped me to check my understanding on the difference between selection, iteration, and sequencing. I remember this topic being challenging to me when we first were given the table for the collegeboard requirements. I can now use this knowlege to make sure I have these requirements in my projects and can now identify these different algorithims on the AP exam.\n",
    "\n",
    "\n",
    "![Hack Prompt]({{site.baseurl}}/images/hackprompt.png)\n",
    "\n",
    "\n",
    "- <u>sequencing:</u> steps one, two, five (specific steps in order)\n",
    "- <u>selection:</u> step three (if statement= two choices)\n",
    "- <u>iteration:</u> step 4 (loop)\n",
    "\n",
    "# Hack 2 \n",
    "- This hack has helped me understand how mathematical expressions are written in python and how MOD works. I can use this knowledge on the AP exam when analyzing different mathematical algorithims in which I have to come up with an output.\n",
    "\n",
    "![Hack 2]({{site.baseurl}}/images/lessontwohacktwo.png)\n",
    "\n",
    "\n",
    "**My work for evaluating the code above:**\n",
    "\n",
    "num 1 = 5\n",
    "num 2 = 15\n",
    "num 3 = 3 * 1 * 4 = 12\n",
    "result = (2 + 15) % 12 * 3/5 = 5 * 3/5 = 3\n",
    "^\n",
    "result = 3\n",
    "\n",
    "**Crossword puzzle answers:**\n",
    "\n",
    "1. iteration\n",
    "2. selection\n",
    "3. sequence\n",
    "\n",
    "# Hack 3 3.4\n",
    "- notes for collegeboard pseudocode:\n",
    "    - len returns the number of characters in the string\n",
    "    - concat returns a single string of str 1 and str 2\n",
    "    - substring (st1, str2, length) returns a substring of the characters from start to length\n",
    "- This hack has helped me to check my understanding with string concatination. Not going to lie, the substring was confusing to me, but this quiz had a question that allowed me to see another example and understand how it worked.\n",
    "\n",
    "![Quiz]({{site.baseurl}}/images/lessontwohackthree.png)"
   ]
  },
  {
   "cell_type": "markdown",
   "metadata": {},
   "source": [
    "# Extras to Further Develop my Understanding\n",
    "\n",
    "Khan Academy is a great resource for learning about programming and the topics we are learning in class. I decided to take two quizzes on Khan Academy about this week's topics:\n",
    "\n",
    "1. A quiz about variables: \n",
    "    - ![Variabes Quiz]({{site.baseurl}}/images/variablesquiz.png)\n",
    "    - This quiz tested my knowledge on variables and how they are assigned\n",
    "    - This quiz reviewed how sequencing works with variables and their assignments.\n",
    "\n",
    "2. A quiz about mathematical expressions:\n",
    "    - ![Math Quiz]({{site.baseurl}}/images/mathquiz.png)\n",
    "    - This quiz tested my knowledge on math expressions. This quiz tested more the logical part of these expressions and the different ways to write code to match the logic. This helped me realize that there is more than one way to write code for different expressions. \n",
    "    - This quiz included MOD, one of the topics that was newer to me this week. I got to see MOD in a more logical and real life situation (example: chocolates being divided amongst people and counting the extras)."
   ]
  }
 ],
 "metadata": {
  "kernelspec": {
   "display_name": "Python 3.8.10 64-bit",
   "language": "python",
   "name": "python3"
  },
  "language_info": {
   "codemirror_mode": {
    "name": "ipython",
    "version": 3
   },
   "file_extension": ".py",
   "mimetype": "text/x-python",
   "name": "python",
   "nbconvert_exporter": "python",
   "pygments_lexer": "ipython3",
   "version": "3.8.10"
  },
  "orig_nbformat": 4,
  "vscode": {
   "interpreter": {
    "hash": "916dbcbb3f70747c44a77c7bcd40155683ae19c65e1c03b4aa3499c5328201f1"
   }
  }
 },
 "nbformat": 4,
 "nbformat_minor": 2
}
