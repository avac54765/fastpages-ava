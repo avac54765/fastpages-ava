{
 "cells": [
  {
   "cell_type": "markdown",
   "metadata": {},
   "source": [
    "# Lesson Six Homework\n",
    "\n",
    "> Lesson six hacks\n",
    "\n",
    "- title: Lesson Six Homework\n",
    "- toc: true\n",
    "- comments: true\n",
    "- permalink: /lessonsix/homework\n",
    "- image: /images/hw.jpg\n",
    "- categories: [week 15]"
   ]
  },
  {
   "cell_type": "markdown",
   "metadata": {},
   "source": [
    "## Hacks\n",
    "### Topic 3.12 (3.A):\n",
    "1. Define **procedure** and **parameter** in your own words\n",
    "2. Paste a **screenshot** of completion of the quiz\n",
    "3. Define **Return Values** and **Output Parameters** in your own words\n",
    "4. Code a **procedure** that finds the square root of any given number. (make sure to call and return the function)\n",
    "\n",
    "\n",
    "### Topic 3.13 (3.B):\n",
    "1. Explain, in your own words, why abstracting away your program logic into separate, modular functions is effective\n",
    "2. Create a procedure that uses other sub-procedures (other functions) within it and explain why the abstraction was needed (conciseness, shared behavior, etc.)\n",
    "3. Add another layer of abstraction to the word counter program (HINT: create a function that can count the number of words starting with ANY character in a given string -- how can we leverage parameters for this?)\n",
    "\n",
    "\n",
    "### Topic 3.13 (3.C):\n",
    "1. Define <font color=\"#ffffc2\" style=\"font-weight: bold\">procedure names</font> and <font color=\"#ffffc2\" style=\"font-weight: bold\">arguments</font> in your own words.\n",
    "2. Code some <font color=\"#ffffc2\" style=\"font-weight: bold\">procedures</font> that use <font color=\"#ffffc2\" style=\"font-weight: bold\">arguments</font> and <font color=\"#ffffc2\" style=\"font-weight: bold\">parameters</font> with Javascript and HTML (make sure they are interactive on your hacks page, allowing the user to input numbers and click a button to produce an output)\n",
    "  - Add two numbers\n",
    "  - Subtract two numbers\n",
    "  - Multiply two numbers\n",
    "  - Divide two numbers"
   ]
  },
  {
   "cell_type": "markdown",
   "metadata": {},
   "source": [
    "# 3.A Hacks:"
   ]
  },
  {
   "cell_type": "markdown",
   "metadata": {},
   "source": [
    "1. A procedure is the way of completing a task by code instructions that can return an output from an input/parameter. A parameter is a variable that follows a function that is used in a function to give an output without actually having an input value. They are used to write the function \"blueprint\".\n",
    "\n",
    "2. <mark>Screenshot of quiz is linked in my review ticket</mark>\n",
    "\n",
    "3. Return values are values that are returned after a return statement. They instruct the program to continue. Output parameters are used to call a function. For example, function(a,b) would be used to call the function, \"function\" with the parameter of a and b.\n",
    "\n",
    "4. Below"
   ]
  },
  {
   "cell_type": "code",
   "execution_count": 6,
   "metadata": {},
   "outputs": [
    {
     "name": "stdout",
     "output_type": "stream",
     "text": [
      "The square root is:  3.0\n",
      "The square root is:  4.0\n",
      "The square root of  36  is  6.0\n"
     ]
    }
   ],
   "source": [
    "#  Hack A number 4\n",
    "import math\n",
    "\n",
    "number = input(\"Input a number you would like to take the square root of\")\n",
    "\n",
    "def square_root(num):\n",
    "    result = math.sqrt(num)\n",
    "    return result\n",
    "\n",
    "square_root_input = square_root(int(number)) # calculates the square root of the input (ex. 36)\n",
    "squareone = square_root(9) # calculates the square root of 9\n",
    "squaretwo = square_root(16) # calculated the square root of 16\n",
    "\n",
    "print('The square root is: ', squareone)\n",
    "print('The square root is: ', squaretwo)\n",
    "print('The square root of ', number, \" is \", square_root_input)"
   ]
  },
  {
   "cell_type": "markdown",
   "metadata": {},
   "source": [
    "# 3.B Hacks"
   ]
  },
  {
   "cell_type": "markdown",
   "metadata": {},
   "source": [
    "1. Abstracting your program into separate, modular functions is a way of simplifying your code so that it can be reused throughout the program without having to be rewritten. Doing this makes programs much more readble by other programers and is easier to debug than programs with duplication. \n",
    "\n",
    "2. below"
   ]
  },
  {
   "cell_type": "code",
   "execution_count": 18,
   "metadata": {},
   "outputs": [
    {
     "name": "stdout",
     "output_type": "stream",
     "text": [
      "Question:  What did you eat for breakfast? Bacon, eggs, or cereal?\n",
      "Your response:  bacon\n",
      "Question:  What did you eat for lunch? A sandwich, mac and cheese, or a lunchable?\n",
      "Your response:  lunchable\n",
      "Question:  What did you eat for dinner? Pizza, pasta, or a salad?\n",
      "Your response:  salad\n",
      "bacon  was not a bad choice\n",
      "lunchable  was not a healthy choice\n",
      "salad  was a healthy choice\n"
     ]
    }
   ],
   "source": [
    "# Hack 3.B #2\n",
    "questionnumber = 3\n",
    "meals = []\n",
    "questions = [\n",
    "    \"What did you eat for breakfast? Bacon, eggs, or cereal?\",\n",
    "    \"What did you eat for lunch? A sandwich, mac and cheese, or a lunchable?\",\n",
    "    \"What did you eat for dinner? Pizza, pasta, or a salad?\"\n",
    "]\n",
    "\n",
    "def mealask(question):\n",
    "    print(\"Question: \", question)\n",
    "    response = input()\n",
    "    print(\"Your response: \", response)\n",
    "    meals.append(response)\n",
    "\n",
    "for number in range(questionnumber):\n",
    "    mealask(questions[number])\n",
    "\n",
    "for i in meals:\n",
    "    if i == \"cereal\" or i == \"lunchable\" or i == \"pizza\":\n",
    "        print(i, \" was not a healthy choice\")\n",
    "    elif i == \"bacon\" or i == \"mac and cheese\" or i == \"pasta\":\n",
    "        print(i, \" was not a bad choice\")\n",
    "    else:\n",
    "        print(i, \" was a healthy choice\")"
   ]
  },
  {
   "cell_type": "markdown",
   "metadata": {},
   "source": [
    "In the algorithim above, abstraction was needed due to shared behaior and conciseness. Without abstraction, I would have had to write all of the questions, their inputs, and the responses out individually. This saved me time and made the code more simple to follow and look at."
   ]
  },
  {
   "cell_type": "markdown",
   "metadata": {},
   "source": [
    "3. below\n",
    "^ <mark> I have also decided to work extra and figure out a way to list the number of words that start with each letter in the alphebet (unless is zero words start with that letter) </mark>"
   ]
  },
  {
   "cell_type": "code",
   "execution_count": 17,
   "metadata": {},
   "outputs": [
    {
     "name": "stdout",
     "output_type": "stream",
     "text": [
      "Words starting with a: 1\n",
      "Words starting with d: 1\n",
      "Words starting with y : 1\n",
      "\n",
      "Checking all letters of alphabet:\n",
      "Words starting with a : 1\n",
      "Words starting with c : 1\n",
      "Words starting with d : 1\n",
      "Words starting with i : 2\n",
      "Words starting with s : 1\n",
      "Words starting with t : 4\n",
      "Words starting with y : 1\n"
     ]
    }
   ],
   "source": [
    "import string\n",
    "# this function takes a string as input and returns a list of words, where each word\n",
    "# is a separate element in the list\n",
    "def split_string(s):\n",
    "    # use the split() method to split the string into a list of words\n",
    "    words = s.split(\" \")\n",
    "\n",
    "\t# initialize a new list to hold all non-empty strings\n",
    "    new_words = []\n",
    "    for word in words:\n",
    "        if word != \"\":\n",
    "            # add all non-empty substrings of `words` to `new_words`\n",
    "            new_words.append(word)\n",
    "    \n",
    "    return words\n",
    "\n",
    "# this function takes a list of words as input and returns the number of words\n",
    "# that start with the given letter (case-insensitive)\n",
    "def count_words_starting_with_letter(words, letter):\n",
    "    count = 0\n",
    "    \n",
    "    # loop through the list of words and check if each word starts with the given letter\n",
    "    for word in words:\n",
    "        # use the lower() method to make the comparison case-insensitive\n",
    "        if word.lower().startswith(letter):\n",
    "            count += 1\n",
    "    \n",
    "    return count\n",
    "\n",
    "# this function takes a string as input and returns the number of words that start with 'a'\n",
    "def count_words_starting_with_a_in_string(s):\n",
    "    # use the split_string() function to split the input string into a list of words\n",
    "    words = split_string(s)\n",
    "    \n",
    "    # use the count_words_starting_with_letter() function to count the number of words\n",
    "    # that start with 'a' in the list of words\n",
    "    count = count_words_starting_with_letter(words, \"a\")\n",
    "    \n",
    "    return count\n",
    "\n",
    "# see above\n",
    "def count_words_starting_with_d_in_string(s):\n",
    "    words = split_string(s)\n",
    "    count = count_words_starting_with_letter(words, \"d\")\n",
    "    return count \n",
    "\n",
    "letter_tested = input(\"What letter would you like to count?\")\n",
    "def count_words_starting_with_input_in_string(s):\n",
    "    words = split_string(s)\n",
    "    count = count_words_starting_with_letter(words, letter_tested)\n",
    "    return count\n",
    "\n",
    "def count_words_starting_with_letter_in_string(s):\n",
    "    words = split_string(s)\n",
    "    count_dictionary = {}\n",
    "    for c in string.ascii_lowercase:\n",
    "        count_dictionary[c] = count_words_starting_with_letter(words, c)\n",
    "    return count_dictionary\n",
    "\n",
    "\n",
    "# example usage:\n",
    "s = \"   This is  a  test  string! Don't you think this is cool? \"\n",
    "a_count = count_words_starting_with_a_in_string(s)\n",
    "d_count = count_words_starting_with_d_in_string(s)\n",
    "letter_count = count_words_starting_with_input_in_string(s)\n",
    "count_dictionary_print = count_words_starting_with_letter_in_string(s)\n",
    "print(\"Words starting with a:\", a_count)\n",
    "print(\"Words starting with d:\", d_count)\n",
    "print(\"Words starting with\", letter_tested,\":\", letter_count)\n",
    "print(\"\\nChecking all letters of alphabet:\")\n",
    "for letter in count_dictionary_print:\n",
    "    if count_dictionary_print[letter] != 0:\n",
    "        print(\"Words starting with\", letter,\":\", count_dictionary_print[letter])\n"
   ]
  },
  {
   "cell_type": "markdown",
   "metadata": {},
   "source": [
    "# Hacks 3.C\n",
    "\n",
    "1. Procedure names are names that describe a function and can be used to call a function. Procedure names make it easier for other programers to identify a function's purpose and use throughout a program. Arguments are within parameters which provide functions with information.\n",
    "\n",
    "2. below"
   ]
  },
  {
   "cell_type": "code",
   "execution_count": 18,
   "metadata": {
    "vscode": {
     "languageId": "html"
    }
   },
   "outputs": [
    {
     "ename": "SyntaxError",
     "evalue": "invalid syntax (3532283975.py, line 1)",
     "output_type": "error",
     "traceback": [
      "\u001b[0;36m  Input \u001b[0;32mIn [18]\u001b[0;36m\u001b[0m\n\u001b[0;31m    <!-- function is called here -->\u001b[0m\n\u001b[0m    ^\u001b[0m\n\u001b[0;31mSyntaxError\u001b[0m\u001b[0;31m:\u001b[0m invalid syntax\n"
     ]
    }
   ],
   "source": [
    "<!-- function is called here -->\n",
    "<button id=\"add\" onclick=\"add\" >Add two numbers</button> \n",
    "<p id=\"result\"></p>\n",
    "<!-- javascript -->\n",
    "<script>\n",
    "    function add {\n",
    "        var inputone = prompt(\"Input a number\")\n",
    "        var inputtwo = prompt(\"Input another number\")\n",
    "        document.getElementById(\"result\").innerHTML = parseInt(inputone) + parseInt(inputtwp) // math\n",
    "    }\n",
    "</script>\n",
    "\n",
    "<button id=\"subtract\" onclick=\"subtract\" >Subtract two numbers</button> \n",
    "<p id=\"resulttwo\"></p>\n",
    "<script>\n",
    "    function subtract {\n",
    "        var inputone = prompt(\"Input a number\")\n",
    "        var inputtwo = prompt(\"Input another number\")\n",
    "        document.getElementById(\"resulttwo\").innerHTML = parseInt(inputone) - parseInt(inputtwp) // math\n",
    "    }\n",
    "</script>\n",
    "<button id=\"multiply\" onclick=\"multiply\" >Multiply two numbers</button> \n",
    "<p id=\"resultthree\"></p>\n",
    "<script>\n",
    "    function multiply {\n",
    "        var inputone = prompt(\"Input a number\")\n",
    "        var inputtwo = prompt(\"Input another number\")\n",
    "        document.getElementById(\"resulttwo\").innerHTML = parseInt(inputone) * parseInt(inputtwp) // math\n",
    "    }\n",
    "</script>\n",
    "<button id=\"Divide\" onclick=\"divide\" >Divide two numbers</button> \n",
    "<p id=\"resultfour\"></p>\n",
    "<script>\n",
    "    function divide {\n",
    "        var inputone = prompt(\"Input a number\")\n",
    "        var inputtwo = prompt(\"Input another number\")\n",
    "        document.getElementById(\"resulttwo\").innerHTML = parseInt(inputone) / parseInt(inputtwp) // math\n",
    "    }\n",
    "</script>"
   ]
  }
 ],
 "metadata": {
  "kernelspec": {
   "display_name": "Python 3.9.12 ('base')",
   "language": "python",
   "name": "python3"
  },
  "language_info": {
   "codemirror_mode": {
    "name": "ipython",
    "version": 3
   },
   "file_extension": ".py",
   "mimetype": "text/x-python",
   "name": "python",
   "nbconvert_exporter": "python",
   "pygments_lexer": "ipython3",
   "version": "3.9.12"
  },
  "orig_nbformat": 4,
  "vscode": {
   "interpreter": {
    "hash": "42f5b33b11979b14a25dfc2f7d362d646347e4d4086716ced9af4a87716b166a"
   }
  }
 },
 "nbformat": 4,
 "nbformat_minor": 2
}
