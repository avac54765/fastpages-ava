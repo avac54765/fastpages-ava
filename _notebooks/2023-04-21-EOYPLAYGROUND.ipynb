{
 "cells": [
  {
   "attachments": {},
   "cell_type": "markdown",
   "metadata": {},
   "source": [
    "# Ava Carlson: P4-M 4/24 Big Idea 3\n",
    "> Lesson about Big Idea 3\n",
    "author: Finn, Edwin, Zeen, Gene, James, Kush, Luka\n",
    "toc: true\n",
    "comments: true\n",
    "week: 30\n",
    "type: ap\n",
    "categories: [student]\n",
    "layout: base"
   ]
  },
  {
   "attachments": {},
   "cell_type": "markdown",
   "metadata": {},
   "source": [
    "## Introduction: Zeen\n",
    "Hello, my name is zeen and today we will be presenting big idea 3. Our topics include 2d arrays, iteration, and lists and dictionaries.\n",
    "\n",
    "### Objectives\n",
    "Master the concepts of iteration, list, 2d-arrays, Dictionaries, and APIs\n",
    "\n",
    "### Vocab\n",
    "Here is some vocab during the lesson, you should be familar with them already no need for me to read these out, now I will pass the speaking off to Kush\n",
    "\n",
    "\n",
    "\n",
    "- **Iteration**: A process that repates itself\n",
    "- **Array**: Sometimes called a list, can keep strings and intergers inside it\n",
    "- **2D-Array**: A collection of data elements arranged in a grid-like structure with rows and columns\n",
    "- **Mutable**:  the ability to be changed or modified \n",
    "- **Key**: A Singular identifier that is associated with a certin value\n"
   ]
  },
  {
   "attachments": {},
   "cell_type": "markdown",
   "metadata": {},
   "source": [
    "## 1: 2D Array\n",
    "> Tic Tac Toe: Kush Sirohi\n",
    "\n",
    "- What are some examples of 2d Arrays\n",
    "- \n",
    "- What is a modern day game that could be classified as a 2D array\n",
    "- "
   ]
  },
  {
   "attachments": {},
   "cell_type": "markdown",
   "metadata": {},
   "source": [
    "## How I used 2D Arrays (game example)\n",
    "- Describe a 2D array in your own words\n",
    "- "
   ]
  },
  {
   "attachments": {},
   "cell_type": "markdown",
   "metadata": {},
   "source": [
    "## 2: Iteration\n",
    "> Robot Game: Finn Carpenter\n",
    "- What is the defenition of iteration in your own words\n",
    "- "
   ]
  },
  {
   "attachments": {},
   "cell_type": "markdown",
   "metadata": {},
   "source": [
    "## Iteration Game\n",
    "- [Link to the game](https://f1nnc.github.io/Playground/robot)\n",
    "- Play the levels (only play the first 2 in class)\n",
    "- Explain how the game relates to itertation\n",
    "- "
   ]
  },
  {
   "attachments": {},
   "cell_type": "markdown",
   "metadata": {},
   "source": [
    "## How I used iteration (game example)\n",
    "- What parts of the code use iteration\n",
    "- "
   ]
  },
  {
   "attachments": {},
   "cell_type": "markdown",
   "metadata": {},
   "source": [
    "## 3: List and Dictionaries\n",
    "> Scramble Game: Edwin \n"
   ]
  },
  {
   "attachments": {},
   "cell_type": "markdown",
   "metadata": {},
   "source": [
    "## How I used a dictonary to make a game\n",
    "> Memory Game: James\n",
    "- [Link](https://f1nnc.github.io/Playground/memory2)\n",
    "- ![Code](https://nighthawkcoders.github.io/APCSP/images/jamescode.png)"
   ]
  },
  {
   "attachments": {},
   "cell_type": "markdown",
   "metadata": {},
   "source": [
    "## How I used List to make a game\n",
    "- Explain which parts of the code use lists\n",
    "- \n",
    "- Explain what list manipulation is happening in that part\n",
    "- "
   ]
  },
  {
   "attachments": {},
   "cell_type": "markdown",
   "metadata": {},
   "source": [
    "# Hacks: Your Score/1\n",
    "\n",
    "\n",
    "## General 0.3\n",
    "- Copy this noteboook into your personal fastpages\n",
    "- Answer all questions\n",
    "    - put the question in a new markdown block (so we can grade faster)\n",
    "\n",
    "## Iteration 0.2 (can get up to 0.23)\n",
    "- Get to level 5\n",
    "    - Take ScreenShots of your name inside the box an put them in your ticket\n",
    "- Create a code segment with iteration that does something cool\n",
    "\n",
    "## 2D array 0.2 (can get up to 0.23)\n",
    "- Explain how the tic tac toe game works\n",
    "- Give 3 Examples of games that can be made from 2D arrays\n",
    "\n",
    "## List and Dictionaries 0.2 (can get up to 0.23)\n",
    "- Explain the differences between Lists and Dictionaries\n",
    "- Make a code block that manipulates either a list or a dictionary"
   ]
  },
  {
   "attachments": {},
   "cell_type": "markdown",
   "metadata": {},
   "source": [
    "# <mark>Answered Questions and Hacks</mark>\n",
    "\n",
    "1. 2D Array:\n",
    "    - What are some examples of 2d Arrays\n",
    "    Some Examples of 2D arrays are:\n",
    "        - [[\"Ice Cream\",\"Calories\",\"Rating\"],[\"Mint Chip\",\"270\",\"10\"],[\"Java Chip\",\"350\",\"8\"],[\"Coffee\",\"170\",\"9\"]]\n",
    "        - [[\"Dance\",\"Calories Burned\",\"Popularity\"],[\"Hip Hop\",\"150\",\"6\"],[\"Ballet\",\"100\",\"9\"]]\n",
    "\n",
    "    - What is a modern day game that could be classified as a 2D array\n",
    "    Chess and checkers are modern day games that are classified and can be implemented as 2D arrays.\n",
    "\n",
    "    - Describe a 2D array in your own words:\n",
    "    A 2D array is when items are organized in a grid-like structure and is implemented by writing lists of similar values in one list.\n",
    "\n",
    "2. Iteration\n",
    "    - What is the definition of iteration in your own words\n",
    "    Iteration is the process of looping code (to simplify) until an end goal is achieved.\n",
    "\n",
    "    - Explain how the game relates to iteration:\n",
    "    The game uses loops to repeat the given steps (up,down,left,right) until it reaches the goal (hitting the dot). The code loops through the directions to move the robot.\n",
    "\n",
    "    -  What parts of the code use iteration\n",
    "    In the code written below this question, iteration is used in the for loops. For every direction given, the code runs through the program until a given condition, or instruction for movement, is completed.\n",
    "\n",
    "3. List and Dictionaries\n",
    "    - Explain which parts of the code use lists\n",
    "    In this card example, there are dictionaries within the list, CardArray. Word list is also a list of words that are used in the unscrambling game in which the program selects one word from to be the scrambled word.\n",
    "\n",
    "    - Explain what list manipulation is happening in that part\n",
    "    In this code segment, the list is being indexed to find the word that has been chosen to be unscrambled. This word is also indexed to give hints about the letters within\n",
    "\n",
    "## Iteration 0.2 (can get up to 0.23)\n",
    "- Get to level 5\n",
    "    - Take ScreenShots of your name inside the box an put them in your ticket\n",
    "\n",
    "Level One:\n",
    "<img width=\"1112\" alt=\"levelone\" src=\"https://user-images.githubusercontent.com/111486111/234077685-2f9c1a68-8048-47ec-85c4-f60d3d93b928.png\">\n",
    "\n",
    "Level Two:\n",
    "<img width=\"1115\" alt=\"leveltwo\" src=\"https://user-images.githubusercontent.com/111486111/234077703-cd97af0c-0434-443e-ab12-3d3b3884c6ee.png\">\n",
    "\n",
    "Level Three:\n",
    "<img width=\"1114\" alt=\"levelthree\" src=\"https://user-images.githubusercontent.com/111486111/234077717-114f3a9d-90df-4dfe-9d80-c07789327c5c.png\">\n",
    "\n",
    "Level Four:\n",
    "<img width=\"1116\" alt=\"levelfour\" src=\"https://user-images.githubusercontent.com/111486111/234077741-6b71ed39-b956-407b-acc5-c5ba832994dd.png\">\n",
    "\n",
    "Level Five:\n",
    "<img width=\"1114\" alt=\"levelfive\" src=\"https://user-images.githubusercontent.com/111486111/234077759-4fe2ac16-6d79-4ed0-8f3c-bf97f765910f.png\">\n",
    "\n",
    "\n",
    "- Create a code segment with iteration that does something cool\n",
    " Below:\n"
   ]
  },
  {
   "cell_type": "code",
   "execution_count": 7,
   "metadata": {},
   "outputs": [
    {
     "name": "stdout",
     "output_type": "stream",
     "text": [
      "vanilla\n",
      "chocolate\n",
      "strawberry\n",
      "mint chocolate chip\n",
      "v\n",
      "c\n",
      "s\n",
      "m\n"
     ]
    }
   ],
   "source": [
    "# Iteration segment with ice cream flavors\n",
    " \n",
    "flavors = ['vanilla', 'chocolate', 'strawberry', 'mint chocolate chip']\n",
    "\n",
    "# Iterate through list to print\n",
    "for flavor in flavors:\n",
    "    print(flavor)\n",
    "\n",
    "# This prints the first letter only\n",
    "for flavor in flavors:\n",
    "    print(flavor[0])"
   ]
  },
  {
   "attachments": {},
   "cell_type": "markdown",
   "metadata": {},
   "source": [
    "## 2D array 0.2 (can get up to 0.23)\n",
    "- Explain how the tic tac toe game works\n",
    "The tic tac tow game works by creating a 2D array of am empty board. The board is randomly generated by manipulating the empty board and adding values. The game then iterates through the game program and checks for ties and wins. The program will continue to iterate through until the game is over. \n",
    "\n",
    "- Give 3 Examples of games that can be made from 2D arrays\n",
    "Three examples of games that can be made from 2D arrays are chess, checkers, and connect 4. \n",
    "\n",
    "## List and Dictionaries 0.2 (can get up to 0.23)\n",
    "- Explain the differences between Lists and Dictionaries\n",
    "Lists or arrays only contain items, while dictionaries contain keys and values. Although, lists can contain dictionaries and dictionaries can contain lists. Lists are written using [], and dictionaries use {}. Lists are more flexible with the types of data they contain as well. Both are able to be indexed, either by index numbers or key values. \n",
    "\n",
    "- Make a code block that manipulates either a list or a dictionary.\n",
    "below:\n"
   ]
  },
  {
   "cell_type": "code",
   "execution_count": 8,
   "metadata": {},
   "outputs": [
    {
     "name": "stdout",
     "output_type": "stream",
     "text": [
      "{'vanilla': 2.0, 'chocolate': 2.5, 'strawberry': 3.0, 'mint chocolate chip': 3.5, 'caramel': 4.0}\n",
      "{'chocolate': 2.5, 'strawberry': 3.0, 'mint chocolate chip': 3.5, 'caramel': 4.0}\n",
      "{'chocolate': 3.0, 'strawberry': 3.0, 'mint chocolate chip': 3.5, 'caramel': 4.0}\n"
     ]
    }
   ],
   "source": [
    "# Manipulating a dictionary of ice cream flavors and their prices\n",
    "\n",
    "flavors = {'vanilla': 2.0, 'chocolate': 2.5, 'strawberry': 3.0, 'mint chocolate chip': 3.5}\n",
    "\n",
    "# Add a new flavor and its price to the dictionary\n",
    "flavors['caramel'] = 4.0\n",
    "print(flavors)\n",
    "\n",
    "del flavors['vanilla']\n",
    "print(flavors)\n",
    "\n",
    "flavors['chocolate'] = 3.0\n",
    "print(flavors)"
   ]
  }
 ],
 "metadata": {
  "kernelspec": {
   "display_name": "base",
   "language": "python",
   "name": "python3"
  },
  "language_info": {
   "codemirror_mode": {
    "name": "ipython",
    "version": 3
   },
   "file_extension": ".py",
   "mimetype": "text/x-python",
   "name": "python",
   "nbconvert_exporter": "python",
   "pygments_lexer": "ipython3",
   "version": "3.9.12"
  },
  "orig_nbformat": 4
 },
 "nbformat": 4,
 "nbformat_minor": 2
}
